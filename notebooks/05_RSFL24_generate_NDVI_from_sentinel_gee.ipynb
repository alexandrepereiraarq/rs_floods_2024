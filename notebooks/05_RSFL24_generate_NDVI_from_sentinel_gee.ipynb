{
 "cells": [
  {
   "cell_type": "markdown",
   "metadata": {},
   "source": [
    "### Authorship\n",
    "@author: Alexandre Pereira Santos <br>\n",
    "alexandre.santos(at)lmu.de<br>\n",
    "- many scripts in this notebook com from geemap (see below)\n",
    "\n",
    "### Tasks\n",
    "- get Global Human Settlement Layer population estimates data using the Google Earth Engine functionalities\n",
    "- clip it to an AOI\n",
    "\n",
    "### Prerequisites\n",
    "- earth engine api (ee) https://developers.google.com/earth-engine/apidocs\n",
    "- gee map (gee), https://geemap.org/ by Qiusheng Wu\n",
    "- create an account and a Google Cloud project in Google Developer, see here: https://developers.google.com/earth-engine/guides/auth\n",
    "\n",
    "# init"
   ]
  },
  {
   "cell_type": "code",
   "execution_count": 1,
   "metadata": {},
   "outputs": [],
   "source": [
    "import ee\n",
    "import geemap\n",
    "from pathlib import Path\n",
    "import geopandas as gpd\n",
    "import matplotlib.pyplot as plt\n",
    "import matplotlib.dates as mdates\n",
    "import os\n",
    "\n",
    "# extract coordinates from the bounding box\n",
    "def get_coords(gdf):\n",
    "    coords = gdf.to_crs(epsg='4326').envelope\n",
    "    epsg_coords = coords.crs.to_epsg()\n",
    "    transform = [coords.bounds.values[0][0], coords.bounds.values[0][1], coords.bounds.values[0][2], coords.bounds.values[0][3]]\n",
    "    roi = ee.Geometry.BBox(west=transform[0], south=transform[1], east=transform[2], north=transform[3])\n",
    "    rec_roi = ee.Geometry.Rectangle(transform[0],transform[1],transform[2],transform[3])\n",
    "    coi = roi.centroid(maxError=1)\n",
    "    return epsg_coords, roi, rec_roi, coi\n",
    "\n",
    "# define a function that exports the image to Google Drive\n",
    "def gee_to_tiff(input_layer, out_folder, output_filename, roi):\n",
    "    projection = input_layer.projection().getInfo()\n",
    "    \n",
    "    try:\n",
    "        if not os.path.exists(out_folder):\n",
    "            os.mkdir(out_folder)\n",
    "        \n",
    "        # Export a GEE layer to raster Gtiff\n",
    "        geemap.ee_export_image_to_drive(\n",
    "            input_layer,\n",
    "            description=output_filename,\n",
    "            folder=out_folder,\n",
    "            maxPixels=1e13, #ressamples to a low resolution\n",
    "            region = roi,\n",
    "            crs = projection['crs'],\n",
    "            fileFormat = 'GeoTIFF',\n",
    "            scale = 10           \n",
    "        )\n",
    "        #raster = \n",
    "        #return raster\n",
    "    except Exception as e:\n",
    "        print(\"An error has occurred:\", e)"
   ]
  },
  {
   "cell_type": "markdown",
   "metadata": {},
   "source": [
    "# "
   ]
  },
  {
   "cell_type": "code",
   "execution_count": 19,
   "metadata": {},
   "outputs": [
    {
     "data": {
      "text/html": [
       "\n",
       "            <style>\n",
       "                .geemap-dark {\n",
       "                    --jp-widgets-color: white;\n",
       "                    --jp-widgets-label-color: white;\n",
       "                    --jp-ui-font-color1: white;\n",
       "                    --jp-layout-color2: #454545;\n",
       "                    background-color: #383838;\n",
       "                }\n",
       "\n",
       "                .geemap-dark .jupyter-button {\n",
       "                    --jp-layout-color3: #383838;\n",
       "                }\n",
       "\n",
       "                .geemap-colab {\n",
       "                    background-color: var(--colab-primary-surface-color, white);\n",
       "                }\n",
       "\n",
       "                .geemap-colab .jupyter-button {\n",
       "                    --jp-layout-color3: var(--colab-primary-surface-color, white);\n",
       "                }\n",
       "            </style>\n",
       "            "
      ],
      "text/plain": [
       "<IPython.core.display.HTML object>"
      ]
     },
     "metadata": {},
     "output_type": "display_data"
    },
    {
     "name": "stdout",
     "output_type": "stream",
     "text": [
      "0.1.406\n"
     ]
    }
   ],
   "source": [
    "# Authenticate and initialize Earth Engine\n",
    "ee.Authenticate()\n",
    "ee.Initialize(project='ee-alexandresantosgeographie') # Replace with your GEE project\n",
    "\n",
    "print(ee.__version__)"
   ]
  },
  {
   "cell_type": "code",
   "execution_count": 7,
   "metadata": {},
   "outputs": [
    {
     "data": {
      "text/html": [
       "\n",
       "            <style>\n",
       "                .geemap-dark {\n",
       "                    --jp-widgets-color: white;\n",
       "                    --jp-widgets-label-color: white;\n",
       "                    --jp-ui-font-color1: white;\n",
       "                    --jp-layout-color2: #454545;\n",
       "                    background-color: #383838;\n",
       "                }\n",
       "\n",
       "                .geemap-dark .jupyter-button {\n",
       "                    --jp-layout-color3: #383838;\n",
       "                }\n",
       "\n",
       "                .geemap-colab {\n",
       "                    background-color: var(--colab-primary-surface-color, white);\n",
       "                }\n",
       "\n",
       "                .geemap-colab .jupyter-button {\n",
       "                    --jp-layout-color3: var(--colab-primary-surface-color, white);\n",
       "                }\n",
       "            </style>\n",
       "            "
      ],
      "text/plain": [
       "<IPython.core.display.HTML object>"
      ]
     },
     "metadata": {},
     "output_type": "display_data"
    },
    {
     "name": "stdout",
     "output_type": "stream",
     "text": [
      "None\n"
     ]
    }
   ],
   "source": [
    "# check if the authentication is working\n",
    "print(ee.Image(\"JRC/GHSL/P2023A/GHS_POP/1975\").get(\"smod_code\").getInfo())"
   ]
  },
  {
   "cell_type": "markdown",
   "metadata": {},
   "source": [
    "# imports"
   ]
  },
  {
   "cell_type": "code",
   "execution_count": 20,
   "metadata": {},
   "outputs": [
    {
     "data": {
      "text/html": [
       "\n",
       "            <style>\n",
       "                .geemap-dark {\n",
       "                    --jp-widgets-color: white;\n",
       "                    --jp-widgets-label-color: white;\n",
       "                    --jp-ui-font-color1: white;\n",
       "                    --jp-layout-color2: #454545;\n",
       "                    background-color: #383838;\n",
       "                }\n",
       "\n",
       "                .geemap-dark .jupyter-button {\n",
       "                    --jp-layout-color3: #383838;\n",
       "                }\n",
       "\n",
       "                .geemap-colab {\n",
       "                    background-color: var(--colab-primary-surface-color, white);\n",
       "                }\n",
       "\n",
       "                .geemap-colab .jupyter-button {\n",
       "                    --jp-layout-color3: var(--colab-primary-surface-color, white);\n",
       "                }\n",
       "            </style>\n",
       "            "
      ],
      "text/plain": [
       "<IPython.core.display.HTML object>"
      ]
     },
     "metadata": {},
     "output_type": "display_data"
    },
    {
     "name": "stdout",
     "output_type": "stream",
     "text": [
      "EPSG:4326 EPSG:4326\n"
     ]
    }
   ],
   "source": [
    "#input a vector and a raster file\n",
    "AOI_path = Path('../data/processed/')\n",
    "\n",
    "AOI_file = 'LIM_rs_floods_2024_bbox_basins_A.shp' # AOI for the affected area, includes the watersheds Taquari, Alto e Baixo Jacui, Pardo, Vacacaí, Gravatai, Sinos, Caí, and Guaíba\n",
    "\n",
    "mun_path = Path('../data/external/')\n",
    "mun_file = 'LIM_RS_municipalites_2022_A.shp' # municipalities in RS\n",
    "\n",
    "#read the vector files\n",
    "AOI_gdf = gpd.read_file(AOI_path/AOI_file).to_crs(epsg=4326)\n",
    "mun_gdf = gpd.read_file(mun_path/mun_file).to_crs(epsg=4326)\n",
    "\n",
    "aoi_coords, aoi_roi, aoi_rec_roi, aoi_coi = get_coords(AOI_gdf)\n",
    "mun_coords, mun_roi, mun_rec_roi, mun_coi = get_coords(mun_gdf)\n",
    "\n",
    "# get the coordinates\n",
    "print(AOI_gdf.crs, mun_gdf.crs)"
   ]
  },
  {
   "cell_type": "code",
   "execution_count": 21,
   "metadata": {},
   "outputs": [
    {
     "data": {
      "text/html": [
       "\n",
       "            <style>\n",
       "                .geemap-dark {\n",
       "                    --jp-widgets-color: white;\n",
       "                    --jp-widgets-label-color: white;\n",
       "                    --jp-ui-font-color1: white;\n",
       "                    --jp-layout-color2: #454545;\n",
       "                    background-color: #383838;\n",
       "                }\n",
       "\n",
       "                .geemap-dark .jupyter-button {\n",
       "                    --jp-layout-color3: #383838;\n",
       "                }\n",
       "\n",
       "                .geemap-colab {\n",
       "                    background-color: var(--colab-primary-surface-color, white);\n",
       "                }\n",
       "\n",
       "                .geemap-colab .jupyter-button {\n",
       "                    --jp-layout-color3: var(--colab-primary-surface-color, white);\n",
       "                }\n",
       "            </style>\n",
       "            "
      ],
      "text/plain": [
       "<IPython.core.display.HTML object>"
      ]
     },
     "metadata": {},
     "output_type": "display_data"
    }
   ],
   "source": [
    "# methods from https://www.geo.fu-berlin.de/en/v/geo-it/gee/2-monitoring-ndvi-nbr/2-2-calculating-indices/ndvi-s2/index.html\n",
    "\n",
    "def roi_ndvi(aoi_gdf):\n",
    "    aoi_coords = aoi_gdf.to_crs(epsg='4326').envelope\n",
    "    #print('N',aoi_coords.bounds.values[0][3],'S',aoi_coords.bounds.values[0][1],'W',aoi_coords.bounds.values[0][0],'E',aoi_coords.bounds.values[0][2])\n",
    "    transform = [aoi_coords.bounds.values[0][0], aoi_coords.bounds.values[0][1], aoi_coords.bounds.values[0][2], aoi_coords.bounds.values[0][3]]\n",
    "    roi = ee.Geometry.BBox(west=transform[0], south=transform[1], east=transform[2], north=transform[3])\n",
    "    \n",
    "    s2=ee.ImageCollection(\"COPERNICUS/S2_SR_HARMONIZED\").filterBounds(roi).filterDate('2023-01-01', '2024-05-30').filter(ee.Filter.lt('CLOUDY_PIXEL_PERCENTAGE', 7)).median()\n",
    "    # Use median to reduce noise and clouds\n",
    "\n",
    "    # Calculate NDVI\n",
    "    ndvi = s2.normalizedDifference(['B8', 'B4']).rename('NDVI')  \n",
    "\n",
    "    return ndvi"
   ]
  },
  {
   "cell_type": "code",
   "execution_count": 23,
   "metadata": {},
   "outputs": [
    {
     "data": {
      "text/html": [
       "\n",
       "            <style>\n",
       "                .geemap-dark {\n",
       "                    --jp-widgets-color: white;\n",
       "                    --jp-widgets-label-color: white;\n",
       "                    --jp-ui-font-color1: white;\n",
       "                    --jp-layout-color2: #454545;\n",
       "                    background-color: #383838;\n",
       "                }\n",
       "\n",
       "                .geemap-dark .jupyter-button {\n",
       "                    --jp-layout-color3: #383838;\n",
       "                }\n",
       "\n",
       "                .geemap-colab {\n",
       "                    background-color: var(--colab-primary-surface-color, white);\n",
       "                }\n",
       "\n",
       "                .geemap-colab .jupyter-button {\n",
       "                    --jp-layout-color3: var(--colab-primary-surface-color, white);\n",
       "                }\n",
       "            </style>\n",
       "            "
      ],
      "text/plain": [
       "<IPython.core.display.HTML object>"
      ]
     },
     "metadata": {},
     "output_type": "display_data"
    },
    {
     "data": {
      "application/vnd.jupyter.widget-view+json": {
       "model_id": "381fb113e3534b18a250f2f39082d2d0",
       "version_major": 2,
       "version_minor": 0
      },
      "text/plain": [
       "Map(center=[-29.473686646032423, -52.23468725999999], controls=(WidgetControl(options=['position', 'transparen…"
      ]
     },
     "execution_count": 23,
     "metadata": {},
     "output_type": "execute_result"
    }
   ],
   "source": [
    "aoi_ndvi = roi_ndvi(AOI_gdf)\n",
    "\n",
    "# Define visualization parameters\n",
    "ndviParams = {min: 0,max: 1,'palette': ['blue', 'white', 'green']}\n",
    "\n",
    "Map = geemap.Map()\n",
    "# Visualize the NDVI\n",
    "Map.centerObject(aoi_roi, 8)\n",
    "Map.addLayer(aoi_ndvi.clip(aoi_roi), ndviParams, 'NDVI')\n",
    "Map"
   ]
  },
  {
   "cell_type": "code",
   "execution_count": 9,
   "metadata": {},
   "outputs": [
    {
     "data": {
      "text/html": [
       "\n",
       "            <style>\n",
       "                .geemap-dark {\n",
       "                    --jp-widgets-color: white;\n",
       "                    --jp-widgets-label-color: white;\n",
       "                    --jp-ui-font-color1: white;\n",
       "                    --jp-layout-color2: #454545;\n",
       "                    background-color: #383838;\n",
       "                }\n",
       "                    \n",
       "                .geemap-dark .jupyter-button {\n",
       "                    --jp-layout-color3: #383838;\n",
       "                }\n",
       "                \n",
       "                .geemap-colab {\n",
       "                    background-color: var(--colab-primary-surface-color, white);\n",
       "                }\n",
       "                    \n",
       "                .geemap-colab .jupyter-button {\n",
       "                    --jp-layout-color3: var(--colab-primary-surface-color, white);\n",
       "                }\n",
       "            </style>\n",
       "            "
      ],
      "text/plain": [
       "<IPython.core.display.HTML object>"
      ]
     },
     "metadata": {},
     "output_type": "display_data"
    }
   ],
   "source": [
    "aoi_coords = AOI_gdf_JAK.to_crs(epsg='4326').envelope\n",
    "#print('N',aoi_coords.bounds.values[0][3],'S',aoi_coords.bounds.values[0][1],'W',aoi_coords.bounds.values[0][0],'E',aoi_coords.bounds.values[0][2])\n",
    "transform = [aoi_coords.bounds.values[0][0], aoi_coords.bounds.values[0][1], aoi_coords.bounds.values[0][2], aoi_coords.bounds.values[0][3]]\n",
    "roi = ee.Geometry.BBox(west=transform[0], south=transform[1], east=transform[2], north=transform[3])\n",
    "rec_roi = ee.Geometry.Rectangle(transform[0],transform[1],transform[2],transform[3])\n",
    "coi = roi.centroid(maxError=1)"
   ]
  },
  {
   "cell_type": "code",
   "execution_count": 18,
   "metadata": {},
   "outputs": [
    {
     "data": {
      "text/html": [
       "\n",
       "            <style>\n",
       "                .geemap-dark {\n",
       "                    --jp-widgets-color: white;\n",
       "                    --jp-widgets-label-color: white;\n",
       "                    --jp-ui-font-color1: white;\n",
       "                    --jp-layout-color2: #454545;\n",
       "                    background-color: #383838;\n",
       "                }\n",
       "                    \n",
       "                .geemap-dark .jupyter-button {\n",
       "                    --jp-layout-color3: #383838;\n",
       "                }\n",
       "                \n",
       "                .geemap-colab {\n",
       "                    background-color: var(--colab-primary-surface-color, white);\n",
       "                }\n",
       "                    \n",
       "                .geemap-colab .jupyter-button {\n",
       "                    --jp-layout-color3: var(--colab-primary-surface-color, white);\n",
       "                }\n",
       "            </style>\n",
       "            "
      ],
      "text/plain": [
       "<IPython.core.display.HTML object>"
      ]
     },
     "metadata": {},
     "output_type": "display_data"
    },
    {
     "data": {
      "application/vnd.jupyter.widget-view+json": {
       "model_id": "a884b83b3dcb482c94fed82902f9bf40",
       "version_major": 2,
       "version_minor": 0
      },
      "text/plain": [
       "Map(center=[-6.356093939017252, 106.7482247859414], controls=(WidgetControl(options=['position', 'transparent_…"
      ]
     },
     "execution_count": 18,
     "metadata": {},
     "output_type": "execute_result"
    }
   ],
   "source": [
    "# defining EE collection\n",
    "# Sentinel-2 L2A Harmonized collection\n",
    "\n",
    "# code based on https://developers.google.com/earth-engine/datasets/catalog/JRC_GHSL_P2023A_GHS_POP\n",
    "\n",
    "Map = geemap.Map()\n",
    "Map.centerObject(coi, zoom=9)\n",
    "\n",
    "s2=ee.ImageCollection(\"COPERNICUS/S2_SR_HARMONIZED\").filterBounds(roi).filterDate('2023-01-01', '2024-05-30').filter(ee.Filter.lt('CLOUDY_PIXEL_PERCENTAGE', 7)).median()\n",
    "# Use median to reduce noise and clouds\n",
    "\n",
    "# Calculate NDVI\n",
    "ndvi = s2.normalizedDifference(['B8', 'B4']).rename('NDVI')\n",
    "\n",
    "# Define visualization parameters\n",
    "ndviParams = {min: 0,max: 1,'palette': ['blue', 'white', 'green']}\n",
    "\n",
    "# Visualize the NDVI\n",
    "Map.centerObject(roi, 10)\n",
    "Map.addLayer(ndvi.clip(roi), ndviParams, 'NDVI')\n",
    "#Map.addLayer(roi, {'color': 'red'}, 'AOI')\n",
    "Map"
   ]
  },
  {
   "cell_type": "code",
   "execution_count": 19,
   "metadata": {},
   "outputs": [
    {
     "data": {
      "text/html": [
       "\n",
       "            <style>\n",
       "                .geemap-dark {\n",
       "                    --jp-widgets-color: white;\n",
       "                    --jp-widgets-label-color: white;\n",
       "                    --jp-ui-font-color1: white;\n",
       "                    --jp-layout-color2: #454545;\n",
       "                    background-color: #383838;\n",
       "                }\n",
       "                    \n",
       "                .geemap-dark .jupyter-button {\n",
       "                    --jp-layout-color3: #383838;\n",
       "                }\n",
       "                \n",
       "                .geemap-colab {\n",
       "                    background-color: var(--colab-primary-surface-color, white);\n",
       "                }\n",
       "                    \n",
       "                .geemap-colab .jupyter-button {\n",
       "                    --jp-layout-color3: var(--colab-primary-surface-color, white);\n",
       "                }\n",
       "            </style>\n",
       "            "
      ],
      "text/plain": [
       "<IPython.core.display.HTML object>"
      ]
     },
     "metadata": {},
     "output_type": "display_data"
    },
    {
     "name": "stdout",
     "output_type": "stream",
     "text": [
      "{'type': 'Projection', 'crs': 'EPSG:4326', 'transform': [1, 0, 0, 0, 1, 0]}\n"
     ]
    }
   ],
   "source": [
    "projection = JAK_coi.projection().getInfo()\n",
    "print(projection)"
   ]
  },
  {
   "cell_type": "code",
   "execution_count": 17,
   "metadata": {},
   "outputs": [
    {
     "data": {
      "text/html": [
       "\n",
       "            <style>\n",
       "                .geemap-dark {\n",
       "                    --jp-widgets-color: white;\n",
       "                    --jp-widgets-label-color: white;\n",
       "                    --jp-ui-font-color1: white;\n",
       "                    --jp-layout-color2: #454545;\n",
       "                    background-color: #383838;\n",
       "                }\n",
       "\n",
       "                .geemap-dark .jupyter-button {\n",
       "                    --jp-layout-color3: #383838;\n",
       "                }\n",
       "\n",
       "                .geemap-colab {\n",
       "                    background-color: var(--colab-primary-surface-color, white);\n",
       "                }\n",
       "\n",
       "                .geemap-colab .jupyter-button {\n",
       "                    --jp-layout-color3: var(--colab-primary-surface-color, white);\n",
       "                }\n",
       "            </style>\n",
       "            "
      ],
      "text/plain": [
       "<IPython.core.display.HTML object>"
      ]
     },
     "metadata": {},
     "output_type": "display_data"
    }
   ],
   "source": [
    "#aoi_clip = aoi_ndvi.clip(aoi_rec_roi).unmask()\n",
    "export = gee_to_tiff(aoi_ndvi, 'data', 'RSFL24_ENV_NDVI_2023_AOI', aoi_rec_roi)"
   ]
  }
 ],
 "metadata": {
  "kernelspec": {
   "display_name": "Python 3",
   "language": "python",
   "name": "python3"
  },
  "language_info": {
   "codemirror_mode": {
    "name": "ipython",
    "version": 3
   },
   "file_extension": ".py",
   "mimetype": "text/x-python",
   "name": "python",
   "nbconvert_exporter": "python",
   "pygments_lexer": "ipython3",
   "version": "3.12.3"
  }
 },
 "nbformat": 4,
 "nbformat_minor": 2
}
