{
 "cells": [
  {
   "cell_type": "markdown",
   "metadata": {},
   "source": [
    "# init\n",
    "@author: Alexandre Pereira Santos <br>\n",
    "alexandre.santos(at)lmu.de\n",
    "\n",
    "## Tasks\n",
    "- select flooded area from polygonised raster\n",
    "- select street tracts within the flooded area\n",
    "- select buildings within the flooded area\n",
    "- export buildings and street tracts as shapefiles\n",
    "- export street tracts as CSV list\n",
    "\n",
    "## Prerequisites\n",
    "- have osmnx and geopandas installed\n",
    "- have flooded area as a vectorised polygon (shapefile or geopackage)"
   ]
  },
  {
   "cell_type": "markdown",
   "metadata": {},
   "source": [
    "## imports"
   ]
  },
  {
   "cell_type": "code",
   "execution_count": null,
   "metadata": {},
   "outputs": [],
   "source": []
  }
 ],
 "metadata": {
  "kernelspec": {
   "display_name": "Python 3",
   "language": "python",
   "name": "python3"
  },
  "language_info": {
   "codemirror_mode": {
    "name": "ipython",
    "version": 3
   },
   "file_extension": ".py",
   "mimetype": "text/x-python",
   "name": "python",
   "nbconvert_exporter": "python",
   "pygments_lexer": "ipython3",
   "version": "3.11.9"
  }
 },
 "nbformat": 4,
 "nbformat_minor": 2
}
