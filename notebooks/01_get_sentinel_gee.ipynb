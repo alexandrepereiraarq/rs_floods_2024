{
 "cells": [
  {
   "cell_type": "markdown",
   "metadata": {},
   "source": [
    "### Authorship\n",
    "@author: Alexandre Pereira Santos <br>\n",
    "alexandre.santos(at)lmu.de<br>\n",
    "- many scripts in this notebook com from geemap (see below)\n",
    "\n",
    "### Tasks\n",
    "- get Sentinel2 data using the Google Earth Engine functionalities\n",
    "- clip it to an AOI\n",
    "\n",
    "### Prerequisites\n",
    "- earth engine api (ee) https://developers.google.com/earth-engine/apidocs\n",
    "- gee map (gee), https://geemap.org/ by Qiusheng Wu\n",
    "- create an account and a Google Cloud project in Google Developer, see here: https://developers.google.com/earth-engine/guides/auth\n",
    "\n",
    "# init"
   ]
  },
  {
   "cell_type": "code",
   "execution_count": 1,
   "metadata": {},
   "outputs": [],
   "source": [
    "import ee\n",
    "import geemap\n",
    "from pathlib import Path\n",
    "import geopandas as gpd\n",
    "import matplotlib.pyplot as plt\n",
    "import matplotlib.dates as mdates"
   ]
  },
  {
   "cell_type": "markdown",
   "metadata": {},
   "source": [
    "# "
   ]
  },
  {
   "cell_type": "code",
   "execution_count": 2,
   "metadata": {},
   "outputs": [
    {
     "data": {
      "text/html": [
       "\n",
       "            <style>\n",
       "                .geemap-dark {\n",
       "                    --jp-widgets-color: white;\n",
       "                    --jp-widgets-label-color: white;\n",
       "                    --jp-ui-font-color1: white;\n",
       "                    --jp-layout-color2: #454545;\n",
       "                    background-color: #383838;\n",
       "                }\n",
       "                    \n",
       "                .geemap-dark .jupyter-button {\n",
       "                    --jp-layout-color3: #383838;\n",
       "                }\n",
       "                \n",
       "                .geemap-colab {\n",
       "                    background-color: var(--colab-primary-surface-color, white);\n",
       "                }\n",
       "                    \n",
       "                .geemap-colab .jupyter-button {\n",
       "                    --jp-layout-color3: var(--colab-primary-surface-color, white);\n",
       "                }\n",
       "            </style>\n",
       "            "
      ],
      "text/plain": [
       "<IPython.core.display.HTML object>"
      ]
     },
     "metadata": {},
     "output_type": "display_data"
    },
    {
     "name": "stdout",
     "output_type": "stream",
     "text": [
      "0.1.388\n"
     ]
    }
   ],
   "source": [
    "# Authenticate and initialize Earth Engine\n",
    "ee.Authenticate()\n",
    "ee.Initialize(project='ee-alexandresantosgeographie') # Replace with your GEE project\n",
    "print(ee.__version__)"
   ]
  },
  {
   "cell_type": "code",
   "execution_count": 3,
   "metadata": {},
   "outputs": [
    {
     "data": {
      "text/html": [
       "\n",
       "            <style>\n",
       "                .geemap-dark {\n",
       "                    --jp-widgets-color: white;\n",
       "                    --jp-widgets-label-color: white;\n",
       "                    --jp-ui-font-color1: white;\n",
       "                    --jp-layout-color2: #454545;\n",
       "                    background-color: #383838;\n",
       "                }\n",
       "                    \n",
       "                .geemap-dark .jupyter-button {\n",
       "                    --jp-layout-color3: #383838;\n",
       "                }\n",
       "                \n",
       "                .geemap-colab {\n",
       "                    background-color: var(--colab-primary-surface-color, white);\n",
       "                }\n",
       "                    \n",
       "                .geemap-colab .jupyter-button {\n",
       "                    --jp-layout-color3: var(--colab-primary-surface-color, white);\n",
       "                }\n",
       "            </style>\n",
       "            "
      ],
      "text/plain": [
       "<IPython.core.display.HTML object>"
      ]
     },
     "metadata": {},
     "output_type": "display_data"
    }
   ],
   "source": [
    "#defining filter funcions for Sentinel data\n",
    "#code from https://developers.google.com/earth-engine/datasets/catalog/COPERNICUS_S2_SR_HARMONIZED#colab-python\n",
    "\n",
    "def mask_s2_clouds(image):\n",
    "  \"\"\"Masks clouds in a Sentinel-2 image using the QA band.\n",
    "\n",
    "  Args:\n",
    "      image (ee.Image): A Sentinel-2 image.\n",
    "\n",
    "  Returns:\n",
    "      ee.Image: A cloud-masked Sentinel-2 image.\n",
    "  \"\"\"\n",
    "  qa = image.select('QA60')\n",
    "\n",
    "  # Bits 10 and 11 are clouds and cirrus, respectively.\n",
    "  cloud_bit_mask = 1 << 10\n",
    "  cirrus_bit_mask = 1 << 11\n",
    "\n",
    "  # Both flags should be set to zero, indicating clear conditions.\n",
    "  mask = (\n",
    "      qa.bitwiseAnd(cloud_bit_mask)\n",
    "      .eq(0)\n",
    "      .And(qa.bitwiseAnd(cirrus_bit_mask).eq(0))\n",
    "  )\n",
    "\n",
    "  return image.updateMask(mask).divide(10000)"
   ]
  },
  {
   "cell_type": "code",
   "execution_count": 4,
   "metadata": {},
   "outputs": [
    {
     "data": {
      "text/html": [
       "\n",
       "            <style>\n",
       "                .geemap-dark {\n",
       "                    --jp-widgets-color: white;\n",
       "                    --jp-widgets-label-color: white;\n",
       "                    --jp-ui-font-color1: white;\n",
       "                    --jp-layout-color2: #454545;\n",
       "                    background-color: #383838;\n",
       "                }\n",
       "                    \n",
       "                .geemap-dark .jupyter-button {\n",
       "                    --jp-layout-color3: #383838;\n",
       "                }\n",
       "                \n",
       "                .geemap-colab {\n",
       "                    background-color: var(--colab-primary-surface-color, white);\n",
       "                }\n",
       "                    \n",
       "                .geemap-colab .jupyter-button {\n",
       "                    --jp-layout-color3: var(--colab-primary-surface-color, white);\n",
       "                }\n",
       "            </style>\n",
       "            "
      ],
      "text/plain": [
       "<IPython.core.display.HTML object>"
      ]
     },
     "metadata": {},
     "output_type": "display_data"
    },
    {
     "name": "stdout",
     "output_type": "stream",
     "text": [
      "NASADEM: NASA NASADEM Digital Elevation 30m\n"
     ]
    }
   ],
   "source": [
    "# check if the authentication is working\n",
    "print(ee.Image(\"NASA/NASADEM_HGT/001\").get(\"title\").getInfo())"
   ]
  },
  {
   "cell_type": "markdown",
   "metadata": {},
   "source": [
    "# imports"
   ]
  },
  {
   "cell_type": "code",
   "execution_count": 51,
   "metadata": {},
   "outputs": [
    {
     "data": {
      "text/html": [
       "\n",
       "            <style>\n",
       "                .geemap-dark {\n",
       "                    --jp-widgets-color: white;\n",
       "                    --jp-widgets-label-color: white;\n",
       "                    --jp-ui-font-color1: white;\n",
       "                    --jp-layout-color2: #454545;\n",
       "                    background-color: #383838;\n",
       "                }\n",
       "                    \n",
       "                .geemap-dark .jupyter-button {\n",
       "                    --jp-layout-color3: #383838;\n",
       "                }\n",
       "                \n",
       "                .geemap-colab {\n",
       "                    background-color: var(--colab-primary-surface-color, white);\n",
       "                }\n",
       "                    \n",
       "                .geemap-colab .jupyter-button {\n",
       "                    --jp-layout-color3: var(--colab-primary-surface-color, white);\n",
       "                }\n",
       "            </style>\n",
       "            "
      ],
      "text/plain": [
       "<IPython.core.display.HTML object>"
      ]
     },
     "metadata": {},
     "output_type": "display_data"
    }
   ],
   "source": [
    "#input a vector and a raster file\n",
    "AOI_path = Path('../../data/processed/')\n",
    "#AOI_file = 'MAN_LIM_BoundingBox_AOI_A.shp' #Manila\n",
    "AOI_file = 'JAK_LIM_BoundingBox_AOI_A.shp' #Jakarta\n",
    "#AOI_file = 'MUM_LIM_BoundingBox_AOI_A.shp' #Mumbai\n",
    "\n",
    "AOI_gdf = gpd.read_file(AOI_path/AOI_file)\n",
    "\n",
    "# extract coordinates from the bounding box\n",
    "aoi_coords = AOI_gdf.to_crs(epsg='4326').envelope\n",
    "#print('N',aoi_coords.bounds.values[0][3],'S',aoi_coords.bounds.values[0][1],'W',aoi_coords.bounds.values[0][0],'E',aoi_coords.bounds.values[0][2])\n",
    "transform = [aoi_coords.bounds.values[0][0], aoi_coords.bounds.values[0][1], aoi_coords.bounds.values[0][2], aoi_coords.bounds.values[0][3]]\n",
    "roi = ee.Geometry.BBox(west=transform[0], south=transform[1], east=transform[2], north=transform[3])\n",
    "rec_roi = ee.Geometry.Rectangle(transform[0],transform[1],transform[2],transform[3])\n",
    "coi = roi.centroid(maxError=1)\n",
    "#coi = AOI_gdf.to_crs(epsg='4326').dissolve().centroid.to_crs('EPSG:4326').geometry.apply(lambda x: (x.x, x.y)).values[0]\n",
    "aoi_crs = AOI_gdf.crs.to_epsg()\n",
    "#print(coords)"
   ]
  },
  {
   "cell_type": "code",
   "execution_count": 43,
   "metadata": {},
   "outputs": [
    {
     "data": {
      "text/html": [
       "\n",
       "            <style>\n",
       "                .geemap-dark {\n",
       "                    --jp-widgets-color: white;\n",
       "                    --jp-widgets-label-color: white;\n",
       "                    --jp-ui-font-color1: white;\n",
       "                    --jp-layout-color2: #454545;\n",
       "                    background-color: #383838;\n",
       "                }\n",
       "                    \n",
       "                .geemap-dark .jupyter-button {\n",
       "                    --jp-layout-color3: #383838;\n",
       "                }\n",
       "                \n",
       "                .geemap-colab {\n",
       "                    background-color: var(--colab-primary-surface-color, white);\n",
       "                }\n",
       "                    \n",
       "                .geemap-colab .jupyter-button {\n",
       "                    --jp-layout-color3: var(--colab-primary-surface-color, white);\n",
       "                }\n",
       "            </style>\n",
       "            "
      ],
      "text/plain": [
       "<IPython.core.display.HTML object>"
      ]
     },
     "metadata": {},
     "output_type": "display_data"
    },
    {
     "data": {
      "image/png": "[encoded data removed]",
      "text/plain": [
       "<Figure size 1500x600 with 1 Axes>"
      ]
     },
     "metadata": {},
     "output_type": "display_data"
    }
   ],
   "source": [
    "# Define your ImageCollection #S2_SR_HARMONIZED or S2\n",
    "sentinel2 = ee.ImageCollection(\"COPERNICUS/S2\") \\\n",
    "    .filterBounds(roi) \\\n",
    "    .filterDate('2017-06-01','2023-12-01') \\\n",
    "    .filter(ee.Filter.lt('CLOUDY_PIXEL_PERCENTAGE', 5))\n",
    "\n",
    "# Get the list of dates\n",
    "dates = sentinel2.aggregate_array('system:time_start').map(lambda time_start: ee.Date(time_start).format('YYYY-MM-dd')).getInfo()\n",
    "\n",
    "# Get the list of CLOUDY_PIXEL_PERCENTAGE values\n",
    "cloudy_pixel_percentage_list = sentinel2.reduceColumns(ee.Reducer.toList(), [\"CLOUDY_PIXEL_PERCENTAGE\"]).get('list')\n",
    "\n",
    "# Convert to Python list\n",
    "cloudy_pixel_percentage_py_list = ee.List(cloudy_pixel_percentage_list).getInfo()\n",
    "\n",
    "# Convert dates to datetime objects\n",
    "dates = [mdates.datestr2num(date) for date in dates]\n",
    "\n",
    "# Filter the ImageCollection based on CLOUDY_PIXEL_PERCENTAGE < 1\n",
    "filtered_collection = sentinel2.filter(ee.Filter.lt('CLOUDY_PIXEL_PERCENTAGE', 1))\n",
    "\n",
    "# Get the list of dates\n",
    "filtered_dates = filtered_collection.aggregate_array('system:time_start').map(lambda time_start: ee.Date(time_start).format('YYYY-MM-dd')).getInfo()\n",
    "\n",
    "# Plot the data\n",
    "plt.figure(figsize=(15, 6))\n",
    "plt.plot_date(dates, cloudy_pixel_percentage_py_list, '-')\n",
    "title_str = 'Cloudy Pixel Percentage in Jakarta, Indonesia (2017-2023), includes '+str(len(filtered_dates))+' images with less than 1% cloud cover'\n",
    "plt.title(title_str)\n",
    "plt.xlabel('Date')\n",
    "plt.ylabel('Cloudy Pixel Percentage')\n",
    "plt.gca().xaxis.set_major_formatter(mdates.DateFormatter('%Y-%m-%d'))\n",
    "plt.gca().xaxis.set_major_locator(mdates.DayLocator(interval=60))  # set interval = 60 days\n",
    "plt.gcf().autofmt_xdate()  # rotate and align the x labels\n",
    "plt.show()"
   ]
  },
  {
   "cell_type": "code",
   "execution_count": 44,
   "metadata": {},
   "outputs": [
    {
     "data": {
      "text/html": [
       "\n",
       "            <style>\n",
       "                .geemap-dark {\n",
       "                    --jp-widgets-color: white;\n",
       "                    --jp-widgets-label-color: white;\n",
       "                    --jp-ui-font-color1: white;\n",
       "                    --jp-layout-color2: #454545;\n",
       "                    background-color: #383838;\n",
       "                }\n",
       "                    \n",
       "                .geemap-dark .jupyter-button {\n",
       "                    --jp-layout-color3: #383838;\n",
       "                }\n",
       "                \n",
       "                .geemap-colab {\n",
       "                    background-color: var(--colab-primary-surface-color, white);\n",
       "                }\n",
       "                    \n",
       "                .geemap-colab .jupyter-button {\n",
       "                    --jp-layout-color3: var(--colab-primary-surface-color, white);\n",
       "                }\n",
       "            </style>\n",
       "            "
      ],
      "text/plain": [
       "<IPython.core.display.HTML object>"
      ]
     },
     "metadata": {},
     "output_type": "display_data"
    },
    {
     "name": "stdout",
     "output_type": "stream",
     "text": [
      "ee.Image({\n",
      "  \"functionInvocationValue\": {\n",
      "    \"functionName\": \"Collection.first\",\n",
      "    \"arguments\": {\n",
      "      \"collection\": {\n",
      "        \"functionInvocationValue\": {\n",
      "          \"functionName\": \"Collection.limit\",\n",
      "          \"arguments\": {\n",
      "            \"collection\": {\n",
      "              \"functionInvocationValue\": {\n",
      "                \"functionName\": \"Collection.filter\",\n",
      "                \"arguments\": {\n",
      "                  \"collection\": {\n",
      "                    \"functionInvocationValue\": {\n",
      "                      \"functionName\": \"Collection.filter\",\n",
      "                      \"arguments\": {\n",
      "                        \"collection\": {\n",
      "                          \"functionInvocationValue\": {\n",
      "                            \"functionName\": \"Collection.filter\",\n",
      "                            \"arguments\": {\n",
      "                              \"collection\": {\n",
      "                                \"functionInvocationValue\": {\n",
      "                                  \"functionName\": \"Collection.filter\",\n",
      "                                  \"arguments\": {\n",
      "                                    \"collection\": {\n",
      "                                      \"functionInvocationValue\": {\n",
      "                                        \"functionName\": \"ImageCollection.load\",\n",
      "                                        \"arguments\": {\n",
      "                                          \"id\": {\n",
      "                                            \"constantValue\": \"COPERNICUS/S2\"\n",
      "                                          }\n",
      "                                        }\n",
      "                                      }\n",
      "                                    },\n",
      "                                    \"filter\": {\n",
      "                                      \"functionInvocationValue\": {\n",
      "                                        \"functionName\": \"Filter.intersects\",\n",
      "                                        \"arguments\": {\n",
      "                                          \"leftField\": {\n",
      "                                            \"constantValue\": \".all\"\n",
      "                                          },\n",
      "                                          \"rightValue\": {\n",
      "                                            \"functionInvocationValue\": {\n",
      "                                              \"functionName\": \"Feature\",\n",
      "                                              \"arguments\": {\n",
      "                                                \"geometry\": {\n",
      "                                                  \"functionInvocationValue\": {\n",
      "                                                    \"functionName\": \"GeometryConstructors.Point\",\n",
      "                                                    \"arguments\": {\n",
      "                                                      \"coordinates\": {\n",
      "                                                        \"constantValue\": [\n",
      "                                                          -6.356253387285739,\n",
      "                                                          106.7482814718671\n",
      "                                                        ]\n",
      "                                                      }\n",
      "                                                    }\n",
      "                                                  }\n",
      "                                                }\n",
      "                                              }\n",
      "                                            }\n",
      "                                          }\n",
      "                                        }\n",
      "                                      }\n",
      "                                    }\n",
      "                                  }\n",
      "                                }\n",
      "                              },\n",
      "                              \"filter\": {\n",
      "                                \"functionInvocationValue\": {\n",
      "                                  \"functionName\": \"Filter.dateRangeContains\",\n",
      "                                  \"arguments\": {\n",
      "                                    \"leftValue\": {\n",
      "                                      \"functionInvocationValue\": {\n",
      "                                        \"functionName\": \"DateRange\",\n",
      "                                        \"arguments\": {\n",
      "                                          \"end\": {\n",
      "                                            \"constantValue\": \"2023-12-01\"\n",
      "                                          },\n",
      "                                          \"start\": {\n",
      "                                            \"constantValue\": \"2017-06-01\"\n",
      "                                          }\n",
      "                                        }\n",
      "                                      }\n",
      "                                    },\n",
      "                                    \"rightField\": {\n",
      "                                      \"constantValue\": \"system:time_start\"\n",
      "                                    }\n",
      "                                  }\n",
      "                                }\n",
      "                              }\n",
      "                            }\n",
      "                          }\n",
      "                        },\n",
      "                        \"filter\": {\n",
      "                          \"functionInvocationValue\": {\n",
      "                            \"functionName\": \"Filter.lessThan\",\n",
      "                            \"arguments\": {\n",
      "                              \"leftField\": {\n",
      "                                \"constantValue\": \"CLOUDY_PIXEL_PERCENTAGE\"\n",
      "                              },\n",
      "                              \"rightValue\": {\n",
      "                                \"constantValue\": 5\n",
      "                              }\n",
      "                            }\n",
      "                          }\n",
      "                        }\n",
      "                      }\n",
      "                    }\n",
      "                  },\n",
      "                  \"filter\": {\n",
      "                    \"functionInvocationValue\": {\n",
      "                      \"functionName\": \"Filter.lessThan\",\n",
      "                      \"arguments\": {\n",
      "                        \"leftField\": {\n",
      "                          \"constantValue\": \"CLOUDY_PIXEL_PERCENTAGE\"\n",
      "                        },\n",
      "                        \"rightValue\": {\n",
      "                          \"constantValue\": 1\n",
      "                        }\n",
      "                      }\n",
      "                    }\n",
      "                  }\n",
      "                }\n",
      "              }\n",
      "            },\n",
      "            \"key\": {\n",
      "              \"constantValue\": \"CLOUDY_PIXEL_PERCENTAGE\"\n",
      "            }\n",
      "          }\n",
      "        }\n",
      "      }\n",
      "    }\n",
      "  }\n",
      "})\n"
     ]
    }
   ],
   "source": [
    "min_cloud_image = filtered_collection.sort('CLOUDY_PIXEL_PERCENTAGE').first()\n",
    "print(min_cloud_image)"
   ]
  },
  {
   "cell_type": "code",
   "execution_count": 70,
   "metadata": {},
   "outputs": [
    {
     "data": {
      "text/html": [
       "\n",
       "            <style>\n",
       "                .geemap-dark {\n",
       "                    --jp-widgets-color: white;\n",
       "                    --jp-widgets-label-color: white;\n",
       "                    --jp-ui-font-color1: white;\n",
       "                    --jp-layout-color2: #454545;\n",
       "                    background-color: #383838;\n",
       "                }\n",
       "                    \n",
       "                .geemap-dark .jupyter-button {\n",
       "                    --jp-layout-color3: #383838;\n",
       "                }\n",
       "                \n",
       "                .geemap-colab {\n",
       "                    background-color: var(--colab-primary-surface-color, white);\n",
       "                }\n",
       "                    \n",
       "                .geemap-colab .jupyter-button {\n",
       "                    --jp-layout-color3: var(--colab-primary-surface-color, white);\n",
       "                }\n",
       "            </style>\n",
       "            "
      ],
      "text/plain": [
       "<IPython.core.display.HTML object>"
      ]
     },
     "metadata": {},
     "output_type": "display_data"
    },
    {
     "data": {
      "application/vnd.jupyter.widget-view+json": {
       "model_id": "fdf540d42adf426185be2c21879bbb31",
       "version_major": 2,
       "version_minor": 0
      },
      "text/plain": [
       "Map(center=[-6.356096336666425, 106.74822478594142], controls=(WidgetControl(options=['position', 'transparent…"
      ]
     },
     "execution_count": 70,
     "metadata": {},
     "output_type": "execute_result"
    }
   ],
   "source": [
    "# creating a cloud mask\n",
    "#code from https://github.com/giswqs/earthengine-py-notebooks/blob/master/Algorithms/CloudMasking/sentinel-2.ipynb\n",
    "# Add Earth Engine dataset\n",
    "# This example uses the Sentinel-2 QA band to cloud mask\n",
    "# the collection.  The Sentinel-2 cloud flags are less\n",
    "# selective, so the collection is also pre-filtered by the\n",
    "# CLOUDY_PIXEL_PERCENTAGE flag, to use only relatively\n",
    "# cloud-free granule.\n",
    "\n",
    "Map = geemap.Map()\n",
    "Map.centerObject(coi, zoom=9)\n",
    "\n",
    "# Function to mask clouds using the Sentinel-2 QA band.\n",
    "# function maskS2clouds(image) {\n",
    "def maskS2clouds(image):\n",
    "  qa = image.select('QA60')\n",
    "\n",
    "  # Bits 10 and 11 are clouds and cirrus, respectively.\n",
    "  cloudBitMask = 1 << 10\n",
    "  cirrusBitMask = 1 << 11\n",
    "\n",
    "  # Both flags should be set to zero, indicating clear conditions.\n",
    "  mask = qa.bitwiseAnd(cloudBitMask).eq(0).And(\n",
    "             qa.bitwiseAnd(cirrusBitMask).eq(0))\n",
    "\n",
    "  # Return the masked and scaled data, without the QA bands.\n",
    "  return image.updateMask(mask).divide(10000) \\\n",
    "      .select(\"B.*\") \\\n",
    "      .copyProperties(image, [\"system:time_start\"])\n",
    "# }\n",
    "\n",
    "# Map the function over one year of data and take the median.\n",
    "# Load Sentinel-2 TOA reflectance data.\n",
    "collection = ee.ImageCollection('COPERNICUS/S2') \\\n",
    "    .filterDate(filtered_dates[0],filtered_dates[-1]) \\\n",
    "    .filter(ee.Filter.lt('CLOUDY_PIXEL_PERCENTAGE', 20)) \\\n",
    "    .map(maskS2clouds)\n",
    "\n",
    "composite = collection.median()\n",
    "\n",
    "# Display the results.\n",
    "Map.addLayer(composite, {'bands': ['B4', 'B3', 'B2'], 'min': 0, 'max': 0.3}, 'RGB')\n",
    "Map.addLayer(roi, {}, 'ROI')\n",
    "Map"
   ]
  },
  {
   "cell_type": "code",
   "execution_count": 32,
   "metadata": {},
   "outputs": [
    {
     "data": {
      "text/html": [
       "\n",
       "            <style>\n",
       "                .geemap-dark {\n",
       "                    --jp-widgets-color: white;\n",
       "                    --jp-widgets-label-color: white;\n",
       "                    --jp-ui-font-color1: white;\n",
       "                    --jp-layout-color2: #454545;\n",
       "                    background-color: #383838;\n",
       "                }\n",
       "                    \n",
       "                .geemap-dark .jupyter-button {\n",
       "                    --jp-layout-color3: #383838;\n",
       "                }\n",
       "                \n",
       "                .geemap-colab {\n",
       "                    background-color: var(--colab-primary-surface-color, white);\n",
       "                }\n",
       "                    \n",
       "                .geemap-colab .jupyter-button {\n",
       "                    --jp-layout-color3: var(--colab-primary-surface-color, white);\n",
       "                }\n",
       "            </style>\n",
       "            "
      ],
      "text/plain": [
       "<IPython.core.display.HTML object>"
      ]
     },
     "metadata": {},
     "output_type": "display_data"
    },
    {
     "data": {
      "text/plain": [
       "ee.image.Image"
      ]
     },
     "execution_count": 32,
     "metadata": {},
     "output_type": "execute_result"
    }
   ],
   "source": [
    "type(composite)"
   ]
  },
  {
   "cell_type": "code",
   "execution_count": 64,
   "metadata": {},
   "outputs": [
    {
     "data": {
      "text/html": [
       "\n",
       "            <style>\n",
       "                .geemap-dark {\n",
       "                    --jp-widgets-color: white;\n",
       "                    --jp-widgets-label-color: white;\n",
       "                    --jp-ui-font-color1: white;\n",
       "                    --jp-layout-color2: #454545;\n",
       "                    background-color: #383838;\n",
       "                }\n",
       "                    \n",
       "                .geemap-dark .jupyter-button {\n",
       "                    --jp-layout-color3: #383838;\n",
       "                }\n",
       "                \n",
       "                .geemap-colab {\n",
       "                    background-color: var(--colab-primary-surface-color, white);\n",
       "                }\n",
       "                    \n",
       "                .geemap-colab .jupyter-button {\n",
       "                    --jp-layout-color3: var(--colab-primary-surface-color, white);\n",
       "                }\n",
       "            </style>\n",
       "            "
      ],
      "text/plain": [
       "<IPython.core.display.HTML object>"
      ]
     },
     "metadata": {},
     "output_type": "display_data"
    },
    {
     "name": "stdout",
     "output_type": "stream",
     "text": [
      "EPSG:4326\n"
     ]
    }
   ],
   "source": [
    "projection = composite.select('B2').projection().getInfo()\n",
    "print(projection['crs'])"
   ]
  },
  {
   "cell_type": "code",
   "execution_count": 34,
   "metadata": {},
   "outputs": [
    {
     "data": {
      "text/html": [
       "\n",
       "            <style>\n",
       "                .geemap-dark {\n",
       "                    --jp-widgets-color: white;\n",
       "                    --jp-widgets-label-color: white;\n",
       "                    --jp-ui-font-color1: white;\n",
       "                    --jp-layout-color2: #454545;\n",
       "                    background-color: #383838;\n",
       "                }\n",
       "                    \n",
       "                .geemap-dark .jupyter-button {\n",
       "                    --jp-layout-color3: #383838;\n",
       "                }\n",
       "                \n",
       "                .geemap-colab {\n",
       "                    background-color: var(--colab-primary-surface-color, white);\n",
       "                }\n",
       "                    \n",
       "                .geemap-colab .jupyter-button {\n",
       "                    --jp-layout-color3: var(--colab-primary-surface-color, white);\n",
       "                }\n",
       "            </style>\n",
       "            "
      ],
      "text/plain": [
       "<IPython.core.display.HTML object>"
      ]
     },
     "metadata": {},
     "output_type": "display_data"
    },
    {
     "name": "stdout",
     "output_type": "stream",
     "text": [
      "EPSG:32748\n"
     ]
    }
   ],
   "source": [
    "crs='EPSG:'+str(aoi_crs)\n",
    "print(crs)"
   ]
  },
  {
   "cell_type": "code",
   "execution_count": 65,
   "metadata": {},
   "outputs": [
    {
     "data": {
      "text/html": [
       "\n",
       "            <style>\n",
       "                .geemap-dark {\n",
       "                    --jp-widgets-color: white;\n",
       "                    --jp-widgets-label-color: white;\n",
       "                    --jp-ui-font-color1: white;\n",
       "                    --jp-layout-color2: #454545;\n",
       "                    background-color: #383838;\n",
       "                }\n",
       "                    \n",
       "                .geemap-dark .jupyter-button {\n",
       "                    --jp-layout-color3: #383838;\n",
       "                }\n",
       "                \n",
       "                .geemap-colab {\n",
       "                    background-color: var(--colab-primary-surface-color, white);\n",
       "                }\n",
       "                    \n",
       "                .geemap-colab .jupyter-button {\n",
       "                    --jp-layout-color3: var(--colab-primary-surface-color, white);\n",
       "                }\n",
       "            </style>\n",
       "            "
      ],
      "text/plain": [
       "<IPython.core.display.HTML object>"
      ]
     },
     "metadata": {},
     "output_type": "display_data"
    }
   ],
   "source": [
    "task = ee.batch.Export.image.toDrive(\n",
    "    image=composite,\n",
    "    description='image_export_crstransform',\n",
    "    folder='data',\n",
    "    region=rec_roi,\n",
    "    crsTransform=projection['transform'],\n",
    "    crs=projection['crs'],\n",
    "    maxPixels=1e13,\n",
    "    formatOptions={\n",
    "        'cloudOptimized': True\n",
    "    }\n",
    ")\n",
    "task.start()"
   ]
  },
  {
   "cell_type": "code",
   "execution_count": 77,
   "metadata": {},
   "outputs": [
    {
     "data": {
      "text/html": [
       "\n",
       "            <style>\n",
       "                .geemap-dark {\n",
       "                    --jp-widgets-color: white;\n",
       "                    --jp-widgets-label-color: white;\n",
       "                    --jp-ui-font-color1: white;\n",
       "                    --jp-layout-color2: #454545;\n",
       "                    background-color: #383838;\n",
       "                }\n",
       "                    \n",
       "                .geemap-dark .jupyter-button {\n",
       "                    --jp-layout-color3: #383838;\n",
       "                }\n",
       "                \n",
       "                .geemap-colab {\n",
       "                    background-color: var(--colab-primary-surface-color, white);\n",
       "                }\n",
       "                    \n",
       "                .geemap-colab .jupyter-button {\n",
       "                    --jp-layout-color3: var(--colab-primary-surface-color, white);\n",
       "                }\n",
       "            </style>\n",
       "            "
      ],
      "text/plain": [
       "<IPython.core.display.HTML object>"
      ]
     },
     "metadata": {},
     "output_type": "display_data"
    }
   ],
   "source": [
    "#composite = collection.median()\n",
    "cloud_composite = ee.Image(collection.sort('CLOUDY_PIXEL_PERCENTAGE').first())\n",
    "\n",
    "# Display the results.\n",
    "Map.addLayer(cloud_composite, {'bands': ['B4', 'B3', 'B2'], 'min': 0, 'max': 0.3}, 'RGB')\n",
    "Map"
   ]
  },
  {
   "cell_type": "code",
   "execution_count": null,
   "metadata": {},
   "outputs": [],
   "source": [
    "# Add Earth Engine dataset\n",
    "collection = ee.ImageCollection('USDA/NAIP/DOQQ')\n",
    "\n",
    "polys = ee.Geometry.Polygon(\n",
    "        [[[-99.29615020751953, 46.725459351792374],\n",
    "          [-99.2116928100586, 46.72404725733022],\n",
    "          [-99.21443939208984, 46.772037733479884],\n",
    "          [-99.30267333984375, 46.77321343419932]]])\n",
    "\n",
    "centroid = polys.centroid()\n",
    "lng, lat = centroid.getInfo()['coordinates']\n",
    "print(\"lng = {}, lat = {}\".format(lng, lat))\n",
    "\n",
    "lng_lat = ee.Geometry.Point(lng, lat)\n",
    "naip = collection.filterBounds(polys)\n",
    "naip_2015 = naip.filterDate('2015-01-01', '2015-12-31')\n",
    "ppr = naip_2015.mosaic()\n",
    "\n",
    "count = naip_2015.size().getInfo()\n",
    "print(\"Count: \", count)\n",
    "\n",
    "# print(naip_2015.size().getInfo())\n",
    "# vis = {'bands': ['N', 'R', 'G']}\n",
    "# Map.setCenter(lng, lat, 12)\n",
    "# Map.addLayer(ppr,vis)\n",
    "# Map.addLayer(polys)\n",
    "\n",
    "downConfig = {'scale': 30, \"maxPixels\": 1.0E13, 'driveFolder': 'image'}  # scale means resolution.\n",
    "img_lst = naip_2015.toList(100)\n",
    "\n",
    "for i in range(0, count):\n",
    "    image = ee.Image(img_lst.get(i))\n",
    "    name = image.get('system:index').getInfo()\n",
    "    # print(name)\n",
    "    task = ee.batch.Export.image(image, name, downConfig)\n",
    "    task.start()"
   ]
  },
  {
   "cell_type": "code",
   "execution_count": 67,
   "metadata": {},
   "outputs": [
    {
     "data": {
      "text/html": [
       "\n",
       "            <style>\n",
       "                .geemap-dark {\n",
       "                    --jp-widgets-color: white;\n",
       "                    --jp-widgets-label-color: white;\n",
       "                    --jp-ui-font-color1: white;\n",
       "                    --jp-layout-color2: #454545;\n",
       "                    background-color: #383838;\n",
       "                }\n",
       "                    \n",
       "                .geemap-dark .jupyter-button {\n",
       "                    --jp-layout-color3: #383838;\n",
       "                }\n",
       "                \n",
       "                .geemap-colab {\n",
       "                    background-color: var(--colab-primary-surface-color, white);\n",
       "                }\n",
       "                    \n",
       "                .geemap-colab .jupyter-button {\n",
       "                    --jp-layout-color3: var(--colab-primary-surface-color, white);\n",
       "                }\n",
       "            </style>\n",
       "            "
      ],
      "text/plain": [
       "<IPython.core.display.HTML object>"
      ]
     },
     "metadata": {},
     "output_type": "display_data"
    }
   ],
   "source": [
    "# Export the images as a mosaic in TIFF format\n",
    "export_path = '../../data/raw/sentinel2_mosaic/'\n",
    "export_image = ee.ImageCollection(composite).mosaic()\n",
    "task = ee.batch.Export.image.toDrive(\n",
    "    image=export_image,\n",
    "    description='Mosaic Export',\n",
    "    folder=export_path,\n",
    "    scale=10,\n",
    "    fileFormat='GeoTIFF'\n",
    ")\n",
    "task.start()"
   ]
  }
 ],
 "metadata": {
  "kernelspec": {
   "display_name": "Python 3",
   "language": "python",
   "name": "python3"
  },
  "language_info": {
   "codemirror_mode": {
    "name": "ipython",
    "version": 3
   },
   "file_extension": ".py",
   "mimetype": "text/x-python",
   "name": "python",
   "nbconvert_exporter": "python",
   "pygments_lexer": "ipython3",
   "version": "3.11.8"
  }
 },
 "nbformat": 4,
 "nbformat_minor": 2
}
