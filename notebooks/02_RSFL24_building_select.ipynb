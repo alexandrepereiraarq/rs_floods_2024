{
 "cells": [
  {
   "cell_type": "code",
   "execution_count": 1,
   "metadata": {},
   "outputs": [],
   "source": [
    "# import packages and libraries\n",
    "\n",
    "#import osmnx as ox\n",
    "import geopandas as gpd\n",
    "from pathlib import Path\n",
    "import folium \n"
   ]
  },
  {
   "cell_type": "markdown",
   "metadata": {},
   "source": [
    "# init\n",
    "@authors: [Alexandre Pereira Santos](alexandre.santos(at)lmu.de) & [Charlotta Mirbach](c.mirbach@lmu.de)\n",
    "\n",
    "## data\n",
    "- maximum flooded area (binarized)\n",
    "- municipalities Rio grande do Sul (Brazil)\n",
    "\n",
    "## tasks\n",
    "- generate polygons for affected municipalities\n",
    "- download OSM building for each affected municipality\n",
    "- identify buildings within flooded area\n",
    "- export to individual municipality buildings datasets\n"
   ]
  },
  {
   "cell_type": "markdown",
   "metadata": {},
   "source": [
    "## functions"
   ]
  },
  {
   "cell_type": "markdown",
   "metadata": {},
   "source": [
    "## preprocessing"
   ]
  },
  {
   "cell_type": "markdown",
   "metadata": {},
   "source": [
    "### load input data"
   ]
  },
  {
   "cell_type": "code",
   "execution_count": 2,
   "metadata": {},
   "outputs": [],
   "source": [
    "#input flooded area vector \n",
    "flood_path = Path('../data/external/')\n",
    "flood_file = 'HYD_maximum_flood_extent_IPH_UFRGS_20240506_A.shp' \n",
    "flood_gdf = gpd.read_file(flood_path/flood_file)\n",
    "#flood_gdf.drop(['gridcode','area'], axis=1, inplace=True)\n",
    "\n",
    "# import the municipality boundaries\n",
    "mun_path = Path('../data/external/')\n",
    "mun_file = 'LIM_RS_municipalites_2022_A.shp'\n",
    "mun_gdf = gpd.read_file(mun_path/mun_file)\n",
    "mun_gdf = mun_gdf[(mun_gdf['NM_MUN']!='Lagoa dos Patos')]"
   ]
  },
  {
   "cell_type": "code",
   "execution_count": 3,
   "metadata": {},
   "outputs": [
    {
     "name": "stdout",
     "output_type": "stream",
     "text": [
      "Flood CRS: EPSG:32722 , Municipality CRS: EPSG:32722 Buildings CRS: EPSG:32722\n"
     ]
    }
   ],
   "source": [
    "\n",
    "#import building footprints\n",
    "foot_path = Path('../../../Dropbox/x/PostDoc/02 colab and other/24 05 RS Floods/UFRGS/DADOS/')\n",
    "foot_file = 'RS_URB_edificios_v05_IPH_A.shp'\n",
    "foot_gdf = gpd.read_file(foot_path/foot_file) #, layer = 'rhguaiba_google_buildings'\n",
    "foot_gdf.to_crs(flood_gdf.crs, inplace=True)\n",
    "\n",
    "print('Flood CRS:', flood_gdf.crs,', Municipality CRS:', mun_gdf.crs, 'Buildings CRS:', foot_gdf.crs)"
   ]
  },
  {
   "cell_type": "code",
   "execution_count": 4,
   "metadata": {},
   "outputs": [],
   "source": [
    "foot_gdf.to_crs(flood_gdf.crs, inplace=True)"
   ]
  },
  {
   "cell_type": "markdown",
   "metadata": {},
   "source": [
    "### joining gdfs"
   ]
  },
  {
   "cell_type": "code",
   "execution_count": 5,
   "metadata": {},
   "outputs": [],
   "source": [
    "join_gdf = foot_gdf.sjoin(mun_gdf, how='inner', predicate=\"within\")\n",
    "join_gdf.drop(['confidence','index_right','SIGLA_UF','AREA_KM2'], axis=1, inplace=True)\n",
    "#affected_mun = join_gdf[join_gdf['index_right'].notna()].dissolve('NM_MUN') #.index_right.dropna(axis=0, subset=['index_right'], inplace=True)\n",
    "#affected_mun.reset_index(inplace=True)\n",
    "#affected_mun"
   ]
  },
  {
   "cell_type": "markdown",
   "metadata": {},
   "source": [
    "### check join consistency"
   ]
  },
  {
   "cell_type": "code",
   "execution_count": 6,
   "metadata": {},
   "outputs": [
    {
     "data": {
      "text/html": [
       "<div>\n",
       "<style scoped>\n",
       "    .dataframe tbody tr th:only-of-type {\n",
       "        vertical-align: middle;\n",
       "    }\n",
       "\n",
       "    .dataframe tbody tr th {\n",
       "        vertical-align: top;\n",
       "    }\n",
       "\n",
       "    .dataframe thead th {\n",
       "        text-align: right;\n",
       "    }\n",
       "</style>\n",
       "<table border=\"1\" class=\"dataframe\">\n",
       "  <thead>\n",
       "    <tr style=\"text-align: right;\">\n",
       "      <th></th>\n",
       "      <th>fid</th>\n",
       "      <th>latitude</th>\n",
       "      <th>longitude</th>\n",
       "      <th>area_in_me</th>\n",
       "      <th>confidence</th>\n",
       "      <th>full_plus_</th>\n",
       "      <th>geometry</th>\n",
       "    </tr>\n",
       "  </thead>\n",
       "  <tbody>\n",
       "    <tr>\n",
       "      <th>0</th>\n",
       "      <td>1.0</td>\n",
       "      <td>-28.848039</td>\n",
       "      <td>-51.572102</td>\n",
       "      <td>27.0563</td>\n",
       "      <td>0.6875</td>\n",
       "      <td>583C5C2H+Q5JG</td>\n",
       "      <td>POLYGON ((444198.500 6808713.500, 444192.500 6...</td>\n",
       "    </tr>\n",
       "    <tr>\n",
       "      <th>1</th>\n",
       "      <td>2.0</td>\n",
       "      <td>-30.026502</td>\n",
       "      <td>-51.051474</td>\n",
       "      <td>84.7454</td>\n",
       "      <td>0.7986</td>\n",
       "      <td>48XCXWFX+9CRX</td>\n",
       "      <td>POLYGON ((495044.173 6678274.812, 495030.252 6...</td>\n",
       "    </tr>\n",
       "    <tr>\n",
       "      <th>2</th>\n",
       "      <td>3.0</td>\n",
       "      <td>-28.805628</td>\n",
       "      <td>-51.295699</td>\n",
       "      <td>216.0186</td>\n",
       "      <td>0.8980</td>\n",
       "      <td>583C5PV3+PPVW</td>\n",
       "      <td>POLYGON ((471152.134 6813507.314, 471146.282 6...</td>\n",
       "    </tr>\n",
       "    <tr>\n",
       "      <th>3</th>\n",
       "      <td>4.0</td>\n",
       "      <td>-29.346574</td>\n",
       "      <td>-51.385515</td>\n",
       "      <td>7.1515</td>\n",
       "      <td>0.7107</td>\n",
       "      <td>582CMJ37+9QH4</td>\n",
       "      <td>POLYGON ((462577.930 6753555.721, 462577.527 6...</td>\n",
       "    </tr>\n",
       "    <tr>\n",
       "      <th>4</th>\n",
       "      <td>5.0</td>\n",
       "      <td>-30.667396</td>\n",
       "      <td>-51.931613</td>\n",
       "      <td>109.6640</td>\n",
       "      <td>0.8104</td>\n",
       "      <td>48XC83M9+29R3</td>\n",
       "      <td>POLYGON ((410755.858 6606894.732, 410760.330 6...</td>\n",
       "    </tr>\n",
       "  </tbody>\n",
       "</table>\n",
       "</div>"
      ],
      "text/plain": [
       "   fid   latitude  longitude  area_in_me  confidence     full_plus_  \\\n",
       "0  1.0 -28.848039 -51.572102     27.0563      0.6875  583C5C2H+Q5JG   \n",
       "1  2.0 -30.026502 -51.051474     84.7454      0.7986  48XCXWFX+9CRX   \n",
       "2  3.0 -28.805628 -51.295699    216.0186      0.8980  583C5PV3+PPVW   \n",
       "3  4.0 -29.346574 -51.385515      7.1515      0.7107  582CMJ37+9QH4   \n",
       "4  5.0 -30.667396 -51.931613    109.6640      0.8104  48XC83M9+29R3   \n",
       "\n",
       "                                            geometry  \n",
       "0  POLYGON ((444198.500 6808713.500, 444192.500 6...  \n",
       "1  POLYGON ((495044.173 6678274.812, 495030.252 6...  \n",
       "2  POLYGON ((471152.134 6813507.314, 471146.282 6...  \n",
       "3  POLYGON ((462577.930 6753555.721, 462577.527 6...  \n",
       "4  POLYGON ((410755.858 6606894.732, 410760.330 6...  "
      ]
     },
     "execution_count": 6,
     "metadata": {},
     "output_type": "execute_result"
    }
   ],
   "source": [
    "foot_gdf.head()"
   ]
  },
  {
   "cell_type": "code",
   "execution_count": 7,
   "metadata": {},
   "outputs": [
    {
     "data": {
      "text/html": [
       "<div>\n",
       "<style scoped>\n",
       "    .dataframe tbody tr th:only-of-type {\n",
       "        vertical-align: middle;\n",
       "    }\n",
       "\n",
       "    .dataframe tbody tr th {\n",
       "        vertical-align: top;\n",
       "    }\n",
       "\n",
       "    .dataframe thead th {\n",
       "        text-align: right;\n",
       "    }\n",
       "</style>\n",
       "<table border=\"1\" class=\"dataframe\">\n",
       "  <thead>\n",
       "    <tr style=\"text-align: right;\">\n",
       "      <th></th>\n",
       "      <th>fid</th>\n",
       "      <th>latitude</th>\n",
       "      <th>longitude</th>\n",
       "      <th>area_in_me</th>\n",
       "      <th>full_plus_</th>\n",
       "      <th>geometry</th>\n",
       "      <th>CD_MUN</th>\n",
       "      <th>NM_MUN</th>\n",
       "    </tr>\n",
       "  </thead>\n",
       "  <tbody>\n",
       "    <tr>\n",
       "      <th>0</th>\n",
       "      <td>1.0</td>\n",
       "      <td>-28.848039</td>\n",
       "      <td>-51.572102</td>\n",
       "      <td>27.0563</td>\n",
       "      <td>583C5C2H+Q5JG</td>\n",
       "      <td>POLYGON ((444198.500 6808713.500, 444192.500 6...</td>\n",
       "      <td>4323309</td>\n",
       "      <td>Vila Flores</td>\n",
       "    </tr>\n",
       "    <tr>\n",
       "      <th>2870</th>\n",
       "      <td>2871.0</td>\n",
       "      <td>-28.880362</td>\n",
       "      <td>-51.496078</td>\n",
       "      <td>16.7416</td>\n",
       "      <td>583C4G93+VH3G</td>\n",
       "      <td>POLYGON ((451626.273 6805171.279, 451628.676 6...</td>\n",
       "      <td>4323309</td>\n",
       "      <td>Vila Flores</td>\n",
       "    </tr>\n",
       "    <tr>\n",
       "      <th>4275</th>\n",
       "      <td>4276.0</td>\n",
       "      <td>-28.859079</td>\n",
       "      <td>-51.528961</td>\n",
       "      <td>18.3865</td>\n",
       "      <td>583C4FRC+9C7R</td>\n",
       "      <td>POLYGON ((448410.267 6807509.061, 448407.051 6...</td>\n",
       "      <td>4323309</td>\n",
       "      <td>Vila Flores</td>\n",
       "    </tr>\n",
       "    <tr>\n",
       "      <th>6394</th>\n",
       "      <td>6395.0</td>\n",
       "      <td>-28.839627</td>\n",
       "      <td>-51.545011</td>\n",
       "      <td>20.6623</td>\n",
       "      <td>583C5F63+4XXW</td>\n",
       "      <td>POLYGON ((446835.882 6809657.594, 446831.972 6...</td>\n",
       "      <td>4323309</td>\n",
       "      <td>Vila Flores</td>\n",
       "    </tr>\n",
       "    <tr>\n",
       "      <th>7671</th>\n",
       "      <td>7672.0</td>\n",
       "      <td>-28.860752</td>\n",
       "      <td>-51.548561</td>\n",
       "      <td>228.9957</td>\n",
       "      <td>583C4FQ2+MHWR</td>\n",
       "      <td>POLYGON ((446503.439 6807306.307, 446493.856 6...</td>\n",
       "      <td>4323309</td>\n",
       "      <td>Vila Flores</td>\n",
       "    </tr>\n",
       "  </tbody>\n",
       "</table>\n",
       "</div>"
      ],
      "text/plain": [
       "         fid   latitude  longitude  area_in_me     full_plus_  \\\n",
       "0        1.0 -28.848039 -51.572102     27.0563  583C5C2H+Q5JG   \n",
       "2870  2871.0 -28.880362 -51.496078     16.7416  583C4G93+VH3G   \n",
       "4275  4276.0 -28.859079 -51.528961     18.3865  583C4FRC+9C7R   \n",
       "6394  6395.0 -28.839627 -51.545011     20.6623  583C5F63+4XXW   \n",
       "7671  7672.0 -28.860752 -51.548561    228.9957  583C4FQ2+MHWR   \n",
       "\n",
       "                                               geometry   CD_MUN       NM_MUN  \n",
       "0     POLYGON ((444198.500 6808713.500, 444192.500 6...  4323309  Vila Flores  \n",
       "2870  POLYGON ((451626.273 6805171.279, 451628.676 6...  4323309  Vila Flores  \n",
       "4275  POLYGON ((448410.267 6807509.061, 448407.051 6...  4323309  Vila Flores  \n",
       "6394  POLYGON ((446835.882 6809657.594, 446831.972 6...  4323309  Vila Flores  \n",
       "7671  POLYGON ((446503.439 6807306.307, 446493.856 6...  4323309  Vila Flores  "
      ]
     },
     "execution_count": 7,
     "metadata": {},
     "output_type": "execute_result"
    }
   ],
   "source": [
    "join_gdf.head()"
   ]
  },
  {
   "cell_type": "code",
   "execution_count": 8,
   "metadata": {},
   "outputs": [
    {
     "name": "stdout",
     "output_type": "stream",
     "text": [
      "(5847115, 8) (5857714, 7)\n"
     ]
    }
   ],
   "source": [
    "print(join_gdf.shape, foot_gdf.shape)"
   ]
  },
  {
   "cell_type": "code",
   "execution_count": 10,
   "metadata": {},
   "outputs": [],
   "source": [
    "foot_len = len(foot_gdf.full_plus_.unique())"
   ]
  },
  {
   "cell_type": "code",
   "execution_count": 11,
   "metadata": {},
   "outputs": [
    {
     "data": {
      "text/plain": [
       "-56"
      ]
     },
     "execution_count": 11,
     "metadata": {},
     "output_type": "execute_result"
    }
   ],
   "source": [
    "foot_len - foot_gdf.shape[0] # full_plus_code is not unique, but repeats in exceptional cases"
   ]
  },
  {
   "cell_type": "code",
   "execution_count": 13,
   "metadata": {},
   "outputs": [
    {
     "data": {
      "text/plain": [
       "count     5847115\n",
       "unique          1\n",
       "top         False\n",
       "freq      5847115\n",
       "Name: full_plus_, dtype: object"
      ]
     },
     "execution_count": 13,
     "metadata": {},
     "output_type": "execute_result"
    }
   ],
   "source": [
    "join_gdf.full_plus_.isna().describe() # there are no NA values in the full_plus_code in the joined df, though"
   ]
  },
  {
   "cell_type": "code",
   "execution_count": 15,
   "metadata": {},
   "outputs": [],
   "source": [
    "join_full_len = len(join_gdf.full_plus_.unique())"
   ]
  },
  {
   "cell_type": "code",
   "execution_count": 16,
   "metadata": {},
   "outputs": [
    {
     "data": {
      "text/plain": [
       "-55"
      ]
     },
     "execution_count": 16,
     "metadata": {},
     "output_type": "execute_result"
    }
   ],
   "source": [
    "join_full_len - join_gdf.shape[0] # full_plus_code repeats in the same way it did for the foot_gdf, minus 1"
   ]
  },
  {
   "cell_type": "code",
   "execution_count": 17,
   "metadata": {},
   "outputs": [
    {
     "name": "stdout",
     "output_type": "stream",
     "text": [
      "there are 10599 less observations in the joined df than in the footprints df this means 0.18094089264173704 %\n"
     ]
    }
   ],
   "source": [
    "print('there are', foot_gdf.shape[0] - join_gdf.shape[0], 'less observations in the joined df than in the footprints df', \n",
    "      'this means', (foot_gdf.shape[0] - join_gdf.shape[0])/foot_gdf.shape[0] * 100, '%')\n",
    "# less than half a percent seems fair enough"
   ]
  },
  {
   "cell_type": "markdown",
   "metadata": {},
   "source": [
    "### identifying buildings within the flooded area"
   ]
  },
  {
   "cell_type": "code",
   "execution_count": 19,
   "metadata": {},
   "outputs": [
    {
     "data": {
      "text/plain": [
       "Index(['fid', 'DN', 'geometry'], dtype='object')"
      ]
     },
     "execution_count": 19,
     "metadata": {},
     "output_type": "execute_result"
    }
   ],
   "source": [
    "flood_gdf.columns"
   ]
  },
  {
   "cell_type": "code",
   "execution_count": 20,
   "metadata": {},
   "outputs": [
    {
     "data": {
      "text/html": [
       "<div>\n",
       "<style scoped>\n",
       "    .dataframe tbody tr th:only-of-type {\n",
       "        vertical-align: middle;\n",
       "    }\n",
       "\n",
       "    .dataframe tbody tr th {\n",
       "        vertical-align: top;\n",
       "    }\n",
       "\n",
       "    .dataframe thead th {\n",
       "        text-align: right;\n",
       "    }\n",
       "</style>\n",
       "<table border=\"1\" class=\"dataframe\">\n",
       "  <thead>\n",
       "    <tr style=\"text-align: right;\">\n",
       "      <th></th>\n",
       "      <th>fid</th>\n",
       "      <th>DN</th>\n",
       "      <th>geometry</th>\n",
       "      <th>flooded</th>\n",
       "    </tr>\n",
       "  </thead>\n",
       "  <tbody>\n",
       "    <tr>\n",
       "      <th>0</th>\n",
       "      <td>1.0</td>\n",
       "      <td>1</td>\n",
       "      <td>POLYGON ((474897.943 6858472.962, 474924.342 6...</td>\n",
       "      <td>1</td>\n",
       "    </tr>\n",
       "    <tr>\n",
       "      <th>1</th>\n",
       "      <td>2.0</td>\n",
       "      <td>1</td>\n",
       "      <td>POLYGON ((287987.640 6842194.198, 288093.148 6...</td>\n",
       "      <td>1</td>\n",
       "    </tr>\n",
       "    <tr>\n",
       "      <th>2</th>\n",
       "      <td>3.0</td>\n",
       "      <td>1</td>\n",
       "      <td>POLYGON ((287828.837 6842221.204, 287881.592 6...</td>\n",
       "      <td>1</td>\n",
       "    </tr>\n",
       "    <tr>\n",
       "      <th>3</th>\n",
       "      <td>4.0</td>\n",
       "      <td>1</td>\n",
       "      <td>POLYGON ((288253.566 6842079.492, 288279.942 6...</td>\n",
       "      <td>1</td>\n",
       "    </tr>\n",
       "    <tr>\n",
       "      <th>4</th>\n",
       "      <td>5.0</td>\n",
       "      <td>1</td>\n",
       "      <td>POLYGON ((288386.527 6842022.137, 288439.280 6...</td>\n",
       "      <td>1</td>\n",
       "    </tr>\n",
       "    <tr>\n",
       "      <th>...</th>\n",
       "      <td>...</td>\n",
       "      <td>...</td>\n",
       "      <td>...</td>\n",
       "      <td>...</td>\n",
       "    </tr>\n",
       "    <tr>\n",
       "      <th>18369</th>\n",
       "      <td>27112.0</td>\n",
       "      <td>1</td>\n",
       "      <td>POLYGON ((291003.460 6631527.324, 291029.348 6...</td>\n",
       "      <td>1</td>\n",
       "    </tr>\n",
       "    <tr>\n",
       "      <th>18370</th>\n",
       "      <td>27113.0</td>\n",
       "      <td>1</td>\n",
       "      <td>POLYGON ((288523.977 6631180.458, 288575.753 6...</td>\n",
       "      <td>1</td>\n",
       "    </tr>\n",
       "    <tr>\n",
       "      <th>18371</th>\n",
       "      <td>27114.0</td>\n",
       "      <td>1</td>\n",
       "      <td>POLYGON ((290612.829 6631639.342, 290845.827 6...</td>\n",
       "      <td>1</td>\n",
       "    </tr>\n",
       "    <tr>\n",
       "      <th>18372</th>\n",
       "      <td>27117.0</td>\n",
       "      <td>1</td>\n",
       "      <td>POLYGON ((291426.856 6631057.294, 291478.631 6...</td>\n",
       "      <td>1</td>\n",
       "    </tr>\n",
       "    <tr>\n",
       "      <th>18373</th>\n",
       "      <td>27118.0</td>\n",
       "      <td>1</td>\n",
       "      <td>POLYGON ((289950.010 6632433.462, 290053.573 6...</td>\n",
       "      <td>1</td>\n",
       "    </tr>\n",
       "  </tbody>\n",
       "</table>\n",
       "<p>18374 rows × 4 columns</p>\n",
       "</div>"
      ],
      "text/plain": [
       "           fid  DN                                           geometry  flooded\n",
       "0          1.0   1  POLYGON ((474897.943 6858472.962, 474924.342 6...        1\n",
       "1          2.0   1  POLYGON ((287987.640 6842194.198, 288093.148 6...        1\n",
       "2          3.0   1  POLYGON ((287828.837 6842221.204, 287881.592 6...        1\n",
       "3          4.0   1  POLYGON ((288253.566 6842079.492, 288279.942 6...        1\n",
       "4          5.0   1  POLYGON ((288386.527 6842022.137, 288439.280 6...        1\n",
       "...        ...  ..                                                ...      ...\n",
       "18369  27112.0   1  POLYGON ((291003.460 6631527.324, 291029.348 6...        1\n",
       "18370  27113.0   1  POLYGON ((288523.977 6631180.458, 288575.753 6...        1\n",
       "18371  27114.0   1  POLYGON ((290612.829 6631639.342, 290845.827 6...        1\n",
       "18372  27117.0   1  POLYGON ((291426.856 6631057.294, 291478.631 6...        1\n",
       "18373  27118.0   1  POLYGON ((289950.010 6632433.462, 290053.573 6...        1\n",
       "\n",
       "[18374 rows x 4 columns]"
      ]
     },
     "execution_count": 20,
     "metadata": {},
     "output_type": "execute_result"
    }
   ],
   "source": [
    "# eliminating unnecessary columns in the flooded area gdf\n",
    "# these columns are all filled with a single value, probably a residue from the previous analyis process\n",
    "#flood_gdf.drop(['CD_MUN', 'NM_MUN', 'SIGLA_UF', 'bacia', 'MUN_KM2', 'area_km2'], axis=1, inplace=True)\n",
    "flood_gdf['flooded'] = 1\n",
    "flood_gdf\n"
   ]
  },
  {
   "cell_type": "code",
   "execution_count": 23,
   "metadata": {},
   "outputs": [],
   "source": [
    "flooded_join_gdf  = join_gdf.sjoin(flood_gdf, how='left', predicate=\"intersects\")\n",
    "flooded_join_gdf.flooded.fillna(0,inplace=True)\n",
    "\n",
    "#flooded_join_gdf.columns = ['latitude', 'longitude', 'area_m2', 'full_code', 'geometry','CD_MUN', 'NM_MUN', 'flooded']"
   ]
  },
  {
   "cell_type": "code",
   "execution_count": 24,
   "metadata": {},
   "outputs": [
    {
     "data": {
      "text/plain": [
       "Index(['fid_left', 'latitude', 'longitude', 'area_in_me', 'full_plus_',\n",
       "       'geometry', 'CD_MUN', 'NM_MUN', 'index_right', 'fid_right', 'DN',\n",
       "       'flooded'],\n",
       "      dtype='object')"
      ]
     },
     "execution_count": 24,
     "metadata": {},
     "output_type": "execute_result"
    }
   ],
   "source": [
    "flooded_join_gdf.columns"
   ]
  },
  {
   "cell_type": "code",
   "execution_count": 25,
   "metadata": {},
   "outputs": [],
   "source": [
    "flooded_join_gdf.drop(['index_right','fid_right','DN'], axis=1, inplace=True)"
   ]
  },
  {
   "cell_type": "code",
   "execution_count": 26,
   "metadata": {},
   "outputs": [
    {
     "data": {
      "text/plain": [
       "179"
      ]
     },
     "execution_count": 26,
     "metadata": {},
     "output_type": "execute_result"
    }
   ],
   "source": [
    "# checking for losses in the join\n",
    "\n",
    "flooded_join_gdf.shape[0] - join_gdf.shape[0]"
   ]
  },
  {
   "cell_type": "markdown",
   "metadata": {},
   "source": [
    "### export individual shapefiles for the affected municipalities"
   ]
  },
  {
   "cell_type": "code",
   "execution_count": 27,
   "metadata": {},
   "outputs": [
    {
     "data": {
      "text/html": [
       "<div>\n",
       "<style scoped>\n",
       "    .dataframe tbody tr th:only-of-type {\n",
       "        vertical-align: middle;\n",
       "    }\n",
       "\n",
       "    .dataframe tbody tr th {\n",
       "        vertical-align: top;\n",
       "    }\n",
       "\n",
       "    .dataframe thead th {\n",
       "        text-align: right;\n",
       "    }\n",
       "</style>\n",
       "<table border=\"1\" class=\"dataframe\">\n",
       "  <thead>\n",
       "    <tr style=\"text-align: right;\">\n",
       "      <th></th>\n",
       "      <th>NM_MUN</th>\n",
       "      <th>geometry</th>\n",
       "      <th>CD_MUN</th>\n",
       "      <th>AREA_KM2</th>\n",
       "      <th>fid</th>\n",
       "      <th>DN</th>\n",
       "      <th>flooded</th>\n",
       "    </tr>\n",
       "  </thead>\n",
       "  <tbody>\n",
       "    <tr>\n",
       "      <th>0</th>\n",
       "      <td>Agudo</td>\n",
       "      <td>POLYGON ((279918.986 6703043.270, 279741.282 6...</td>\n",
       "      <td>4300109</td>\n",
       "      <td>534.624</td>\n",
       "      <td>20308.0</td>\n",
       "      <td>1.0</td>\n",
       "      <td>1.0</td>\n",
       "    </tr>\n",
       "    <tr>\n",
       "      <th>1</th>\n",
       "      <td>Alto Alegre</td>\n",
       "      <td>POLYGON ((304509.258 6807218.192, 304473.994 6...</td>\n",
       "      <td>4300554</td>\n",
       "      <td>115.335</td>\n",
       "      <td>2794.0</td>\n",
       "      <td>1.0</td>\n",
       "      <td>1.0</td>\n",
       "    </tr>\n",
       "    <tr>\n",
       "      <th>2</th>\n",
       "      <td>Alvorada</td>\n",
       "      <td>POLYGON ((492898.701 6675799.152, 492877.273 6...</td>\n",
       "      <td>4300604</td>\n",
       "      <td>71.700</td>\n",
       "      <td>25966.0</td>\n",
       "      <td>1.0</td>\n",
       "      <td>1.0</td>\n",
       "    </tr>\n",
       "    <tr>\n",
       "      <th>3</th>\n",
       "      <td>Anta Gorda</td>\n",
       "      <td>POLYGON ((399132.817 6788513.969, 399079.336 6...</td>\n",
       "      <td>4300703</td>\n",
       "      <td>242.100</td>\n",
       "      <td>5188.0</td>\n",
       "      <td>1.0</td>\n",
       "      <td>1.0</td>\n",
       "    </tr>\n",
       "    <tr>\n",
       "      <th>4</th>\n",
       "      <td>Araricá</td>\n",
       "      <td>POLYGON ((508478.068 6723485.678, 508462.897 6...</td>\n",
       "      <td>4300877</td>\n",
       "      <td>35.391</td>\n",
       "      <td>19209.0</td>\n",
       "      <td>1.0</td>\n",
       "      <td>1.0</td>\n",
       "    </tr>\n",
       "    <tr>\n",
       "      <th>...</th>\n",
       "      <td>...</td>\n",
       "      <td>...</td>\n",
       "      <td>...</td>\n",
       "      <td>...</td>\n",
       "      <td>...</td>\n",
       "      <td>...</td>\n",
       "      <td>...</td>\n",
       "    </tr>\n",
       "    <tr>\n",
       "      <th>152</th>\n",
       "      <td>Vespasiano Corrêa</td>\n",
       "      <td>POLYGON ((422599.491 6779596.277, 422602.356 6...</td>\n",
       "      <td>4322855</td>\n",
       "      <td>113.622</td>\n",
       "      <td>8010.0</td>\n",
       "      <td>1.0</td>\n",
       "      <td>1.0</td>\n",
       "    </tr>\n",
       "    <tr>\n",
       "      <th>153</th>\n",
       "      <td>Viamão</td>\n",
       "      <td>POLYGON ((493121.166 6661507.218, 492956.456 6...</td>\n",
       "      <td>4323002</td>\n",
       "      <td>1496.506</td>\n",
       "      <td>27055.0</td>\n",
       "      <td>1.0</td>\n",
       "      <td>1.0</td>\n",
       "    </tr>\n",
       "    <tr>\n",
       "      <th>154</th>\n",
       "      <td>Victor Graeff</td>\n",
       "      <td>POLYGON ((337313.030 6851935.042, 337403.314 6...</td>\n",
       "      <td>4323200</td>\n",
       "      <td>238.133</td>\n",
       "      <td>1101.0</td>\n",
       "      <td>1.0</td>\n",
       "      <td>1.0</td>\n",
       "    </tr>\n",
       "    <tr>\n",
       "      <th>155</th>\n",
       "      <td>Vila Maria</td>\n",
       "      <td>POLYGON ((388212.410 6833956.117, 387963.159 6...</td>\n",
       "      <td>4323408</td>\n",
       "      <td>181.061</td>\n",
       "      <td>248.0</td>\n",
       "      <td>1.0</td>\n",
       "      <td>1.0</td>\n",
       "    </tr>\n",
       "    <tr>\n",
       "      <th>156</th>\n",
       "      <td>Vista Alegre do Prata</td>\n",
       "      <td>POLYGON ((432852.260 6813621.330, 433286.169 6...</td>\n",
       "      <td>4323606</td>\n",
       "      <td>119.327</td>\n",
       "      <td>3684.0</td>\n",
       "      <td>1.0</td>\n",
       "      <td>1.0</td>\n",
       "    </tr>\n",
       "  </tbody>\n",
       "</table>\n",
       "<p>157 rows × 7 columns</p>\n",
       "</div>"
      ],
      "text/plain": [
       "                    NM_MUN                                           geometry  \\\n",
       "0                    Agudo  POLYGON ((279918.986 6703043.270, 279741.282 6...   \n",
       "1              Alto Alegre  POLYGON ((304509.258 6807218.192, 304473.994 6...   \n",
       "2                 Alvorada  POLYGON ((492898.701 6675799.152, 492877.273 6...   \n",
       "3               Anta Gorda  POLYGON ((399132.817 6788513.969, 399079.336 6...   \n",
       "4                  Araricá  POLYGON ((508478.068 6723485.678, 508462.897 6...   \n",
       "..                     ...                                                ...   \n",
       "152      Vespasiano Corrêa  POLYGON ((422599.491 6779596.277, 422602.356 6...   \n",
       "153                 Viamão  POLYGON ((493121.166 6661507.218, 492956.456 6...   \n",
       "154          Victor Graeff  POLYGON ((337313.030 6851935.042, 337403.314 6...   \n",
       "155             Vila Maria  POLYGON ((388212.410 6833956.117, 387963.159 6...   \n",
       "156  Vista Alegre do Prata  POLYGON ((432852.260 6813621.330, 433286.169 6...   \n",
       "\n",
       "      CD_MUN  AREA_KM2      fid   DN  flooded  \n",
       "0    4300109   534.624  20308.0  1.0      1.0  \n",
       "1    4300554   115.335   2794.0  1.0      1.0  \n",
       "2    4300604    71.700  25966.0  1.0      1.0  \n",
       "3    4300703   242.100   5188.0  1.0      1.0  \n",
       "4    4300877    35.391  19209.0  1.0      1.0  \n",
       "..       ...       ...      ...  ...      ...  \n",
       "152  4322855   113.622   8010.0  1.0      1.0  \n",
       "153  4323002  1496.506  27055.0  1.0      1.0  \n",
       "154  4323200   238.133   1101.0  1.0      1.0  \n",
       "155  4323408   181.061    248.0  1.0      1.0  \n",
       "156  4323606   119.327   3684.0  1.0      1.0  \n",
       "\n",
       "[157 rows x 7 columns]"
      ]
     },
     "execution_count": 27,
     "metadata": {},
     "output_type": "execute_result"
    }
   ],
   "source": [
    "# identifying the municipalities affected by the flood\n",
    "\n",
    "join_mun_gdf = mun_gdf.sjoin(flood_gdf,how='left',)\n",
    "affected_mun = join_mun_gdf[join_mun_gdf['index_right'].notna()].dissolve('NM_MUN') #.index_right.dropna(axis=0, subset=['index_right'], inplace=True)\n",
    "affected_mun.reset_index(inplace=True)\n",
    "affected_mun.drop(['index_right','SIGLA_UF'], axis=1, inplace=True)\n",
    "affected_mun"
   ]
  },
  {
   "cell_type": "markdown",
   "metadata": {},
   "source": [
    "### creating individual shapefiles for each municipality"
   ]
  },
  {
   "cell_type": "code",
   "execution_count": 28,
   "metadata": {},
   "outputs": [],
   "source": [
    "#setting the environment\n",
    "\n",
    "AOI_path = Path('../data/processed/')\n",
    "mun_file_list = []\n",
    "\n",
    "# clipping the buildings to each affected municipality and saving it to a shapefile\n",
    "\n",
    "for mun in affected_mun.iloc[0:10].iterrows():\n",
    "    #print(mun[1].geometry)\n",
    "    roi_gdf = gpd.GeoDataFrame(geometry=[mun[1].geometry],crs=mun_gdf.crs)\n",
    "    mun_buildings = flooded_join_gdf.clip(roi_gdf)\n",
    "    foot_file = 'RS_URB_' + mun[1].NM_MUN + '_affected_buildings_A.shp'\n",
    "    mun_file_list.append(foot_file)\n",
    "    mun_buildings.to_file(AOI_path / foot_file)"
   ]
  },
  {
   "cell_type": "code",
   "execution_count": 29,
   "metadata": {},
   "outputs": [],
   "source": [
    "for mun in affected_mun.iloc[10:20].iterrows():\n",
    "    #print(mun[1].geometry)\n",
    "    roi_gdf = gpd.GeoDataFrame(geometry=[mun[1].geometry],crs=mun_gdf.crs)\n",
    "    mun_buildings = flooded_join_gdf.clip(roi_gdf)\n",
    "    foot_file = 'RS_URB_' + mun[1].NM_MUN + '_affected_buildings_A.shp'\n",
    "    mun_file_list.append(foot_file)\n",
    "    mun_buildings.to_file(AOI_path / foot_file)"
   ]
  },
  {
   "cell_type": "code",
   "execution_count": 30,
   "metadata": {},
   "outputs": [],
   "source": [
    "for mun in affected_mun.iloc[20:30].iterrows():\n",
    "    #print(mun[1].geometry)\n",
    "    roi_gdf = gpd.GeoDataFrame(geometry=[mun[1].geometry],crs=mun_gdf.crs)\n",
    "    mun_buildings = flooded_join_gdf.clip(roi_gdf)\n",
    "    foot_file = 'RS_URB_' + mun[1].NM_MUN + '_affected_buildings_A.shp'\n",
    "    mun_file_list.append(foot_file)\n",
    "    mun_buildings.to_file(AOI_path / foot_file)"
   ]
  },
  {
   "cell_type": "code",
   "execution_count": 31,
   "metadata": {},
   "outputs": [],
   "source": [
    "for mun in affected_mun.iloc[30:40].iterrows():\n",
    "    #print(mun[1].geometry)\n",
    "    roi_gdf = gpd.GeoDataFrame(geometry=[mun[1].geometry],crs=mun_gdf.crs)\n",
    "    mun_buildings = flooded_join_gdf.clip(roi_gdf)\n",
    "    foot_file = 'RS_URB_' + mun[1].NM_MUN + '_affected_buildings_A.shp'\n",
    "    mun_file_list.append(foot_file)\n",
    "    mun_buildings.to_file(AOI_path / foot_file)"
   ]
  },
  {
   "cell_type": "code",
   "execution_count": 32,
   "metadata": {},
   "outputs": [],
   "source": [
    "for mun in affected_mun.iloc[40:50].iterrows():\n",
    "    #print(mun[1].geometry)\n",
    "    roi_gdf = gpd.GeoDataFrame(geometry=[mun[1].geometry],crs=mun_gdf.crs)\n",
    "    mun_buildings = flooded_join_gdf.clip(roi_gdf)\n",
    "    foot_file = 'RS_URB_' + mun[1].NM_MUN + '_affected_buildings_A.shp'\n",
    "    mun_file_list.append(foot_file)\n",
    "    mun_buildings.to_file(AOI_path / foot_file)"
   ]
  },
  {
   "cell_type": "code",
   "execution_count": 33,
   "metadata": {},
   "outputs": [],
   "source": [
    "for mun in affected_mun.iloc[50:60].iterrows():\n",
    "    #print(mun[1].geometry)\n",
    "    roi_gdf = gpd.GeoDataFrame(geometry=[mun[1].geometry],crs=mun_gdf.crs)\n",
    "    mun_buildings = flooded_join_gdf.clip(roi_gdf)\n",
    "    foot_file = 'RS_URB_' + mun[1].NM_MUN + '_affected_buildings_A.shp'\n",
    "    mun_file_list.append(foot_file)\n",
    "    mun_buildings.to_file(AOI_path / foot_file)"
   ]
  },
  {
   "cell_type": "code",
   "execution_count": 34,
   "metadata": {},
   "outputs": [
    {
     "name": "stderr",
     "output_type": "stream",
     "text": [
      "C:\\Users\\ra42zek\\AppData\\Local\\Packages\\PythonSoftwareFoundation.Python.3.11_qbz5n2kfra8p0\\LocalCache\\local-packages\\Python311\\site-packages\\geopandas\\io\\file.py:612: UserWarning: You are attempting to write an empty DataFrame to file. For some drivers, this operation may fail.\n",
      "  _to_file_fiona(df, filename, driver, schema, crs, mode, **kwargs)\n"
     ]
    }
   ],
   "source": [
    "for mun in affected_mun.iloc[60:70].iterrows():\n",
    "    #print(mun[1].geometry)\n",
    "    roi_gdf = gpd.GeoDataFrame(geometry=[mun[1].geometry],crs=mun_gdf.crs)\n",
    "    mun_buildings = flooded_join_gdf.clip(roi_gdf)\n",
    "    foot_file = 'RS_URB_' + mun[1].NM_MUN + '_affected_buildings_A.shp'\n",
    "    mun_file_list.append(foot_file)\n",
    "    mun_buildings.to_file(AOI_path / foot_file)"
   ]
  },
  {
   "cell_type": "code",
   "execution_count": 35,
   "metadata": {},
   "outputs": [],
   "source": [
    "for mun in affected_mun.iloc[70:78].iterrows():\n",
    "    #print(mun[1].geometry)\n",
    "    roi_gdf = gpd.GeoDataFrame(geometry=[mun[1].geometry],crs=mun_gdf.crs)\n",
    "    mun_buildings = flooded_join_gdf.clip(roi_gdf)\n",
    "    foot_file = 'RS_URB_' + mun[1].NM_MUN + '_affected_buildings_A.shp'\n",
    "    mun_file_list.append(foot_file)\n",
    "    mun_buildings.to_file(AOI_path / foot_file)"
   ]
  },
  {
   "cell_type": "code",
   "execution_count": 36,
   "metadata": {},
   "outputs": [
    {
     "name": "stderr",
     "output_type": "stream",
     "text": [
      "C:\\Users\\ra42zek\\AppData\\Local\\Packages\\PythonSoftwareFoundation.Python.3.11_qbz5n2kfra8p0\\LocalCache\\local-packages\\Python311\\site-packages\\geopandas\\io\\file.py:612: UserWarning: You are attempting to write an empty DataFrame to file. For some drivers, this operation may fail.\n",
      "  _to_file_fiona(df, filename, driver, schema, crs, mode, **kwargs)\n"
     ]
    }
   ],
   "source": [
    "# building a single export run as geopackage\n",
    "# WARNING: this can take a while (not too bad, ca.12 min)\n",
    "\n",
    "for mun in affected_mun.iloc[0:156].iterrows():\n",
    "    roi_gdf = gpd.GeoDataFrame(geometry=[mun[1].geometry],crs=mun_gdf.crs)\n",
    "    mun_buildings = flooded_join_gdf.clip(roi_gdf)\n",
    "    foot_file = 'RS_URB_' + mun[1].NM_MUN + '_affected_buildings_A.gpkg'\n",
    "    mun_file_list.append(foot_file)\n",
    "    mun_buildings.to_file(AOI_path / foot_file, driver=\"GPKG\")"
   ]
  },
  {
   "cell_type": "code",
   "execution_count": 37,
   "metadata": {},
   "outputs": [
    {
     "data": {
      "text/plain": [
       "(157, 7)"
      ]
     },
     "execution_count": 37,
     "metadata": {},
     "output_type": "execute_result"
    }
   ],
   "source": [
    "affected_mun.shape"
   ]
  },
  {
   "cell_type": "code",
   "execution_count": 38,
   "metadata": {},
   "outputs": [],
   "source": [
    "for mun in affected_mun.iloc[78:157].iterrows():\n",
    "    roi_gdf = gpd.GeoDataFrame(geometry=[mun[1].geometry],crs=mun_gdf.crs)\n",
    "    mun_buildings = flooded_join_gdf.clip(roi_gdf)\n",
    "    foot_file = 'RS_URB_' + mun[1].NM_MUN + '_affected_buildings_A.gpkg'\n",
    "    mun_file_list.append(foot_file)\n",
    "    mun_buildings.to_file(AOI_path / foot_file, driver=\"GPKG\")"
   ]
  }
 ],
 "metadata": {
  "kernelspec": {
   "display_name": "Python 3",
   "language": "python",
   "name": "python3"
  },
  "language_info": {
   "codemirror_mode": {
    "name": "ipython",
    "version": 3
   },
   "file_extension": ".py",
   "mimetype": "text/x-python",
   "name": "python",
   "nbconvert_exporter": "python",
   "pygments_lexer": "ipython3",
   "version": "3.11.9"
  }
 },
 "nbformat": 4,
 "nbformat_minor": 2
}
