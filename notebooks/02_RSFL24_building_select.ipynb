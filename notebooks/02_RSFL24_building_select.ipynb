{
 "cells": [
  {
   "cell_type": "code",
   "execution_count": 1,
   "metadata": {},
   "outputs": [],
   "source": [
    "# import packages and libraries\n",
    "\n",
    "#import osmnx as ox\n",
    "import geopandas as gpd\n",
    "from pathlib import Path\n",
    "import folium \n"
   ]
  },
  {
   "cell_type": "markdown",
   "metadata": {},
   "source": [
    "# init\n",
    "@authors: [Alexandre Pereira Santos](alexandre.santos(at)lmu.de) & [Charlotta Mirbach](c.mirbach@lmu.de)\n",
    "\n",
    "## data\n",
    "- maximum flooded area (binarized)\n",
    "- municipalities Rio grande do Sul (Brazil)\n",
    "\n",
    "## tasks\n",
    "- generate polygons for affected municipalities\n",
    "- download OSM building for each affected municipality\n",
    "- identify buildings within flooded area\n",
    "- export to individual municipality buildings datasets\n"
   ]
  },
  {
   "cell_type": "markdown",
   "metadata": {},
   "source": [
    "## functions"
   ]
  },
  {
   "cell_type": "code",
   "execution_count": 2,
   "metadata": {},
   "outputs": [],
   "source": [
    "def osm_import_buildings(roi):\n",
    "    # convert to epsg 4326\n",
    "    roi_coords = roi.to_crs(epsg='4326').envelope\n",
    "\n",
    "    # list key-value pairs for tags\n",
    "    # Wiki url: https://wiki.openstreetmap.org/wiki/Key:building\n",
    "    tags = {'building': True, 'source': True}  # Include 'source' column in tags\n",
    "\n",
    "    # select relevant columns\n",
    "    col_list = ['osmid', 'name', 'source', 'geometry', 'building']  # Include 'source' column in col_list\n",
    "\n",
    "    # load buildings for bbox\n",
    "    buildings = ox.geometries_from_bbox(north=roi_coords.bounds.values[0][3],\n",
    "                                        south=roi_coords.bounds.values[0][1],\n",
    "                                        west=roi_coords.bounds.values[0][0],\n",
    "                                        east=roi_coords.bounds.values[0][2],\n",
    "                                        tags=tags)\n",
    "\n",
    "    buildings.reset_index(inplace=True)\n",
    "\n",
    "    # filter out the wrong geometries (not polygons) and element types (not 'way')\n",
    "    buildings = buildings.loc[(buildings.geometry.type.isin(['Polygon', 'MultiPolygon'])) & (buildings.element_type == 'way'), col_list]\n",
    "\n",
    "    # convert crs to match roi\n",
    "    buildings.to_crs(roi.crs, inplace=True)\n",
    "\n",
    "    # clip geometries to roi\n",
    "    clipped_gdf = gpd.clip(buildings, mask=roi, keep_geom_type=True)\n",
    "    \n",
    "    # return\n",
    "    return clipped_gdf\n"
   ]
  },
  {
   "cell_type": "markdown",
   "metadata": {},
   "source": [
    "## preprocessing"
   ]
  },
  {
   "cell_type": "markdown",
   "metadata": {},
   "source": [
    "### load input data"
   ]
  },
  {
   "cell_type": "code",
   "execution_count": 4,
   "metadata": {},
   "outputs": [
    {
     "name": "stdout",
     "output_type": "stream",
     "text": [
      "Flood CRS: EPSG:32722 , Municipality CRS: EPSG:32722 Buildings CRS: EPSG:4326\n"
     ]
    }
   ],
   "source": [
    "#input flooded area vector \n",
    "\n",
    "flood_path = Path('../data/processed/')\n",
    "flood_file = 'HYD_maximum_flood_area_2024_binary_A.shp' \n",
    "flood_gdf = gpd.read_file(flood_path/flood_file)\n",
    "flood_gdf.drop(['gridcode','area'], axis=1, inplace=True)\n",
    "\n",
    "# import the municipality boundaries\n",
    "mun_path = Path('../data/external/')\n",
    "mun_file = 'LIM_RS_municipalites_2022_A.shp'\n",
    "mun_gdf = gpd.read_file(mun_path/mun_file)\n",
    "mun_gdf = mun_gdf[(mun_gdf['NM_MUN']!='Lagoa dos Patos')]\n",
    "\n",
    "#import building footprints\n",
    "foot_path = Path('../../../Dropbox/x/PostDoc/02 colab and other/24 05 RS Floods/UFRGS/DADOS/Zenodo/V05/')\n",
    "foot_file = 'insumos_googlebuildings_edificacoes_rhguaiba.gpkg'\n",
    "foot_gdf = gpd.read_file(foot_path/foot_file, layer = 'rhguaiba_google_buildings')\n",
    "foot_gdf.to_crs(flood_gdf.crs, inplace=True)\n",
    "\n",
    "print('Flood CRS:', flood_gdf.crs,', Municipality CRS:', mun_gdf.crs, 'Buildings CRS:', foot_gdf.crs)"
   ]
  },
  {
   "cell_type": "code",
   "execution_count": 6,
   "metadata": {},
   "outputs": [],
   "source": [
    "foot_gdf.to_crs(flood_gdf.crs, inplace=True)"
   ]
  },
  {
   "cell_type": "markdown",
   "metadata": {},
   "source": [
    "### joining gdfs"
   ]
  },
  {
   "cell_type": "code",
   "execution_count": 7,
   "metadata": {},
   "outputs": [],
   "source": [
    "join_gdf = foot_gdf.sjoin(mun_gdf, how='inner', predicate=\"within\")\n",
    "#affected_mun = join_gdf[join_gdf['index_right'].notna()].dissolve('NM_MUN') #.index_right.dropna(axis=0, subset=['index_right'], inplace=True)\n",
    "#affected_mun.reset_index(inplace=True)\n",
    "#affected_mun"
   ]
  },
  {
   "cell_type": "markdown",
   "metadata": {},
   "source": [
    "### check join consistency"
   ]
  },
  {
   "cell_type": "code",
   "execution_count": 16,
   "metadata": {},
   "outputs": [
    {
     "data": {
      "text/html": [
       "<div>\n",
       "<style scoped>\n",
       "    .dataframe tbody tr th:only-of-type {\n",
       "        vertical-align: middle;\n",
       "    }\n",
       "\n",
       "    .dataframe tbody tr th {\n",
       "        vertical-align: top;\n",
       "    }\n",
       "\n",
       "    .dataframe thead th {\n",
       "        text-align: right;\n",
       "    }\n",
       "</style>\n",
       "<table border=\"1\" class=\"dataframe\">\n",
       "  <thead>\n",
       "    <tr style=\"text-align: right;\">\n",
       "      <th></th>\n",
       "      <th>latitude</th>\n",
       "      <th>longitude</th>\n",
       "      <th>area_in_meters</th>\n",
       "      <th>confidence</th>\n",
       "      <th>full_plus_code</th>\n",
       "      <th>geometry</th>\n",
       "    </tr>\n",
       "  </thead>\n",
       "  <tbody>\n",
       "    <tr>\n",
       "      <th>0</th>\n",
       "      <td>-28.848039</td>\n",
       "      <td>-51.572102</td>\n",
       "      <td>27.0563</td>\n",
       "      <td>0.6875</td>\n",
       "      <td>583C5C2H+Q5JG</td>\n",
       "      <td>POLYGON ((444198.500 6808713.500, 444198.500 6...</td>\n",
       "    </tr>\n",
       "    <tr>\n",
       "      <th>1</th>\n",
       "      <td>-30.026502</td>\n",
       "      <td>-51.051474</td>\n",
       "      <td>84.7454</td>\n",
       "      <td>0.7986</td>\n",
       "      <td>48XCXWFX+9CRX</td>\n",
       "      <td>POLYGON ((495044.173 6678274.812, 495043.362 6...</td>\n",
       "    </tr>\n",
       "    <tr>\n",
       "      <th>2</th>\n",
       "      <td>-28.805628</td>\n",
       "      <td>-51.295699</td>\n",
       "      <td>216.0186</td>\n",
       "      <td>0.8980</td>\n",
       "      <td>583C5PV3+PPVW</td>\n",
       "      <td>POLYGON ((471152.134 6813507.314, 471155.542 6...</td>\n",
       "    </tr>\n",
       "    <tr>\n",
       "      <th>3</th>\n",
       "      <td>-29.346574</td>\n",
       "      <td>-51.385515</td>\n",
       "      <td>7.1515</td>\n",
       "      <td>0.7107</td>\n",
       "      <td>582CMJ37+9QH4</td>\n",
       "      <td>POLYGON ((462577.930 6753555.721, 462575.757 6...</td>\n",
       "    </tr>\n",
       "    <tr>\n",
       "      <th>4</th>\n",
       "      <td>-30.667396</td>\n",
       "      <td>-51.931613</td>\n",
       "      <td>109.6640</td>\n",
       "      <td>0.8104</td>\n",
       "      <td>48XC83M9+29R3</td>\n",
       "      <td>POLYGON ((410755.858 6606894.732, 410746.009 6...</td>\n",
       "    </tr>\n",
       "  </tbody>\n",
       "</table>\n",
       "</div>"
      ],
      "text/plain": [
       "    latitude  longitude  area_in_meters  confidence full_plus_code  \\\n",
       "0 -28.848039 -51.572102         27.0563      0.6875  583C5C2H+Q5JG   \n",
       "1 -30.026502 -51.051474         84.7454      0.7986  48XCXWFX+9CRX   \n",
       "2 -28.805628 -51.295699        216.0186      0.8980  583C5PV3+PPVW   \n",
       "3 -29.346574 -51.385515          7.1515      0.7107  582CMJ37+9QH4   \n",
       "4 -30.667396 -51.931613        109.6640      0.8104  48XC83M9+29R3   \n",
       "\n",
       "                                            geometry  \n",
       "0  POLYGON ((444198.500 6808713.500, 444198.500 6...  \n",
       "1  POLYGON ((495044.173 6678274.812, 495043.362 6...  \n",
       "2  POLYGON ((471152.134 6813507.314, 471155.542 6...  \n",
       "3  POLYGON ((462577.930 6753555.721, 462575.757 6...  \n",
       "4  POLYGON ((410755.858 6606894.732, 410746.009 6...  "
      ]
     },
     "execution_count": 16,
     "metadata": {},
     "output_type": "execute_result"
    }
   ],
   "source": [
    "foot_gdf.head()"
   ]
  },
  {
   "cell_type": "code",
   "execution_count": 9,
   "metadata": {},
   "outputs": [
    {
     "name": "stdout",
     "output_type": "stream",
     "text": [
      "(5847115, 11) (5857714, 6)\n"
     ]
    }
   ],
   "source": [
    "print(join_gdf.shape, foot_gdf.shape)"
   ]
  },
  {
   "cell_type": "code",
   "execution_count": 27,
   "metadata": {},
   "outputs": [],
   "source": [
    "foot_len = len(foot_gdf.full_plus_code.unique())"
   ]
  },
  {
   "cell_type": "code",
   "execution_count": 28,
   "metadata": {},
   "outputs": [
    {
     "data": {
      "text/plain": [
       "-56"
      ]
     },
     "execution_count": 28,
     "metadata": {},
     "output_type": "execute_result"
    }
   ],
   "source": [
    "foot_len - foot_gdf.shape[0] # full_plus_code is not unique, but repeats in exceptional cases"
   ]
  },
  {
   "cell_type": "code",
   "execution_count": 12,
   "metadata": {},
   "outputs": [
    {
     "data": {
      "text/plain": [
       "count     5847115\n",
       "unique          1\n",
       "top         False\n",
       "freq      5847115\n",
       "Name: full_plus_code, dtype: object"
      ]
     },
     "execution_count": 12,
     "metadata": {},
     "output_type": "execute_result"
    }
   ],
   "source": [
    "join_gdf.full_plus_code.isna().describe() # there are no NA values in the full_plus_code in the joined df, though"
   ]
  },
  {
   "cell_type": "code",
   "execution_count": 29,
   "metadata": {},
   "outputs": [],
   "source": [
    "join_full_len = len(join_gdf.full_plus_code.unique())"
   ]
  },
  {
   "cell_type": "code",
   "execution_count": 30,
   "metadata": {},
   "outputs": [
    {
     "data": {
      "text/plain": [
       "-55"
      ]
     },
     "execution_count": 30,
     "metadata": {},
     "output_type": "execute_result"
    }
   ],
   "source": [
    "join_full_len - join_gdf.shape[0] # full_plus_code repeats in the same way it did for the foot_gdf, minus 1"
   ]
  },
  {
   "cell_type": "code",
   "execution_count": 34,
   "metadata": {},
   "outputs": [
    {
     "name": "stdout",
     "output_type": "stream",
     "text": [
      "there are 10599 less observations in the joined df than in the footprints df this means 0.18094089264173704 %\n"
     ]
    }
   ],
   "source": [
    "print('there are', foot_gdf.shape[0] - join_gdf.shape[0], 'less observations in the joined df than in the footprints df', \n",
    "      'this means', (foot_gdf.shape[0] - join_gdf.shape[0])/foot_gdf.shape[0] * 100, '%')"
   ]
  },
  {
   "cell_type": "markdown",
   "metadata": {},
   "source": [
    "### get bounding box for each municipality"
   ]
  },
  {
   "cell_type": "code",
   "execution_count": 6,
   "metadata": {},
   "outputs": [
    {
     "data": {
      "text/plain": [
       "<Axes: >"
      ]
     },
     "execution_count": 6,
     "metadata": {},
     "output_type": "execute_result"
    },
    {
     "data": {
      "image/png": "[encoded data removed]",
      "text/plain": [
       "<Figure size 640x480 with 1 Axes>"
      ]
     },
     "metadata": {},
     "output_type": "display_data"
    }
   ],
   "source": [
    "# extract a Bbox from each affected_mun feature\n",
    "affected_mun_env =  affected_mun\n",
    "affected_mun_env.geometry = affected_mun_env.envelope\n",
    "affected_mun_env.plot('NM_MUN')"
   ]
  },
  {
   "cell_type": "markdown",
   "metadata": {},
   "source": [
    "## get OSM data"
   ]
  },
  {
   "cell_type": "markdown",
   "metadata": {},
   "source": [
    "## load buildings for each municipality"
   ]
  },
  {
   "cell_type": "code",
   "execution_count": 13,
   "metadata": {},
   "outputs": [],
   "source": [
    "# process building data in batches\n",
    "def process_osm_data(geo_df, batch_size=10, path='output_path'):\n",
    "    path = Path(path)\n",
    "    path.mkdir(parents=True, exist_ok=True)  # Ensure the directory exists\n",
    "    \n",
    "    for i in range(0, len(geo_df), batch_size):\n",
    "        batch = geo_df.iloc[i:i+batch_size]\n",
    "        for _, mun in batch.iterrows():\n",
    "            roi_file = path / f'LOC_{mun.NM_MUN}_buildings_OSM_2024_L.shp'\n",
    "            \n",
    "            # Check if the file already exists\n",
    "            if roi_file.exists():\n",
    "                print(f'Skipping {roi_file} as it already exists.')\n",
    "                continue  # Skip to the next iteration if file exists\n",
    "            \n",
    "            roi_gdf = gpd.GeoDataFrame(geometry=[mun.geometry], crs=geo_df.crs)\n",
    "            roi_buildings = osm_import_buildings(roi_gdf)\n",
    "            roi_buildings.to_file(roi_file)\n",
    "            print(f'Processed and saved: {roi_file}')\n",
    "\n"
   ]
  },
  {
   "cell_type": "code",
   "execution_count": 15,
   "metadata": {},
   "outputs": [
    {
     "name": "stdout",
     "output_type": "stream",
     "text": [
      "Skipping ..\\data\\processed\\LOC_Agudo_buildings_OSM_2024_L.shp as it already exists.\n",
      "Skipping ..\\data\\processed\\LOC_Alvorada_buildings_OSM_2024_L.shp as it already exists.\n",
      "Skipping ..\\data\\processed\\LOC_Arroio do Meio_buildings_OSM_2024_L.shp as it already exists.\n",
      "Skipping ..\\data\\processed\\LOC_Arroio dos Ratos_buildings_OSM_2024_L.shp as it already exists.\n",
      "Skipping ..\\data\\processed\\LOC_Barra do Ribeiro_buildings_OSM_2024_L.shp as it already exists.\n",
      "Skipping ..\\data\\processed\\LOC_Bento Gonçalves_buildings_OSM_2024_L.shp as it already exists.\n",
      "Skipping ..\\data\\processed\\LOC_Bom Retiro do Sul_buildings_OSM_2024_L.shp as it already exists.\n",
      "Skipping ..\\data\\processed\\LOC_Butiá_buildings_OSM_2024_L.shp as it already exists.\n",
      "Skipping ..\\data\\processed\\LOC_Cachoeira do Sul_buildings_OSM_2024_L.shp as it already exists.\n"
     ]
    },
    {
     "name": "stderr",
     "output_type": "stream",
     "text": [
      "C:\\Users\\charl\\AppData\\Local\\Temp\\ipykernel_12776\\3109598972.py:13: UserWarning: The `geometries` module and `geometries_from_X` functions have been renamed the `features` module and `features_from_X` functions. Use these instead. The `geometries` module and function names are deprecated and will be removed in a future release.\n",
      "  buildings = ox.geometries_from_bbox(north=roi_coords.bounds.values[0][3],\n",
      "C:\\Users\\charl\\AppData\\Local\\Packages\\PythonSoftwareFoundation.Python.3.11_qbz5n2kfra8p0\\LocalCache\\local-packages\\Python311\\site-packages\\geopandas\\tools\\clip.py:67: DeprecationWarning: In a future version, `df.iloc[:, i] = newvals` will attempt to set the values inplace instead of always setting a new array. To retain the old behavior, use either `df[df.columns[i]] = newvals` or, if columns are non-unique, `df.isetitem(i, newvals)`\n",
      "  clipped.loc[\n"
     ]
    },
    {
     "name": "stdout",
     "output_type": "stream",
     "text": [
      "Processed and saved: ..\\data\\processed\\LOC_Cachoeirinha_buildings_OSM_2024_L.shp\n"
     ]
    },
    {
     "name": "stderr",
     "output_type": "stream",
     "text": [
      "C:\\Users\\charl\\AppData\\Local\\Temp\\ipykernel_12776\\3109598972.py:13: UserWarning: The `geometries` module and `geometries_from_X` functions have been renamed the `features` module and `features_from_X` functions. Use these instead. The `geometries` module and function names are deprecated and will be removed in a future release.\n",
      "  buildings = ox.geometries_from_bbox(north=roi_coords.bounds.values[0][3],\n",
      "C:\\Users\\charl\\AppData\\Local\\Packages\\PythonSoftwareFoundation.Python.3.11_qbz5n2kfra8p0\\LocalCache\\local-packages\\Python311\\site-packages\\geopandas\\tools\\clip.py:67: DeprecationWarning: In a future version, `df.iloc[:, i] = newvals` will attempt to set the values inplace instead of always setting a new array. To retain the old behavior, use either `df[df.columns[i]] = newvals` or, if columns are non-unique, `df.isetitem(i, newvals)`\n",
      "  clipped.loc[\n"
     ]
    },
    {
     "name": "stdout",
     "output_type": "stream",
     "text": [
      "Processed and saved: ..\\data\\processed\\LOC_Campo Bom_buildings_OSM_2024_L.shp\n"
     ]
    },
    {
     "name": "stderr",
     "output_type": "stream",
     "text": [
      "C:\\Users\\charl\\AppData\\Local\\Temp\\ipykernel_12776\\3109598972.py:13: UserWarning: The `geometries` module and `geometries_from_X` functions have been renamed the `features` module and `features_from_X` functions. Use these instead. The `geometries` module and function names are deprecated and will be removed in a future release.\n",
      "  buildings = ox.geometries_from_bbox(north=roi_coords.bounds.values[0][3],\n",
      "C:\\Users\\charl\\AppData\\Local\\Packages\\PythonSoftwareFoundation.Python.3.11_qbz5n2kfra8p0\\LocalCache\\local-packages\\Python311\\site-packages\\geopandas\\tools\\clip.py:67: DeprecationWarning: In a future version, `df.iloc[:, i] = newvals` will attempt to set the values inplace instead of always setting a new array. To retain the old behavior, use either `df[df.columns[i]] = newvals` or, if columns are non-unique, `df.isetitem(i, newvals)`\n",
      "  clipped.loc[\n"
     ]
    },
    {
     "name": "stdout",
     "output_type": "stream",
     "text": [
      "Processed and saved: ..\\data\\processed\\LOC_Candelária_buildings_OSM_2024_L.shp\n"
     ]
    },
    {
     "name": "stderr",
     "output_type": "stream",
     "text": [
      "C:\\Users\\charl\\AppData\\Local\\Temp\\ipykernel_12776\\3109598972.py:13: UserWarning: The `geometries` module and `geometries_from_X` functions have been renamed the `features` module and `features_from_X` functions. Use these instead. The `geometries` module and function names are deprecated and will be removed in a future release.\n",
      "  buildings = ox.geometries_from_bbox(north=roi_coords.bounds.values[0][3],\n",
      "C:\\Users\\charl\\AppData\\Local\\Packages\\PythonSoftwareFoundation.Python.3.11_qbz5n2kfra8p0\\LocalCache\\local-packages\\Python311\\site-packages\\geopandas\\tools\\clip.py:67: DeprecationWarning: In a future version, `df.iloc[:, i] = newvals` will attempt to set the values inplace instead of always setting a new array. To retain the old behavior, use either `df[df.columns[i]] = newvals` or, if columns are non-unique, `df.isetitem(i, newvals)`\n",
      "  clipped.loc[\n"
     ]
    },
    {
     "name": "stdout",
     "output_type": "stream",
     "text": [
      "Processed and saved: ..\\data\\processed\\LOC_Canoas_buildings_OSM_2024_L.shp\n"
     ]
    },
    {
     "name": "stderr",
     "output_type": "stream",
     "text": [
      "C:\\Users\\charl\\AppData\\Local\\Temp\\ipykernel_12776\\3109598972.py:13: UserWarning: The `geometries` module and `geometries_from_X` functions have been renamed the `features` module and `features_from_X` functions. Use these instead. The `geometries` module and function names are deprecated and will be removed in a future release.\n",
      "  buildings = ox.geometries_from_bbox(north=roi_coords.bounds.values[0][3],\n",
      "C:\\Users\\charl\\AppData\\Local\\Packages\\PythonSoftwareFoundation.Python.3.11_qbz5n2kfra8p0\\LocalCache\\local-packages\\Python311\\site-packages\\geopandas\\tools\\clip.py:67: DeprecationWarning: In a future version, `df.iloc[:, i] = newvals` will attempt to set the values inplace instead of always setting a new array. To retain the old behavior, use either `df[df.columns[i]] = newvals` or, if columns are non-unique, `df.isetitem(i, newvals)`\n",
      "  clipped.loc[\n"
     ]
    },
    {
     "name": "stdout",
     "output_type": "stream",
     "text": [
      "Processed and saved: ..\\data\\processed\\LOC_Capela de Santana_buildings_OSM_2024_L.shp\n"
     ]
    },
    {
     "name": "stderr",
     "output_type": "stream",
     "text": [
      "C:\\Users\\charl\\AppData\\Local\\Temp\\ipykernel_12776\\3109598972.py:13: UserWarning: The `geometries` module and `geometries_from_X` functions have been renamed the `features` module and `features_from_X` functions. Use these instead. The `geometries` module and function names are deprecated and will be removed in a future release.\n",
      "  buildings = ox.geometries_from_bbox(north=roi_coords.bounds.values[0][3],\n",
      "C:\\Users\\charl\\AppData\\Local\\Packages\\PythonSoftwareFoundation.Python.3.11_qbz5n2kfra8p0\\LocalCache\\local-packages\\Python311\\site-packages\\geopandas\\tools\\clip.py:67: DeprecationWarning: In a future version, `df.iloc[:, i] = newvals` will attempt to set the values inplace instead of always setting a new array. To retain the old behavior, use either `df[df.columns[i]] = newvals` or, if columns are non-unique, `df.isetitem(i, newvals)`\n",
      "  clipped.loc[\n"
     ]
    },
    {
     "name": "stdout",
     "output_type": "stream",
     "text": [
      "Processed and saved: ..\\data\\processed\\LOC_Caçapava do Sul_buildings_OSM_2024_L.shp\n"
     ]
    },
    {
     "name": "stderr",
     "output_type": "stream",
     "text": [
      "C:\\Users\\charl\\AppData\\Local\\Temp\\ipykernel_12776\\3109598972.py:13: UserWarning: The `geometries` module and `geometries_from_X` functions have been renamed the `features` module and `features_from_X` functions. Use these instead. The `geometries` module and function names are deprecated and will be removed in a future release.\n",
      "  buildings = ox.geometries_from_bbox(north=roi_coords.bounds.values[0][3],\n",
      "C:\\Users\\charl\\AppData\\Local\\Packages\\PythonSoftwareFoundation.Python.3.11_qbz5n2kfra8p0\\LocalCache\\local-packages\\Python311\\site-packages\\geopandas\\tools\\clip.py:67: DeprecationWarning: In a future version, `df.iloc[:, i] = newvals` will attempt to set the values inplace instead of always setting a new array. To retain the old behavior, use either `df[df.columns[i]] = newvals` or, if columns are non-unique, `df.isetitem(i, newvals)`\n",
      "  clipped.loc[\n",
      "C:\\Users\\charl\\AppData\\Local\\Temp\\ipykernel_12776\\3109598972.py:13: UserWarning: The `geometries` module and `geometries_from_X` functions have been renamed the `features` module and `features_from_X` functions. Use these instead. The `geometries` module and function names are deprecated and will be removed in a future release.\n",
      "  buildings = ox.geometries_from_bbox(north=roi_coords.bounds.values[0][3],\n"
     ]
    },
    {
     "name": "stdout",
     "output_type": "stream",
     "text": [
      "Processed and saved: ..\\data\\processed\\LOC_Charqueadas_buildings_OSM_2024_L.shp\n"
     ]
    },
    {
     "name": "stderr",
     "output_type": "stream",
     "text": [
      "C:\\Users\\charl\\AppData\\Local\\Packages\\PythonSoftwareFoundation.Python.3.11_qbz5n2kfra8p0\\LocalCache\\local-packages\\Python311\\site-packages\\geopandas\\tools\\clip.py:67: DeprecationWarning: In a future version, `df.iloc[:, i] = newvals` will attempt to set the values inplace instead of always setting a new array. To retain the old behavior, use either `df[df.columns[i]] = newvals` or, if columns are non-unique, `df.isetitem(i, newvals)`\n",
      "  clipped.loc[\n"
     ]
    },
    {
     "name": "stdout",
     "output_type": "stream",
     "text": [
      "Processed and saved: ..\\data\\processed\\LOC_Colinas_buildings_OSM_2024_L.shp\n"
     ]
    },
    {
     "name": "stderr",
     "output_type": "stream",
     "text": [
      "C:\\Users\\charl\\AppData\\Local\\Temp\\ipykernel_12776\\3109598972.py:13: UserWarning: The `geometries` module and `geometries_from_X` functions have been renamed the `features` module and `features_from_X` functions. Use these instead. The `geometries` module and function names are deprecated and will be removed in a future release.\n",
      "  buildings = ox.geometries_from_bbox(north=roi_coords.bounds.values[0][3],\n",
      "C:\\Users\\charl\\AppData\\Local\\Packages\\PythonSoftwareFoundation.Python.3.11_qbz5n2kfra8p0\\LocalCache\\local-packages\\Python311\\site-packages\\geopandas\\tools\\clip.py:67: DeprecationWarning: In a future version, `df.iloc[:, i] = newvals` will attempt to set the values inplace instead of always setting a new array. To retain the old behavior, use either `df[df.columns[i]] = newvals` or, if columns are non-unique, `df.isetitem(i, newvals)`\n",
      "  clipped.loc[\n"
     ]
    },
    {
     "name": "stdout",
     "output_type": "stream",
     "text": [
      "Processed and saved: ..\\data\\processed\\LOC_Cotiporã_buildings_OSM_2024_L.shp\n"
     ]
    },
    {
     "name": "stderr",
     "output_type": "stream",
     "text": [
      "C:\\Users\\charl\\AppData\\Local\\Temp\\ipykernel_12776\\3109598972.py:13: UserWarning: The `geometries` module and `geometries_from_X` functions have been renamed the `features` module and `features_from_X` functions. Use these instead. The `geometries` module and function names are deprecated and will be removed in a future release.\n",
      "  buildings = ox.geometries_from_bbox(north=roi_coords.bounds.values[0][3],\n",
      "C:\\Users\\charl\\AppData\\Local\\Packages\\PythonSoftwareFoundation.Python.3.11_qbz5n2kfra8p0\\LocalCache\\local-packages\\Python311\\site-packages\\geopandas\\tools\\clip.py:67: DeprecationWarning: In a future version, `df.iloc[:, i] = newvals` will attempt to set the values inplace instead of always setting a new array. To retain the old behavior, use either `df[df.columns[i]] = newvals` or, if columns are non-unique, `df.isetitem(i, newvals)`\n",
      "  clipped.loc[\n"
     ]
    },
    {
     "name": "stdout",
     "output_type": "stream",
     "text": [
      "Processed and saved: ..\\data\\processed\\LOC_Cruzeiro do Sul_buildings_OSM_2024_L.shp\n"
     ]
    },
    {
     "name": "stderr",
     "output_type": "stream",
     "text": [
      "C:\\Users\\charl\\AppData\\Local\\Temp\\ipykernel_12776\\3109598972.py:13: UserWarning: The `geometries` module and `geometries_from_X` functions have been renamed the `features` module and `features_from_X` functions. Use these instead. The `geometries` module and function names are deprecated and will be removed in a future release.\n",
      "  buildings = ox.geometries_from_bbox(north=roi_coords.bounds.values[0][3],\n",
      "C:\\Users\\charl\\AppData\\Local\\Packages\\PythonSoftwareFoundation.Python.3.11_qbz5n2kfra8p0\\LocalCache\\local-packages\\Python311\\site-packages\\geopandas\\tools\\clip.py:67: DeprecationWarning: In a future version, `df.iloc[:, i] = newvals` will attempt to set the values inplace instead of always setting a new array. To retain the old behavior, use either `df[df.columns[i]] = newvals` or, if columns are non-unique, `df.isetitem(i, newvals)`\n",
      "  clipped.loc[\n"
     ]
    },
    {
     "name": "stdout",
     "output_type": "stream",
     "text": [
      "Processed and saved: ..\\data\\processed\\LOC_Dona Francisca_buildings_OSM_2024_L.shp\n"
     ]
    },
    {
     "name": "stderr",
     "output_type": "stream",
     "text": [
      "C:\\Users\\charl\\AppData\\Local\\Temp\\ipykernel_12776\\3109598972.py:13: UserWarning: The `geometries` module and `geometries_from_X` functions have been renamed the `features` module and `features_from_X` functions. Use these instead. The `geometries` module and function names are deprecated and will be removed in a future release.\n",
      "  buildings = ox.geometries_from_bbox(north=roi_coords.bounds.values[0][3],\n",
      "C:\\Users\\charl\\AppData\\Local\\Packages\\PythonSoftwareFoundation.Python.3.11_qbz5n2kfra8p0\\LocalCache\\local-packages\\Python311\\site-packages\\geopandas\\tools\\clip.py:67: DeprecationWarning: In a future version, `df.iloc[:, i] = newvals` will attempt to set the values inplace instead of always setting a new array. To retain the old behavior, use either `df[df.columns[i]] = newvals` or, if columns are non-unique, `df.isetitem(i, newvals)`\n",
      "  clipped.loc[\n"
     ]
    },
    {
     "name": "stdout",
     "output_type": "stream",
     "text": [
      "Processed and saved: ..\\data\\processed\\LOC_Doutor Ricardo_buildings_OSM_2024_L.shp\n"
     ]
    },
    {
     "name": "stderr",
     "output_type": "stream",
     "text": [
      "C:\\Users\\charl\\AppData\\Local\\Temp\\ipykernel_12776\\3109598972.py:13: UserWarning: The `geometries` module and `geometries_from_X` functions have been renamed the `features` module and `features_from_X` functions. Use these instead. The `geometries` module and function names are deprecated and will be removed in a future release.\n",
      "  buildings = ox.geometries_from_bbox(north=roi_coords.bounds.values[0][3],\n",
      "C:\\Users\\charl\\AppData\\Local\\Packages\\PythonSoftwareFoundation.Python.3.11_qbz5n2kfra8p0\\LocalCache\\local-packages\\Python311\\site-packages\\geopandas\\tools\\clip.py:67: DeprecationWarning: In a future version, `df.iloc[:, i] = newvals` will attempt to set the values inplace instead of always setting a new array. To retain the old behavior, use either `df[df.columns[i]] = newvals` or, if columns are non-unique, `df.isetitem(i, newvals)`\n",
      "  clipped.loc[\n"
     ]
    },
    {
     "name": "stdout",
     "output_type": "stream",
     "text": [
      "Processed and saved: ..\\data\\processed\\LOC_Eldorado do Sul_buildings_OSM_2024_L.shp\n"
     ]
    },
    {
     "name": "stderr",
     "output_type": "stream",
     "text": [
      "C:\\Users\\charl\\AppData\\Local\\Temp\\ipykernel_12776\\3109598972.py:13: UserWarning: The `geometries` module and `geometries_from_X` functions have been renamed the `features` module and `features_from_X` functions. Use these instead. The `geometries` module and function names are deprecated and will be removed in a future release.\n",
      "  buildings = ox.geometries_from_bbox(north=roi_coords.bounds.values[0][3],\n",
      "C:\\Users\\charl\\AppData\\Local\\Packages\\PythonSoftwareFoundation.Python.3.11_qbz5n2kfra8p0\\LocalCache\\local-packages\\Python311\\site-packages\\geopandas\\tools\\clip.py:67: DeprecationWarning: In a future version, `df.iloc[:, i] = newvals` will attempt to set the values inplace instead of always setting a new array. To retain the old behavior, use either `df[df.columns[i]] = newvals` or, if columns are non-unique, `df.isetitem(i, newvals)`\n",
      "  clipped.loc[\n"
     ]
    },
    {
     "name": "stdout",
     "output_type": "stream",
     "text": [
      "Processed and saved: ..\\data\\processed\\LOC_Encantado_buildings_OSM_2024_L.shp\n"
     ]
    },
    {
     "name": "stderr",
     "output_type": "stream",
     "text": [
      "C:\\Users\\charl\\AppData\\Local\\Temp\\ipykernel_12776\\3109598972.py:13: UserWarning: The `geometries` module and `geometries_from_X` functions have been renamed the `features` module and `features_from_X` functions. Use these instead. The `geometries` module and function names are deprecated and will be removed in a future release.\n",
      "  buildings = ox.geometries_from_bbox(north=roi_coords.bounds.values[0][3],\n",
      "C:\\Users\\charl\\AppData\\Local\\Packages\\PythonSoftwareFoundation.Python.3.11_qbz5n2kfra8p0\\LocalCache\\local-packages\\Python311\\site-packages\\geopandas\\tools\\clip.py:67: DeprecationWarning: In a future version, `df.iloc[:, i] = newvals` will attempt to set the values inplace instead of always setting a new array. To retain the old behavior, use either `df[df.columns[i]] = newvals` or, if columns are non-unique, `df.isetitem(i, newvals)`\n",
      "  clipped.loc[\n"
     ]
    },
    {
     "name": "stdout",
     "output_type": "stream",
     "text": [
      "Processed and saved: ..\\data\\processed\\LOC_Encruzilhada do Sul_buildings_OSM_2024_L.shp\n"
     ]
    },
    {
     "name": "stderr",
     "output_type": "stream",
     "text": [
      "C:\\Users\\charl\\AppData\\Local\\Temp\\ipykernel_12776\\3109598972.py:13: UserWarning: The `geometries` module and `geometries_from_X` functions have been renamed the `features` module and `features_from_X` functions. Use these instead. The `geometries` module and function names are deprecated and will be removed in a future release.\n",
      "  buildings = ox.geometries_from_bbox(north=roi_coords.bounds.values[0][3],\n",
      "C:\\Users\\charl\\AppData\\Local\\Packages\\PythonSoftwareFoundation.Python.3.11_qbz5n2kfra8p0\\LocalCache\\local-packages\\Python311\\site-packages\\geopandas\\tools\\clip.py:67: DeprecationWarning: In a future version, `df.iloc[:, i] = newvals` will attempt to set the values inplace instead of always setting a new array. To retain the old behavior, use either `df[df.columns[i]] = newvals` or, if columns are non-unique, `df.isetitem(i, newvals)`\n",
      "  clipped.loc[\n"
     ]
    },
    {
     "name": "stdout",
     "output_type": "stream",
     "text": [
      "Processed and saved: ..\\data\\processed\\LOC_Esteio_buildings_OSM_2024_L.shp\n"
     ]
    },
    {
     "name": "stderr",
     "output_type": "stream",
     "text": [
      "C:\\Users\\charl\\AppData\\Local\\Temp\\ipykernel_12776\\3109598972.py:13: UserWarning: The `geometries` module and `geometries_from_X` functions have been renamed the `features` module and `features_from_X` functions. Use these instead. The `geometries` module and function names are deprecated and will be removed in a future release.\n",
      "  buildings = ox.geometries_from_bbox(north=roi_coords.bounds.values[0][3],\n",
      "C:\\Users\\charl\\AppData\\Local\\Packages\\PythonSoftwareFoundation.Python.3.11_qbz5n2kfra8p0\\LocalCache\\local-packages\\Python311\\site-packages\\geopandas\\tools\\clip.py:67: DeprecationWarning: In a future version, `df.iloc[:, i] = newvals` will attempt to set the values inplace instead of always setting a new array. To retain the old behavior, use either `df[df.columns[i]] = newvals` or, if columns are non-unique, `df.isetitem(i, newvals)`\n",
      "  clipped.loc[\n"
     ]
    },
    {
     "name": "stdout",
     "output_type": "stream",
     "text": [
      "Processed and saved: ..\\data\\processed\\LOC_Estrela_buildings_OSM_2024_L.shp\n"
     ]
    },
    {
     "name": "stderr",
     "output_type": "stream",
     "text": [
      "C:\\Users\\charl\\AppData\\Local\\Temp\\ipykernel_12776\\3109598972.py:13: UserWarning: The `geometries` module and `geometries_from_X` functions have been renamed the `features` module and `features_from_X` functions. Use these instead. The `geometries` module and function names are deprecated and will be removed in a future release.\n",
      "  buildings = ox.geometries_from_bbox(north=roi_coords.bounds.values[0][3],\n",
      "C:\\Users\\charl\\AppData\\Local\\Packages\\PythonSoftwareFoundation.Python.3.11_qbz5n2kfra8p0\\LocalCache\\local-packages\\Python311\\site-packages\\geopandas\\tools\\clip.py:67: DeprecationWarning: In a future version, `df.iloc[:, i] = newvals` will attempt to set the values inplace instead of always setting a new array. To retain the old behavior, use either `df[df.columns[i]] = newvals` or, if columns are non-unique, `df.isetitem(i, newvals)`\n",
      "  clipped.loc[\n"
     ]
    },
    {
     "name": "stdout",
     "output_type": "stream",
     "text": [
      "Processed and saved: ..\\data\\processed\\LOC_Faxinal do Soturno_buildings_OSM_2024_L.shp\n"
     ]
    },
    {
     "name": "stderr",
     "output_type": "stream",
     "text": [
      "C:\\Users\\charl\\AppData\\Local\\Temp\\ipykernel_12776\\3109598972.py:13: UserWarning: The `geometries` module and `geometries_from_X` functions have been renamed the `features` module and `features_from_X` functions. Use these instead. The `geometries` module and function names are deprecated and will be removed in a future release.\n",
      "  buildings = ox.geometries_from_bbox(north=roi_coords.bounds.values[0][3],\n",
      "C:\\Users\\charl\\AppData\\Local\\Packages\\PythonSoftwareFoundation.Python.3.11_qbz5n2kfra8p0\\LocalCache\\local-packages\\Python311\\site-packages\\geopandas\\tools\\clip.py:67: DeprecationWarning: In a future version, `df.iloc[:, i] = newvals` will attempt to set the values inplace instead of always setting a new array. To retain the old behavior, use either `df[df.columns[i]] = newvals` or, if columns are non-unique, `df.isetitem(i, newvals)`\n",
      "  clipped.loc[\n"
     ]
    },
    {
     "name": "stdout",
     "output_type": "stream",
     "text": [
      "Processed and saved: ..\\data\\processed\\LOC_Formigueiro_buildings_OSM_2024_L.shp\n"
     ]
    },
    {
     "name": "stderr",
     "output_type": "stream",
     "text": [
      "C:\\Users\\charl\\AppData\\Local\\Temp\\ipykernel_12776\\3109598972.py:13: UserWarning: The `geometries` module and `geometries_from_X` functions have been renamed the `features` module and `features_from_X` functions. Use these instead. The `geometries` module and function names are deprecated and will be removed in a future release.\n",
      "  buildings = ox.geometries_from_bbox(north=roi_coords.bounds.values[0][3],\n",
      "C:\\Users\\charl\\AppData\\Local\\Packages\\PythonSoftwareFoundation.Python.3.11_qbz5n2kfra8p0\\LocalCache\\local-packages\\Python311\\site-packages\\geopandas\\tools\\clip.py:67: DeprecationWarning: In a future version, `df.iloc[:, i] = newvals` will attempt to set the values inplace instead of always setting a new array. To retain the old behavior, use either `df[df.columns[i]] = newvals` or, if columns are non-unique, `df.isetitem(i, newvals)`\n",
      "  clipped.loc[\n"
     ]
    },
    {
     "name": "stdout",
     "output_type": "stream",
     "text": [
      "Processed and saved: ..\\data\\processed\\LOC_Forquetinha_buildings_OSM_2024_L.shp\n"
     ]
    },
    {
     "name": "stderr",
     "output_type": "stream",
     "text": [
      "C:\\Users\\charl\\AppData\\Local\\Temp\\ipykernel_12776\\3109598972.py:13: UserWarning: The `geometries` module and `geometries_from_X` functions have been renamed the `features` module and `features_from_X` functions. Use these instead. The `geometries` module and function names are deprecated and will be removed in a future release.\n",
      "  buildings = ox.geometries_from_bbox(north=roi_coords.bounds.values[0][3],\n",
      "C:\\Users\\charl\\AppData\\Local\\Packages\\PythonSoftwareFoundation.Python.3.11_qbz5n2kfra8p0\\LocalCache\\local-packages\\Python311\\site-packages\\geopandas\\tools\\clip.py:67: DeprecationWarning: In a future version, `df.iloc[:, i] = newvals` will attempt to set the values inplace instead of always setting a new array. To retain the old behavior, use either `df[df.columns[i]] = newvals` or, if columns are non-unique, `df.isetitem(i, newvals)`\n",
      "  clipped.loc[\n"
     ]
    },
    {
     "name": "stdout",
     "output_type": "stream",
     "text": [
      "Processed and saved: ..\\data\\processed\\LOC_General Câmara_buildings_OSM_2024_L.shp\n"
     ]
    },
    {
     "name": "stderr",
     "output_type": "stream",
     "text": [
      "C:\\Users\\charl\\AppData\\Local\\Temp\\ipykernel_12776\\3109598972.py:13: UserWarning: The `geometries` module and `geometries_from_X` functions have been renamed the `features` module and `features_from_X` functions. Use these instead. The `geometries` module and function names are deprecated and will be removed in a future release.\n",
      "  buildings = ox.geometries_from_bbox(north=roi_coords.bounds.values[0][3],\n",
      "C:\\Users\\charl\\AppData\\Local\\Packages\\PythonSoftwareFoundation.Python.3.11_qbz5n2kfra8p0\\LocalCache\\local-packages\\Python311\\site-packages\\geopandas\\tools\\clip.py:67: DeprecationWarning: In a future version, `df.iloc[:, i] = newvals` will attempt to set the values inplace instead of always setting a new array. To retain the old behavior, use either `df[df.columns[i]] = newvals` or, if columns are non-unique, `df.isetitem(i, newvals)`\n",
      "  clipped.loc[\n"
     ]
    },
    {
     "name": "stdout",
     "output_type": "stream",
     "text": [
      "Processed and saved: ..\\data\\processed\\LOC_Gravataí_buildings_OSM_2024_L.shp\n"
     ]
    },
    {
     "name": "stderr",
     "output_type": "stream",
     "text": [
      "C:\\Users\\charl\\AppData\\Local\\Temp\\ipykernel_12776\\3109598972.py:13: UserWarning: The `geometries` module and `geometries_from_X` functions have been renamed the `features` module and `features_from_X` functions. Use these instead. The `geometries` module and function names are deprecated and will be removed in a future release.\n",
      "  buildings = ox.geometries_from_bbox(north=roi_coords.bounds.values[0][3],\n",
      "C:\\Users\\charl\\AppData\\Local\\Packages\\PythonSoftwareFoundation.Python.3.11_qbz5n2kfra8p0\\LocalCache\\local-packages\\Python311\\site-packages\\geopandas\\tools\\clip.py:67: DeprecationWarning: In a future version, `df.iloc[:, i] = newvals` will attempt to set the values inplace instead of always setting a new array. To retain the old behavior, use either `df[df.columns[i]] = newvals` or, if columns are non-unique, `df.isetitem(i, newvals)`\n",
      "  clipped.loc[\n",
      "C:\\Users\\charl\\AppData\\Local\\Temp\\ipykernel_12776\\3109598972.py:13: UserWarning: The `geometries` module and `geometries_from_X` functions have been renamed the `features` module and `features_from_X` functions. Use these instead. The `geometries` module and function names are deprecated and will be removed in a future release.\n",
      "  buildings = ox.geometries_from_bbox(north=roi_coords.bounds.values[0][3],\n"
     ]
    },
    {
     "name": "stdout",
     "output_type": "stream",
     "text": [
      "Processed and saved: ..\\data\\processed\\LOC_Guaíba_buildings_OSM_2024_L.shp\n"
     ]
    },
    {
     "name": "stderr",
     "output_type": "stream",
     "text": [
      "C:\\Users\\charl\\AppData\\Local\\Packages\\PythonSoftwareFoundation.Python.3.11_qbz5n2kfra8p0\\LocalCache\\local-packages\\Python311\\site-packages\\geopandas\\tools\\clip.py:67: DeprecationWarning: In a future version, `df.iloc[:, i] = newvals` will attempt to set the values inplace instead of always setting a new array. To retain the old behavior, use either `df[df.columns[i]] = newvals` or, if columns are non-unique, `df.isetitem(i, newvals)`\n",
      "  clipped.loc[\n",
      "C:\\Users\\charl\\AppData\\Local\\Temp\\ipykernel_12776\\3109598972.py:13: UserWarning: The `geometries` module and `geometries_from_X` functions have been renamed the `features` module and `features_from_X` functions. Use these instead. The `geometries` module and function names are deprecated and will be removed in a future release.\n",
      "  buildings = ox.geometries_from_bbox(north=roi_coords.bounds.values[0][3],\n"
     ]
    },
    {
     "name": "stdout",
     "output_type": "stream",
     "text": [
      "Processed and saved: ..\\data\\processed\\LOC_Harmonia_buildings_OSM_2024_L.shp\n"
     ]
    },
    {
     "name": "stderr",
     "output_type": "stream",
     "text": [
      "C:\\Users\\charl\\AppData\\Local\\Packages\\PythonSoftwareFoundation.Python.3.11_qbz5n2kfra8p0\\LocalCache\\local-packages\\Python311\\site-packages\\geopandas\\tools\\clip.py:67: DeprecationWarning: In a future version, `df.iloc[:, i] = newvals` will attempt to set the values inplace instead of always setting a new array. To retain the old behavior, use either `df[df.columns[i]] = newvals` or, if columns are non-unique, `df.isetitem(i, newvals)`\n",
      "  clipped.loc[\n",
      "C:\\Users\\charl\\AppData\\Local\\Temp\\ipykernel_12776\\3109598972.py:13: UserWarning: The `geometries` module and `geometries_from_X` functions have been renamed the `features` module and `features_from_X` functions. Use these instead. The `geometries` module and function names are deprecated and will be removed in a future release.\n",
      "  buildings = ox.geometries_from_bbox(north=roi_coords.bounds.values[0][3],\n"
     ]
    },
    {
     "name": "stdout",
     "output_type": "stream",
     "text": [
      "Processed and saved: ..\\data\\processed\\LOC_Ibarama_buildings_OSM_2024_L.shp\n"
     ]
    },
    {
     "name": "stderr",
     "output_type": "stream",
     "text": [
      "C:\\Users\\charl\\AppData\\Local\\Packages\\PythonSoftwareFoundation.Python.3.11_qbz5n2kfra8p0\\LocalCache\\local-packages\\Python311\\site-packages\\geopandas\\tools\\clip.py:67: DeprecationWarning: In a future version, `df.iloc[:, i] = newvals` will attempt to set the values inplace instead of always setting a new array. To retain the old behavior, use either `df[df.columns[i]] = newvals` or, if columns are non-unique, `df.isetitem(i, newvals)`\n",
      "  clipped.loc[\n"
     ]
    },
    {
     "name": "stdout",
     "output_type": "stream",
     "text": [
      "Processed and saved: ..\\data\\processed\\LOC_Ivorá_buildings_OSM_2024_L.shp\n"
     ]
    },
    {
     "name": "stderr",
     "output_type": "stream",
     "text": [
      "C:\\Users\\charl\\AppData\\Local\\Temp\\ipykernel_12776\\3109598972.py:13: UserWarning: The `geometries` module and `geometries_from_X` functions have been renamed the `features` module and `features_from_X` functions. Use these instead. The `geometries` module and function names are deprecated and will be removed in a future release.\n",
      "  buildings = ox.geometries_from_bbox(north=roi_coords.bounds.values[0][3],\n",
      "C:\\Users\\charl\\AppData\\Local\\Packages\\PythonSoftwareFoundation.Python.3.11_qbz5n2kfra8p0\\LocalCache\\local-packages\\Python311\\site-packages\\geopandas\\tools\\clip.py:67: DeprecationWarning: In a future version, `df.iloc[:, i] = newvals` will attempt to set the values inplace instead of always setting a new array. To retain the old behavior, use either `df[df.columns[i]] = newvals` or, if columns are non-unique, `df.isetitem(i, newvals)`\n",
      "  clipped.loc[\n"
     ]
    },
    {
     "name": "stdout",
     "output_type": "stream",
     "text": [
      "Processed and saved: ..\\data\\processed\\LOC_Lajeado_buildings_OSM_2024_L.shp\n"
     ]
    },
    {
     "name": "stderr",
     "output_type": "stream",
     "text": [
      "C:\\Users\\charl\\AppData\\Local\\Temp\\ipykernel_12776\\3109598972.py:13: UserWarning: The `geometries` module and `geometries_from_X` functions have been renamed the `features` module and `features_from_X` functions. Use these instead. The `geometries` module and function names are deprecated and will be removed in a future release.\n",
      "  buildings = ox.geometries_from_bbox(north=roi_coords.bounds.values[0][3],\n",
      "C:\\Users\\charl\\AppData\\Local\\Packages\\PythonSoftwareFoundation.Python.3.11_qbz5n2kfra8p0\\LocalCache\\local-packages\\Python311\\site-packages\\geopandas\\tools\\clip.py:67: DeprecationWarning: In a future version, `df.iloc[:, i] = newvals` will attempt to set the values inplace instead of always setting a new array. To retain the old behavior, use either `df[df.columns[i]] = newvals` or, if columns are non-unique, `df.isetitem(i, newvals)`\n",
      "  clipped.loc[\n"
     ]
    },
    {
     "name": "stdout",
     "output_type": "stream",
     "text": [
      "Processed and saved: ..\\data\\processed\\LOC_Marques de Souza_buildings_OSM_2024_L.shp\n"
     ]
    },
    {
     "name": "stderr",
     "output_type": "stream",
     "text": [
      "C:\\Users\\charl\\AppData\\Local\\Temp\\ipykernel_12776\\3109598972.py:13: UserWarning: The `geometries` module and `geometries_from_X` functions have been renamed the `features` module and `features_from_X` functions. Use these instead. The `geometries` module and function names are deprecated and will be removed in a future release.\n",
      "  buildings = ox.geometries_from_bbox(north=roi_coords.bounds.values[0][3],\n",
      "C:\\Users\\charl\\AppData\\Local\\Packages\\PythonSoftwareFoundation.Python.3.11_qbz5n2kfra8p0\\LocalCache\\local-packages\\Python311\\site-packages\\geopandas\\tools\\clip.py:67: DeprecationWarning: In a future version, `df.iloc[:, i] = newvals` will attempt to set the values inplace instead of always setting a new array. To retain the old behavior, use either `df[df.columns[i]] = newvals` or, if columns are non-unique, `df.isetitem(i, newvals)`\n",
      "  clipped.loc[\n",
      "C:\\Users\\charl\\AppData\\Local\\Temp\\ipykernel_12776\\3109598972.py:13: UserWarning: The `geometries` module and `geometries_from_X` functions have been renamed the `features` module and `features_from_X` functions. Use these instead. The `geometries` module and function names are deprecated and will be removed in a future release.\n",
      "  buildings = ox.geometries_from_bbox(north=roi_coords.bounds.values[0][3],\n"
     ]
    },
    {
     "name": "stdout",
     "output_type": "stream",
     "text": [
      "Processed and saved: ..\\data\\processed\\LOC_Minas do Leão_buildings_OSM_2024_L.shp\n"
     ]
    },
    {
     "name": "stderr",
     "output_type": "stream",
     "text": [
      "C:\\Users\\charl\\AppData\\Local\\Packages\\PythonSoftwareFoundation.Python.3.11_qbz5n2kfra8p0\\LocalCache\\local-packages\\Python311\\site-packages\\geopandas\\tools\\clip.py:67: DeprecationWarning: In a future version, `df.iloc[:, i] = newvals` will attempt to set the values inplace instead of always setting a new array. To retain the old behavior, use either `df[df.columns[i]] = newvals` or, if columns are non-unique, `df.isetitem(i, newvals)`\n",
      "  clipped.loc[\n"
     ]
    },
    {
     "name": "stdout",
     "output_type": "stream",
     "text": [
      "Processed and saved: ..\\data\\processed\\LOC_Monte Belo do Sul_buildings_OSM_2024_L.shp\n"
     ]
    },
    {
     "name": "stderr",
     "output_type": "stream",
     "text": [
      "C:\\Users\\charl\\AppData\\Local\\Temp\\ipykernel_12776\\3109598972.py:13: UserWarning: The `geometries` module and `geometries_from_X` functions have been renamed the `features` module and `features_from_X` functions. Use these instead. The `geometries` module and function names are deprecated and will be removed in a future release.\n",
      "  buildings = ox.geometries_from_bbox(north=roi_coords.bounds.values[0][3],\n",
      "C:\\Users\\charl\\AppData\\Local\\Packages\\PythonSoftwareFoundation.Python.3.11_qbz5n2kfra8p0\\LocalCache\\local-packages\\Python311\\site-packages\\geopandas\\tools\\clip.py:67: DeprecationWarning: In a future version, `df.iloc[:, i] = newvals` will attempt to set the values inplace instead of always setting a new array. To retain the old behavior, use either `df[df.columns[i]] = newvals` or, if columns are non-unique, `df.isetitem(i, newvals)`\n",
      "  clipped.loc[\n"
     ]
    },
    {
     "name": "stdout",
     "output_type": "stream",
     "text": [
      "Processed and saved: ..\\data\\processed\\LOC_Montenegro_buildings_OSM_2024_L.shp\n"
     ]
    },
    {
     "name": "stderr",
     "output_type": "stream",
     "text": [
      "C:\\Users\\charl\\AppData\\Local\\Temp\\ipykernel_12776\\3109598972.py:13: UserWarning: The `geometries` module and `geometries_from_X` functions have been renamed the `features` module and `features_from_X` functions. Use these instead. The `geometries` module and function names are deprecated and will be removed in a future release.\n",
      "  buildings = ox.geometries_from_bbox(north=roi_coords.bounds.values[0][3],\n",
      "C:\\Users\\charl\\AppData\\Local\\Packages\\PythonSoftwareFoundation.Python.3.11_qbz5n2kfra8p0\\LocalCache\\local-packages\\Python311\\site-packages\\geopandas\\tools\\clip.py:67: DeprecationWarning: In a future version, `df.iloc[:, i] = newvals` will attempt to set the values inplace instead of always setting a new array. To retain the old behavior, use either `df[df.columns[i]] = newvals` or, if columns are non-unique, `df.isetitem(i, newvals)`\n",
      "  clipped.loc[\n"
     ]
    },
    {
     "name": "stdout",
     "output_type": "stream",
     "text": [
      "Processed and saved: ..\\data\\processed\\LOC_Muçum_buildings_OSM_2024_L.shp\n"
     ]
    },
    {
     "name": "stderr",
     "output_type": "stream",
     "text": [
      "C:\\Users\\charl\\AppData\\Local\\Temp\\ipykernel_12776\\3109598972.py:13: UserWarning: The `geometries` module and `geometries_from_X` functions have been renamed the `features` module and `features_from_X` functions. Use these instead. The `geometries` module and function names are deprecated and will be removed in a future release.\n",
      "  buildings = ox.geometries_from_bbox(north=roi_coords.bounds.values[0][3],\n",
      "C:\\Users\\charl\\AppData\\Local\\Packages\\PythonSoftwareFoundation.Python.3.11_qbz5n2kfra8p0\\LocalCache\\local-packages\\Python311\\site-packages\\geopandas\\tools\\clip.py:67: DeprecationWarning: In a future version, `df.iloc[:, i] = newvals` will attempt to set the values inplace instead of always setting a new array. To retain the old behavior, use either `df[df.columns[i]] = newvals` or, if columns are non-unique, `df.isetitem(i, newvals)`\n",
      "  clipped.loc[\n"
     ]
    },
    {
     "name": "stdout",
     "output_type": "stream",
     "text": [
      "Processed and saved: ..\\data\\processed\\LOC_Nova Palma_buildings_OSM_2024_L.shp\n"
     ]
    },
    {
     "name": "stderr",
     "output_type": "stream",
     "text": [
      "C:\\Users\\charl\\AppData\\Local\\Temp\\ipykernel_12776\\3109598972.py:13: UserWarning: The `geometries` module and `geometries_from_X` functions have been renamed the `features` module and `features_from_X` functions. Use these instead. The `geometries` module and function names are deprecated and will be removed in a future release.\n",
      "  buildings = ox.geometries_from_bbox(north=roi_coords.bounds.values[0][3],\n",
      "C:\\Users\\charl\\AppData\\Local\\Packages\\PythonSoftwareFoundation.Python.3.11_qbz5n2kfra8p0\\LocalCache\\local-packages\\Python311\\site-packages\\geopandas\\tools\\clip.py:67: DeprecationWarning: In a future version, `df.iloc[:, i] = newvals` will attempt to set the values inplace instead of always setting a new array. To retain the old behavior, use either `df[df.columns[i]] = newvals` or, if columns are non-unique, `df.isetitem(i, newvals)`\n",
      "  clipped.loc[\n"
     ]
    },
    {
     "name": "stdout",
     "output_type": "stream",
     "text": [
      "Processed and saved: ..\\data\\processed\\LOC_Nova Santa Rita_buildings_OSM_2024_L.shp\n"
     ]
    },
    {
     "name": "stderr",
     "output_type": "stream",
     "text": [
      "C:\\Users\\charl\\AppData\\Local\\Temp\\ipykernel_12776\\3109598972.py:13: UserWarning: The `geometries` module and `geometries_from_X` functions have been renamed the `features` module and `features_from_X` functions. Use these instead. The `geometries` module and function names are deprecated and will be removed in a future release.\n",
      "  buildings = ox.geometries_from_bbox(north=roi_coords.bounds.values[0][3],\n",
      "C:\\Users\\charl\\AppData\\Local\\Packages\\PythonSoftwareFoundation.Python.3.11_qbz5n2kfra8p0\\LocalCache\\local-packages\\Python311\\site-packages\\geopandas\\tools\\clip.py:67: DeprecationWarning: In a future version, `df.iloc[:, i] = newvals` will attempt to set the values inplace instead of always setting a new array. To retain the old behavior, use either `df[df.columns[i]] = newvals` or, if columns are non-unique, `df.isetitem(i, newvals)`\n",
      "  clipped.loc[\n",
      "C:\\Users\\charl\\AppData\\Local\\Temp\\ipykernel_12776\\3109598972.py:13: UserWarning: The `geometries` module and `geometries_from_X` functions have been renamed the `features` module and `features_from_X` functions. Use these instead. The `geometries` module and function names are deprecated and will be removed in a future release.\n",
      "  buildings = ox.geometries_from_bbox(north=roi_coords.bounds.values[0][3],\n"
     ]
    },
    {
     "name": "stdout",
     "output_type": "stream",
     "text": [
      "Processed and saved: ..\\data\\processed\\LOC_Novo Cabrais_buildings_OSM_2024_L.shp\n"
     ]
    },
    {
     "name": "stderr",
     "output_type": "stream",
     "text": [
      "C:\\Users\\charl\\AppData\\Local\\Packages\\PythonSoftwareFoundation.Python.3.11_qbz5n2kfra8p0\\LocalCache\\local-packages\\Python311\\site-packages\\geopandas\\tools\\clip.py:67: DeprecationWarning: In a future version, `df.iloc[:, i] = newvals` will attempt to set the values inplace instead of always setting a new array. To retain the old behavior, use either `df[df.columns[i]] = newvals` or, if columns are non-unique, `df.isetitem(i, newvals)`\n",
      "  clipped.loc[\n"
     ]
    },
    {
     "name": "stdout",
     "output_type": "stream",
     "text": [
      "Processed and saved: ..\\data\\processed\\LOC_Novo Hamburgo_buildings_OSM_2024_L.shp\n"
     ]
    },
    {
     "name": "stderr",
     "output_type": "stream",
     "text": [
      "C:\\Users\\charl\\AppData\\Local\\Temp\\ipykernel_12776\\3109598972.py:13: UserWarning: The `geometries` module and `geometries_from_X` functions have been renamed the `features` module and `features_from_X` functions. Use these instead. The `geometries` module and function names are deprecated and will be removed in a future release.\n",
      "  buildings = ox.geometries_from_bbox(north=roi_coords.bounds.values[0][3],\n",
      "C:\\Users\\charl\\AppData\\Local\\Packages\\PythonSoftwareFoundation.Python.3.11_qbz5n2kfra8p0\\LocalCache\\local-packages\\Python311\\site-packages\\geopandas\\tools\\clip.py:67: DeprecationWarning: In a future version, `df.iloc[:, i] = newvals` will attempt to set the values inplace instead of always setting a new array. To retain the old behavior, use either `df[df.columns[i]] = newvals` or, if columns are non-unique, `df.isetitem(i, newvals)`\n",
      "  clipped.loc[\n",
      "C:\\Users\\charl\\AppData\\Local\\Temp\\ipykernel_12776\\3109598972.py:13: UserWarning: The `geometries` module and `geometries_from_X` functions have been renamed the `features` module and `features_from_X` functions. Use these instead. The `geometries` module and function names are deprecated and will be removed in a future release.\n",
      "  buildings = ox.geometries_from_bbox(north=roi_coords.bounds.values[0][3],\n"
     ]
    },
    {
     "name": "stdout",
     "output_type": "stream",
     "text": [
      "Processed and saved: ..\\data\\processed\\LOC_Pantano Grande_buildings_OSM_2024_L.shp\n"
     ]
    },
    {
     "name": "stderr",
     "output_type": "stream",
     "text": [
      "C:\\Users\\charl\\AppData\\Local\\Packages\\PythonSoftwareFoundation.Python.3.11_qbz5n2kfra8p0\\LocalCache\\local-packages\\Python311\\site-packages\\geopandas\\tools\\clip.py:67: DeprecationWarning: In a future version, `df.iloc[:, i] = newvals` will attempt to set the values inplace instead of always setting a new array. To retain the old behavior, use either `df[df.columns[i]] = newvals` or, if columns are non-unique, `df.isetitem(i, newvals)`\n",
      "  clipped.loc[\n"
     ]
    },
    {
     "name": "stdout",
     "output_type": "stream",
     "text": [
      "Processed and saved: ..\\data\\processed\\LOC_Paraíso do Sul_buildings_OSM_2024_L.shp\n"
     ]
    },
    {
     "name": "stderr",
     "output_type": "stream",
     "text": [
      "C:\\Users\\charl\\AppData\\Local\\Temp\\ipykernel_12776\\3109598972.py:13: UserWarning: The `geometries` module and `geometries_from_X` functions have been renamed the `features` module and `features_from_X` functions. Use these instead. The `geometries` module and function names are deprecated and will be removed in a future release.\n",
      "  buildings = ox.geometries_from_bbox(north=roi_coords.bounds.values[0][3],\n",
      "C:\\Users\\charl\\AppData\\Local\\Packages\\PythonSoftwareFoundation.Python.3.11_qbz5n2kfra8p0\\LocalCache\\local-packages\\Python311\\site-packages\\geopandas\\tools\\clip.py:67: DeprecationWarning: In a future version, `df.iloc[:, i] = newvals` will attempt to set the values inplace instead of always setting a new array. To retain the old behavior, use either `df[df.columns[i]] = newvals` or, if columns are non-unique, `df.isetitem(i, newvals)`\n",
      "  clipped.loc[\n"
     ]
    },
    {
     "name": "stdout",
     "output_type": "stream",
     "text": [
      "Processed and saved: ..\\data\\processed\\LOC_Pareci Novo_buildings_OSM_2024_L.shp\n"
     ]
    },
    {
     "name": "stderr",
     "output_type": "stream",
     "text": [
      "C:\\Users\\charl\\AppData\\Local\\Temp\\ipykernel_12776\\3109598972.py:13: UserWarning: The `geometries` module and `geometries_from_X` functions have been renamed the `features` module and `features_from_X` functions. Use these instead. The `geometries` module and function names are deprecated and will be removed in a future release.\n",
      "  buildings = ox.geometries_from_bbox(north=roi_coords.bounds.values[0][3],\n",
      "C:\\Users\\charl\\AppData\\Local\\Packages\\PythonSoftwareFoundation.Python.3.11_qbz5n2kfra8p0\\LocalCache\\local-packages\\Python311\\site-packages\\geopandas\\tools\\clip.py:67: DeprecationWarning: In a future version, `df.iloc[:, i] = newvals` will attempt to set the values inplace instead of always setting a new array. To retain the old behavior, use either `df[df.columns[i]] = newvals` or, if columns are non-unique, `df.isetitem(i, newvals)`\n",
      "  clipped.loc[\n"
     ]
    },
    {
     "name": "stdout",
     "output_type": "stream",
     "text": [
      "Processed and saved: ..\\data\\processed\\LOC_Passo do Sobrado_buildings_OSM_2024_L.shp\n"
     ]
    },
    {
     "name": "stderr",
     "output_type": "stream",
     "text": [
      "C:\\Users\\charl\\AppData\\Local\\Temp\\ipykernel_12776\\3109598972.py:13: UserWarning: The `geometries` module and `geometries_from_X` functions have been renamed the `features` module and `features_from_X` functions. Use these instead. The `geometries` module and function names are deprecated and will be removed in a future release.\n",
      "  buildings = ox.geometries_from_bbox(north=roi_coords.bounds.values[0][3],\n",
      "C:\\Users\\charl\\AppData\\Local\\Packages\\PythonSoftwareFoundation.Python.3.11_qbz5n2kfra8p0\\LocalCache\\local-packages\\Python311\\site-packages\\geopandas\\tools\\clip.py:67: DeprecationWarning: In a future version, `df.iloc[:, i] = newvals` will attempt to set the values inplace instead of always setting a new array. To retain the old behavior, use either `df[df.columns[i]] = newvals` or, if columns are non-unique, `df.isetitem(i, newvals)`\n",
      "  clipped.loc[\n",
      "C:\\Users\\charl\\AppData\\Local\\Temp\\ipykernel_12776\\3109598972.py:13: UserWarning: The `geometries` module and `geometries_from_X` functions have been renamed the `features` module and `features_from_X` functions. Use these instead. The `geometries` module and function names are deprecated and will be removed in a future release.\n",
      "  buildings = ox.geometries_from_bbox(north=roi_coords.bounds.values[0][3],\n"
     ]
    },
    {
     "name": "stdout",
     "output_type": "stream",
     "text": [
      "Processed and saved: ..\\data\\processed\\LOC_Pinhal Grande_buildings_OSM_2024_L.shp\n"
     ]
    },
    {
     "name": "stderr",
     "output_type": "stream",
     "text": [
      "C:\\Users\\charl\\AppData\\Local\\Packages\\PythonSoftwareFoundation.Python.3.11_qbz5n2kfra8p0\\LocalCache\\local-packages\\Python311\\site-packages\\geopandas\\tools\\clip.py:67: DeprecationWarning: In a future version, `df.iloc[:, i] = newvals` will attempt to set the values inplace instead of always setting a new array. To retain the old behavior, use either `df[df.columns[i]] = newvals` or, if columns are non-unique, `df.isetitem(i, newvals)`\n",
      "  clipped.loc[\n"
     ]
    },
    {
     "name": "stdout",
     "output_type": "stream",
     "text": [
      "Processed and saved: ..\\data\\processed\\LOC_Pinto Bandeira_buildings_OSM_2024_L.shp\n"
     ]
    },
    {
     "name": "stderr",
     "output_type": "stream",
     "text": [
      "C:\\Users\\charl\\AppData\\Local\\Temp\\ipykernel_12776\\3109598972.py:13: UserWarning: The `geometries` module and `geometries_from_X` functions have been renamed the `features` module and `features_from_X` functions. Use these instead. The `geometries` module and function names are deprecated and will be removed in a future release.\n",
      "  buildings = ox.geometries_from_bbox(north=roi_coords.bounds.values[0][3],\n",
      "C:\\Users\\charl\\AppData\\Local\\Packages\\PythonSoftwareFoundation.Python.3.11_qbz5n2kfra8p0\\LocalCache\\local-packages\\Python311\\site-packages\\geopandas\\tools\\clip.py:67: DeprecationWarning: In a future version, `df.iloc[:, i] = newvals` will attempt to set the values inplace instead of always setting a new array. To retain the old behavior, use either `df[df.columns[i]] = newvals` or, if columns are non-unique, `df.isetitem(i, newvals)`\n",
      "  clipped.loc[\n"
     ]
    },
    {
     "name": "stdout",
     "output_type": "stream",
     "text": [
      "Processed and saved: ..\\data\\processed\\LOC_Porto Alegre_buildings_OSM_2024_L.shp\n"
     ]
    },
    {
     "name": "stderr",
     "output_type": "stream",
     "text": [
      "C:\\Users\\charl\\AppData\\Local\\Temp\\ipykernel_12776\\3109598972.py:13: UserWarning: The `geometries` module and `geometries_from_X` functions have been renamed the `features` module and `features_from_X` functions. Use these instead. The `geometries` module and function names are deprecated and will be removed in a future release.\n",
      "  buildings = ox.geometries_from_bbox(north=roi_coords.bounds.values[0][3],\n",
      "C:\\Users\\charl\\AppData\\Local\\Packages\\PythonSoftwareFoundation.Python.3.11_qbz5n2kfra8p0\\LocalCache\\local-packages\\Python311\\site-packages\\geopandas\\tools\\clip.py:67: DeprecationWarning: In a future version, `df.iloc[:, i] = newvals` will attempt to set the values inplace instead of always setting a new array. To retain the old behavior, use either `df[df.columns[i]] = newvals` or, if columns are non-unique, `df.isetitem(i, newvals)`\n",
      "  clipped.loc[\n",
      "C:\\Users\\charl\\AppData\\Local\\Temp\\ipykernel_12776\\3109598972.py:13: UserWarning: The `geometries` module and `geometries_from_X` functions have been renamed the `features` module and `features_from_X` functions. Use these instead. The `geometries` module and function names are deprecated and will be removed in a future release.\n",
      "  buildings = ox.geometries_from_bbox(north=roi_coords.bounds.values[0][3],\n"
     ]
    },
    {
     "name": "stdout",
     "output_type": "stream",
     "text": [
      "Processed and saved: ..\\data\\processed\\LOC_Portão_buildings_OSM_2024_L.shp\n"
     ]
    },
    {
     "name": "stderr",
     "output_type": "stream",
     "text": [
      "C:\\Users\\charl\\AppData\\Local\\Packages\\PythonSoftwareFoundation.Python.3.11_qbz5n2kfra8p0\\LocalCache\\local-packages\\Python311\\site-packages\\geopandas\\tools\\clip.py:67: DeprecationWarning: In a future version, `df.iloc[:, i] = newvals` will attempt to set the values inplace instead of always setting a new array. To retain the old behavior, use either `df[df.columns[i]] = newvals` or, if columns are non-unique, `df.isetitem(i, newvals)`\n",
      "  clipped.loc[\n"
     ]
    },
    {
     "name": "stdout",
     "output_type": "stream",
     "text": [
      "Processed and saved: ..\\data\\processed\\LOC_Restinga Sêca_buildings_OSM_2024_L.shp\n"
     ]
    },
    {
     "name": "stderr",
     "output_type": "stream",
     "text": [
      "C:\\Users\\charl\\AppData\\Local\\Temp\\ipykernel_12776\\3109598972.py:13: UserWarning: The `geometries` module and `geometries_from_X` functions have been renamed the `features` module and `features_from_X` functions. Use these instead. The `geometries` module and function names are deprecated and will be removed in a future release.\n",
      "  buildings = ox.geometries_from_bbox(north=roi_coords.bounds.values[0][3],\n",
      "C:\\Users\\charl\\AppData\\Local\\Packages\\PythonSoftwareFoundation.Python.3.11_qbz5n2kfra8p0\\LocalCache\\local-packages\\Python311\\site-packages\\geopandas\\tools\\clip.py:67: DeprecationWarning: In a future version, `df.iloc[:, i] = newvals` will attempt to set the values inplace instead of always setting a new array. To retain the old behavior, use either `df[df.columns[i]] = newvals` or, if columns are non-unique, `df.isetitem(i, newvals)`\n",
      "  clipped.loc[\n"
     ]
    },
    {
     "name": "stdout",
     "output_type": "stream",
     "text": [
      "Processed and saved: ..\\data\\processed\\LOC_Rio Pardo_buildings_OSM_2024_L.shp\n"
     ]
    },
    {
     "name": "stderr",
     "output_type": "stream",
     "text": [
      "C:\\Users\\charl\\AppData\\Local\\Temp\\ipykernel_12776\\3109598972.py:13: UserWarning: The `geometries` module and `geometries_from_X` functions have been renamed the `features` module and `features_from_X` functions. Use these instead. The `geometries` module and function names are deprecated and will be removed in a future release.\n",
      "  buildings = ox.geometries_from_bbox(north=roi_coords.bounds.values[0][3],\n",
      "C:\\Users\\charl\\AppData\\Local\\Packages\\PythonSoftwareFoundation.Python.3.11_qbz5n2kfra8p0\\LocalCache\\local-packages\\Python311\\site-packages\\geopandas\\tools\\clip.py:67: DeprecationWarning: In a future version, `df.iloc[:, i] = newvals` will attempt to set the values inplace instead of always setting a new array. To retain the old behavior, use either `df[df.columns[i]] = newvals` or, if columns are non-unique, `df.isetitem(i, newvals)`\n",
      "  clipped.loc[\n"
     ]
    },
    {
     "name": "stdout",
     "output_type": "stream",
     "text": [
      "Processed and saved: ..\\data\\processed\\LOC_Roca Sales_buildings_OSM_2024_L.shp\n"
     ]
    },
    {
     "name": "stderr",
     "output_type": "stream",
     "text": [
      "C:\\Users\\charl\\AppData\\Local\\Temp\\ipykernel_12776\\3109598972.py:13: UserWarning: The `geometries` module and `geometries_from_X` functions have been renamed the `features` module and `features_from_X` functions. Use these instead. The `geometries` module and function names are deprecated and will be removed in a future release.\n",
      "  buildings = ox.geometries_from_bbox(north=roi_coords.bounds.values[0][3],\n",
      "C:\\Users\\charl\\AppData\\Local\\Packages\\PythonSoftwareFoundation.Python.3.11_qbz5n2kfra8p0\\LocalCache\\local-packages\\Python311\\site-packages\\geopandas\\tools\\clip.py:67: DeprecationWarning: In a future version, `df.iloc[:, i] = newvals` will attempt to set the values inplace instead of always setting a new array. To retain the old behavior, use either `df[df.columns[i]] = newvals` or, if columns are non-unique, `df.isetitem(i, newvals)`\n",
      "  clipped.loc[\n"
     ]
    },
    {
     "name": "stdout",
     "output_type": "stream",
     "text": [
      "Processed and saved: ..\\data\\processed\\LOC_Santa Cruz do Sul_buildings_OSM_2024_L.shp\n"
     ]
    },
    {
     "name": "stderr",
     "output_type": "stream",
     "text": [
      "C:\\Users\\charl\\AppData\\Local\\Temp\\ipykernel_12776\\3109598972.py:13: UserWarning: The `geometries` module and `geometries_from_X` functions have been renamed the `features` module and `features_from_X` functions. Use these instead. The `geometries` module and function names are deprecated and will be removed in a future release.\n",
      "  buildings = ox.geometries_from_bbox(north=roi_coords.bounds.values[0][3],\n",
      "C:\\Users\\charl\\AppData\\Local\\Packages\\PythonSoftwareFoundation.Python.3.11_qbz5n2kfra8p0\\LocalCache\\local-packages\\Python311\\site-packages\\geopandas\\tools\\clip.py:67: DeprecationWarning: In a future version, `df.iloc[:, i] = newvals` will attempt to set the values inplace instead of always setting a new array. To retain the old behavior, use either `df[df.columns[i]] = newvals` or, if columns are non-unique, `df.isetitem(i, newvals)`\n",
      "  clipped.loc[\n"
     ]
    },
    {
     "name": "stdout",
     "output_type": "stream",
     "text": [
      "Processed and saved: ..\\data\\processed\\LOC_Santa Margarida do Sul_buildings_OSM_2024_L.shp\n"
     ]
    },
    {
     "name": "stderr",
     "output_type": "stream",
     "text": [
      "C:\\Users\\charl\\AppData\\Local\\Temp\\ipykernel_12776\\3109598972.py:13: UserWarning: The `geometries` module and `geometries_from_X` functions have been renamed the `features` module and `features_from_X` functions. Use these instead. The `geometries` module and function names are deprecated and will be removed in a future release.\n",
      "  buildings = ox.geometries_from_bbox(north=roi_coords.bounds.values[0][3],\n",
      "C:\\Users\\charl\\AppData\\Local\\Packages\\PythonSoftwareFoundation.Python.3.11_qbz5n2kfra8p0\\LocalCache\\local-packages\\Python311\\site-packages\\geopandas\\tools\\clip.py:67: DeprecationWarning: In a future version, `df.iloc[:, i] = newvals` will attempt to set the values inplace instead of always setting a new array. To retain the old behavior, use either `df[df.columns[i]] = newvals` or, if columns are non-unique, `df.isetitem(i, newvals)`\n",
      "  clipped.loc[\n"
     ]
    },
    {
     "name": "stdout",
     "output_type": "stream",
     "text": [
      "Processed and saved: ..\\data\\processed\\LOC_Santa Maria_buildings_OSM_2024_L.shp\n"
     ]
    },
    {
     "name": "stderr",
     "output_type": "stream",
     "text": [
      "C:\\Users\\charl\\AppData\\Local\\Temp\\ipykernel_12776\\3109598972.py:13: UserWarning: The `geometries` module and `geometries_from_X` functions have been renamed the `features` module and `features_from_X` functions. Use these instead. The `geometries` module and function names are deprecated and will be removed in a future release.\n",
      "  buildings = ox.geometries_from_bbox(north=roi_coords.bounds.values[0][3],\n",
      "C:\\Users\\charl\\AppData\\Local\\Packages\\PythonSoftwareFoundation.Python.3.11_qbz5n2kfra8p0\\LocalCache\\local-packages\\Python311\\site-packages\\geopandas\\tools\\clip.py:67: DeprecationWarning: In a future version, `df.iloc[:, i] = newvals` will attempt to set the values inplace instead of always setting a new array. To retain the old behavior, use either `df[df.columns[i]] = newvals` or, if columns are non-unique, `df.isetitem(i, newvals)`\n",
      "  clipped.loc[\n"
     ]
    },
    {
     "name": "stdout",
     "output_type": "stream",
     "text": [
      "Processed and saved: ..\\data\\processed\\LOC_Santa Tereza_buildings_OSM_2024_L.shp\n"
     ]
    },
    {
     "name": "stderr",
     "output_type": "stream",
     "text": [
      "C:\\Users\\charl\\AppData\\Local\\Temp\\ipykernel_12776\\3109598972.py:13: UserWarning: The `geometries` module and `geometries_from_X` functions have been renamed the `features` module and `features_from_X` functions. Use these instead. The `geometries` module and function names are deprecated and will be removed in a future release.\n",
      "  buildings = ox.geometries_from_bbox(north=roi_coords.bounds.values[0][3],\n",
      "C:\\Users\\charl\\AppData\\Local\\Packages\\PythonSoftwareFoundation.Python.3.11_qbz5n2kfra8p0\\LocalCache\\local-packages\\Python311\\site-packages\\geopandas\\tools\\clip.py:67: DeprecationWarning: In a future version, `df.iloc[:, i] = newvals` will attempt to set the values inplace instead of always setting a new array. To retain the old behavior, use either `df[df.columns[i]] = newvals` or, if columns are non-unique, `df.isetitem(i, newvals)`\n",
      "  clipped.loc[\n"
     ]
    },
    {
     "name": "stdout",
     "output_type": "stream",
     "text": [
      "Processed and saved: ..\\data\\processed\\LOC_Sapiranga_buildings_OSM_2024_L.shp\n"
     ]
    },
    {
     "name": "stderr",
     "output_type": "stream",
     "text": [
      "C:\\Users\\charl\\AppData\\Local\\Temp\\ipykernel_12776\\3109598972.py:13: UserWarning: The `geometries` module and `geometries_from_X` functions have been renamed the `features` module and `features_from_X` functions. Use these instead. The `geometries` module and function names are deprecated and will be removed in a future release.\n",
      "  buildings = ox.geometries_from_bbox(north=roi_coords.bounds.values[0][3],\n",
      "C:\\Users\\charl\\AppData\\Local\\Packages\\PythonSoftwareFoundation.Python.3.11_qbz5n2kfra8p0\\LocalCache\\local-packages\\Python311\\site-packages\\geopandas\\tools\\clip.py:67: DeprecationWarning: In a future version, `df.iloc[:, i] = newvals` will attempt to set the values inplace instead of always setting a new array. To retain the old behavior, use either `df[df.columns[i]] = newvals` or, if columns are non-unique, `df.isetitem(i, newvals)`\n",
      "  clipped.loc[\n"
     ]
    },
    {
     "name": "stdout",
     "output_type": "stream",
     "text": [
      "Processed and saved: ..\\data\\processed\\LOC_Sapucaia do Sul_buildings_OSM_2024_L.shp\n"
     ]
    },
    {
     "name": "stderr",
     "output_type": "stream",
     "text": [
      "C:\\Users\\charl\\AppData\\Local\\Temp\\ipykernel_12776\\3109598972.py:13: UserWarning: The `geometries` module and `geometries_from_X` functions have been renamed the `features` module and `features_from_X` functions. Use these instead. The `geometries` module and function names are deprecated and will be removed in a future release.\n",
      "  buildings = ox.geometries_from_bbox(north=roi_coords.bounds.values[0][3],\n",
      "C:\\Users\\charl\\AppData\\Local\\Packages\\PythonSoftwareFoundation.Python.3.11_qbz5n2kfra8p0\\LocalCache\\local-packages\\Python311\\site-packages\\geopandas\\tools\\clip.py:67: DeprecationWarning: In a future version, `df.iloc[:, i] = newvals` will attempt to set the values inplace instead of always setting a new array. To retain the old behavior, use either `df[df.columns[i]] = newvals` or, if columns are non-unique, `df.isetitem(i, newvals)`\n",
      "  clipped.loc[\n"
     ]
    },
    {
     "name": "stdout",
     "output_type": "stream",
     "text": [
      "Processed and saved: ..\\data\\processed\\LOC_São Gabriel_buildings_OSM_2024_L.shp\n"
     ]
    },
    {
     "name": "stderr",
     "output_type": "stream",
     "text": [
      "C:\\Users\\charl\\AppData\\Local\\Temp\\ipykernel_12776\\3109598972.py:13: UserWarning: The `geometries` module and `geometries_from_X` functions have been renamed the `features` module and `features_from_X` functions. Use these instead. The `geometries` module and function names are deprecated and will be removed in a future release.\n",
      "  buildings = ox.geometries_from_bbox(north=roi_coords.bounds.values[0][3],\n",
      "C:\\Users\\charl\\AppData\\Local\\Packages\\PythonSoftwareFoundation.Python.3.11_qbz5n2kfra8p0\\LocalCache\\local-packages\\Python311\\site-packages\\geopandas\\tools\\clip.py:67: DeprecationWarning: In a future version, `df.iloc[:, i] = newvals` will attempt to set the values inplace instead of always setting a new array. To retain the old behavior, use either `df[df.columns[i]] = newvals` or, if columns are non-unique, `df.isetitem(i, newvals)`\n",
      "  clipped.loc[\n"
     ]
    },
    {
     "name": "stdout",
     "output_type": "stream",
     "text": [
      "Processed and saved: ..\\data\\processed\\LOC_São Jerônimo_buildings_OSM_2024_L.shp\n"
     ]
    },
    {
     "name": "stderr",
     "output_type": "stream",
     "text": [
      "C:\\Users\\charl\\AppData\\Local\\Temp\\ipykernel_12776\\3109598972.py:13: UserWarning: The `geometries` module and `geometries_from_X` functions have been renamed the `features` module and `features_from_X` functions. Use these instead. The `geometries` module and function names are deprecated and will be removed in a future release.\n",
      "  buildings = ox.geometries_from_bbox(north=roi_coords.bounds.values[0][3],\n",
      "C:\\Users\\charl\\AppData\\Local\\Packages\\PythonSoftwareFoundation.Python.3.11_qbz5n2kfra8p0\\LocalCache\\local-packages\\Python311\\site-packages\\geopandas\\tools\\clip.py:67: DeprecationWarning: In a future version, `df.iloc[:, i] = newvals` will attempt to set the values inplace instead of always setting a new array. To retain the old behavior, use either `df[df.columns[i]] = newvals` or, if columns are non-unique, `df.isetitem(i, newvals)`\n",
      "  clipped.loc[\n"
     ]
    },
    {
     "name": "stdout",
     "output_type": "stream",
     "text": [
      "Processed and saved: ..\\data\\processed\\LOC_São João do Polêsine_buildings_OSM_2024_L.shp\n"
     ]
    },
    {
     "name": "stderr",
     "output_type": "stream",
     "text": [
      "C:\\Users\\charl\\AppData\\Local\\Temp\\ipykernel_12776\\3109598972.py:13: UserWarning: The `geometries` module and `geometries_from_X` functions have been renamed the `features` module and `features_from_X` functions. Use these instead. The `geometries` module and function names are deprecated and will be removed in a future release.\n",
      "  buildings = ox.geometries_from_bbox(north=roi_coords.bounds.values[0][3],\n",
      "C:\\Users\\charl\\AppData\\Local\\Packages\\PythonSoftwareFoundation.Python.3.11_qbz5n2kfra8p0\\LocalCache\\local-packages\\Python311\\site-packages\\geopandas\\tools\\clip.py:67: DeprecationWarning: In a future version, `df.iloc[:, i] = newvals` will attempt to set the values inplace instead of always setting a new array. To retain the old behavior, use either `df[df.columns[i]] = newvals` or, if columns are non-unique, `df.isetitem(i, newvals)`\n",
      "  clipped.loc[\n"
     ]
    },
    {
     "name": "stdout",
     "output_type": "stream",
     "text": [
      "Processed and saved: ..\\data\\processed\\LOC_São Leopoldo_buildings_OSM_2024_L.shp\n"
     ]
    },
    {
     "name": "stderr",
     "output_type": "stream",
     "text": [
      "C:\\Users\\charl\\AppData\\Local\\Temp\\ipykernel_12776\\3109598972.py:13: UserWarning: The `geometries` module and `geometries_from_X` functions have been renamed the `features` module and `features_from_X` functions. Use these instead. The `geometries` module and function names are deprecated and will be removed in a future release.\n",
      "  buildings = ox.geometries_from_bbox(north=roi_coords.bounds.values[0][3],\n",
      "C:\\Users\\charl\\AppData\\Local\\Packages\\PythonSoftwareFoundation.Python.3.11_qbz5n2kfra8p0\\LocalCache\\local-packages\\Python311\\site-packages\\geopandas\\tools\\clip.py:67: DeprecationWarning: In a future version, `df.iloc[:, i] = newvals` will attempt to set the values inplace instead of always setting a new array. To retain the old behavior, use either `df[df.columns[i]] = newvals` or, if columns are non-unique, `df.isetitem(i, newvals)`\n",
      "  clipped.loc[\n"
     ]
    },
    {
     "name": "stdout",
     "output_type": "stream",
     "text": [
      "Processed and saved: ..\\data\\processed\\LOC_São Sebastião do Caí_buildings_OSM_2024_L.shp\n"
     ]
    },
    {
     "name": "stderr",
     "output_type": "stream",
     "text": [
      "C:\\Users\\charl\\AppData\\Local\\Temp\\ipykernel_12776\\3109598972.py:13: UserWarning: The `geometries` module and `geometries_from_X` functions have been renamed the `features` module and `features_from_X` functions. Use these instead. The `geometries` module and function names are deprecated and will be removed in a future release.\n",
      "  buildings = ox.geometries_from_bbox(north=roi_coords.bounds.values[0][3],\n",
      "C:\\Users\\charl\\AppData\\Local\\Packages\\PythonSoftwareFoundation.Python.3.11_qbz5n2kfra8p0\\LocalCache\\local-packages\\Python311\\site-packages\\geopandas\\tools\\clip.py:67: DeprecationWarning: In a future version, `df.iloc[:, i] = newvals` will attempt to set the values inplace instead of always setting a new array. To retain the old behavior, use either `df[df.columns[i]] = newvals` or, if columns are non-unique, `df.isetitem(i, newvals)`\n",
      "  clipped.loc[\n"
     ]
    },
    {
     "name": "stdout",
     "output_type": "stream",
     "text": [
      "Processed and saved: ..\\data\\processed\\LOC_São Sepé_buildings_OSM_2024_L.shp\n"
     ]
    },
    {
     "name": "stderr",
     "output_type": "stream",
     "text": [
      "C:\\Users\\charl\\AppData\\Local\\Temp\\ipykernel_12776\\3109598972.py:13: UserWarning: The `geometries` module and `geometries_from_X` functions have been renamed the `features` module and `features_from_X` functions. Use these instead. The `geometries` module and function names are deprecated and will be removed in a future release.\n",
      "  buildings = ox.geometries_from_bbox(north=roi_coords.bounds.values[0][3],\n",
      "C:\\Users\\charl\\AppData\\Local\\Packages\\PythonSoftwareFoundation.Python.3.11_qbz5n2kfra8p0\\LocalCache\\local-packages\\Python311\\site-packages\\geopandas\\tools\\clip.py:67: DeprecationWarning: In a future version, `df.iloc[:, i] = newvals` will attempt to set the values inplace instead of always setting a new array. To retain the old behavior, use either `df[df.columns[i]] = newvals` or, if columns are non-unique, `df.isetitem(i, newvals)`\n",
      "  clipped.loc[\n"
     ]
    },
    {
     "name": "stdout",
     "output_type": "stream",
     "text": [
      "Processed and saved: ..\\data\\processed\\LOC_São Valentim do Sul_buildings_OSM_2024_L.shp\n"
     ]
    },
    {
     "name": "stderr",
     "output_type": "stream",
     "text": [
      "C:\\Users\\charl\\AppData\\Local\\Temp\\ipykernel_12776\\3109598972.py:13: UserWarning: The `geometries` module and `geometries_from_X` functions have been renamed the `features` module and `features_from_X` functions. Use these instead. The `geometries` module and function names are deprecated and will be removed in a future release.\n",
      "  buildings = ox.geometries_from_bbox(north=roi_coords.bounds.values[0][3],\n",
      "C:\\Users\\charl\\AppData\\Local\\Packages\\PythonSoftwareFoundation.Python.3.11_qbz5n2kfra8p0\\LocalCache\\local-packages\\Python311\\site-packages\\geopandas\\tools\\clip.py:67: DeprecationWarning: In a future version, `df.iloc[:, i] = newvals` will attempt to set the values inplace instead of always setting a new array. To retain the old behavior, use either `df[df.columns[i]] = newvals` or, if columns are non-unique, `df.isetitem(i, newvals)`\n",
      "  clipped.loc[\n",
      "C:\\Users\\charl\\AppData\\Local\\Temp\\ipykernel_12776\\3109598972.py:13: UserWarning: The `geometries` module and `geometries_from_X` functions have been renamed the `features` module and `features_from_X` functions. Use these instead. The `geometries` module and function names are deprecated and will be removed in a future release.\n",
      "  buildings = ox.geometries_from_bbox(north=roi_coords.bounds.values[0][3],\n"
     ]
    },
    {
     "name": "stdout",
     "output_type": "stream",
     "text": [
      "Processed and saved: ..\\data\\processed\\LOC_Taquari_buildings_OSM_2024_L.shp\n"
     ]
    },
    {
     "name": "stderr",
     "output_type": "stream",
     "text": [
      "C:\\Users\\charl\\AppData\\Local\\Packages\\PythonSoftwareFoundation.Python.3.11_qbz5n2kfra8p0\\LocalCache\\local-packages\\Python311\\site-packages\\geopandas\\tools\\clip.py:67: DeprecationWarning: In a future version, `df.iloc[:, i] = newvals` will attempt to set the values inplace instead of always setting a new array. To retain the old behavior, use either `df[df.columns[i]] = newvals` or, if columns are non-unique, `df.isetitem(i, newvals)`\n",
      "  clipped.loc[\n"
     ]
    },
    {
     "name": "stdout",
     "output_type": "stream",
     "text": [
      "Processed and saved: ..\\data\\processed\\LOC_Travesseiro_buildings_OSM_2024_L.shp\n"
     ]
    },
    {
     "name": "stderr",
     "output_type": "stream",
     "text": [
      "C:\\Users\\charl\\AppData\\Local\\Temp\\ipykernel_12776\\3109598972.py:13: UserWarning: The `geometries` module and `geometries_from_X` functions have been renamed the `features` module and `features_from_X` functions. Use these instead. The `geometries` module and function names are deprecated and will be removed in a future release.\n",
      "  buildings = ox.geometries_from_bbox(north=roi_coords.bounds.values[0][3],\n",
      "C:\\Users\\charl\\AppData\\Local\\Packages\\PythonSoftwareFoundation.Python.3.11_qbz5n2kfra8p0\\LocalCache\\local-packages\\Python311\\site-packages\\geopandas\\tools\\clip.py:67: DeprecationWarning: In a future version, `df.iloc[:, i] = newvals` will attempt to set the values inplace instead of always setting a new array. To retain the old behavior, use either `df[df.columns[i]] = newvals` or, if columns are non-unique, `df.isetitem(i, newvals)`\n",
      "  clipped.loc[\n"
     ]
    },
    {
     "name": "stdout",
     "output_type": "stream",
     "text": [
      "Processed and saved: ..\\data\\processed\\LOC_Triunfo_buildings_OSM_2024_L.shp\n"
     ]
    },
    {
     "name": "stderr",
     "output_type": "stream",
     "text": [
      "C:\\Users\\charl\\AppData\\Local\\Temp\\ipykernel_12776\\3109598972.py:13: UserWarning: The `geometries` module and `geometries_from_X` functions have been renamed the `features` module and `features_from_X` functions. Use these instead. The `geometries` module and function names are deprecated and will be removed in a future release.\n",
      "  buildings = ox.geometries_from_bbox(north=roi_coords.bounds.values[0][3],\n",
      "C:\\Users\\charl\\AppData\\Local\\Packages\\PythonSoftwareFoundation.Python.3.11_qbz5n2kfra8p0\\LocalCache\\local-packages\\Python311\\site-packages\\geopandas\\tools\\clip.py:67: DeprecationWarning: In a future version, `df.iloc[:, i] = newvals` will attempt to set the values inplace instead of always setting a new array. To retain the old behavior, use either `df[df.columns[i]] = newvals` or, if columns are non-unique, `df.isetitem(i, newvals)`\n",
      "  clipped.loc[\n"
     ]
    },
    {
     "name": "stdout",
     "output_type": "stream",
     "text": [
      "Processed and saved: ..\\data\\processed\\LOC_Vale Verde_buildings_OSM_2024_L.shp\n"
     ]
    },
    {
     "name": "stderr",
     "output_type": "stream",
     "text": [
      "C:\\Users\\charl\\AppData\\Local\\Temp\\ipykernel_12776\\3109598972.py:13: UserWarning: The `geometries` module and `geometries_from_X` functions have been renamed the `features` module and `features_from_X` functions. Use these instead. The `geometries` module and function names are deprecated and will be removed in a future release.\n",
      "  buildings = ox.geometries_from_bbox(north=roi_coords.bounds.values[0][3],\n",
      "C:\\Users\\charl\\AppData\\Local\\Packages\\PythonSoftwareFoundation.Python.3.11_qbz5n2kfra8p0\\LocalCache\\local-packages\\Python311\\site-packages\\geopandas\\tools\\clip.py:67: DeprecationWarning: In a future version, `df.iloc[:, i] = newvals` will attempt to set the values inplace instead of always setting a new array. To retain the old behavior, use either `df[df.columns[i]] = newvals` or, if columns are non-unique, `df.isetitem(i, newvals)`\n",
      "  clipped.loc[\n"
     ]
    },
    {
     "name": "stdout",
     "output_type": "stream",
     "text": [
      "Processed and saved: ..\\data\\processed\\LOC_Vale do Sol_buildings_OSM_2024_L.shp\n"
     ]
    },
    {
     "name": "stderr",
     "output_type": "stream",
     "text": [
      "C:\\Users\\charl\\AppData\\Local\\Temp\\ipykernel_12776\\3109598972.py:13: UserWarning: The `geometries` module and `geometries_from_X` functions have been renamed the `features` module and `features_from_X` functions. Use these instead. The `geometries` module and function names are deprecated and will be removed in a future release.\n",
      "  buildings = ox.geometries_from_bbox(north=roi_coords.bounds.values[0][3],\n",
      "C:\\Users\\charl\\AppData\\Local\\Packages\\PythonSoftwareFoundation.Python.3.11_qbz5n2kfra8p0\\LocalCache\\local-packages\\Python311\\site-packages\\geopandas\\tools\\clip.py:67: DeprecationWarning: In a future version, `df.iloc[:, i] = newvals` will attempt to set the values inplace instead of always setting a new array. To retain the old behavior, use either `df[df.columns[i]] = newvals` or, if columns are non-unique, `df.isetitem(i, newvals)`\n",
      "  clipped.loc[\n"
     ]
    },
    {
     "name": "stdout",
     "output_type": "stream",
     "text": [
      "Processed and saved: ..\\data\\processed\\LOC_Venâncio Aires_buildings_OSM_2024_L.shp\n"
     ]
    },
    {
     "name": "stderr",
     "output_type": "stream",
     "text": [
      "C:\\Users\\charl\\AppData\\Local\\Temp\\ipykernel_12776\\3109598972.py:13: UserWarning: The `geometries` module and `geometries_from_X` functions have been renamed the `features` module and `features_from_X` functions. Use these instead. The `geometries` module and function names are deprecated and will be removed in a future release.\n",
      "  buildings = ox.geometries_from_bbox(north=roi_coords.bounds.values[0][3],\n",
      "C:\\Users\\charl\\AppData\\Local\\Packages\\PythonSoftwareFoundation.Python.3.11_qbz5n2kfra8p0\\LocalCache\\local-packages\\Python311\\site-packages\\geopandas\\tools\\clip.py:67: DeprecationWarning: In a future version, `df.iloc[:, i] = newvals` will attempt to set the values inplace instead of always setting a new array. To retain the old behavior, use either `df[df.columns[i]] = newvals` or, if columns are non-unique, `df.isetitem(i, newvals)`\n",
      "  clipped.loc[\n"
     ]
    },
    {
     "name": "stdout",
     "output_type": "stream",
     "text": [
      "Processed and saved: ..\\data\\processed\\LOC_Vera Cruz_buildings_OSM_2024_L.shp\n"
     ]
    },
    {
     "name": "stderr",
     "output_type": "stream",
     "text": [
      "C:\\Users\\charl\\AppData\\Local\\Temp\\ipykernel_12776\\3109598972.py:13: UserWarning: The `geometries` module and `geometries_from_X` functions have been renamed the `features` module and `features_from_X` functions. Use these instead. The `geometries` module and function names are deprecated and will be removed in a future release.\n",
      "  buildings = ox.geometries_from_bbox(north=roi_coords.bounds.values[0][3],\n",
      "C:\\Users\\charl\\AppData\\Local\\Packages\\PythonSoftwareFoundation.Python.3.11_qbz5n2kfra8p0\\LocalCache\\local-packages\\Python311\\site-packages\\geopandas\\tools\\clip.py:67: DeprecationWarning: In a future version, `df.iloc[:, i] = newvals` will attempt to set the values inplace instead of always setting a new array. To retain the old behavior, use either `df[df.columns[i]] = newvals` or, if columns are non-unique, `df.isetitem(i, newvals)`\n",
      "  clipped.loc[\n"
     ]
    },
    {
     "name": "stdout",
     "output_type": "stream",
     "text": [
      "Processed and saved: ..\\data\\processed\\LOC_Veranópolis_buildings_OSM_2024_L.shp\n"
     ]
    },
    {
     "name": "stderr",
     "output_type": "stream",
     "text": [
      "C:\\Users\\charl\\AppData\\Local\\Temp\\ipykernel_12776\\3109598972.py:13: UserWarning: The `geometries` module and `geometries_from_X` functions have been renamed the `features` module and `features_from_X` functions. Use these instead. The `geometries` module and function names are deprecated and will be removed in a future release.\n",
      "  buildings = ox.geometries_from_bbox(north=roi_coords.bounds.values[0][3],\n",
      "C:\\Users\\charl\\AppData\\Local\\Packages\\PythonSoftwareFoundation.Python.3.11_qbz5n2kfra8p0\\LocalCache\\local-packages\\Python311\\site-packages\\geopandas\\tools\\clip.py:67: DeprecationWarning: In a future version, `df.iloc[:, i] = newvals` will attempt to set the values inplace instead of always setting a new array. To retain the old behavior, use either `df[df.columns[i]] = newvals` or, if columns are non-unique, `df.isetitem(i, newvals)`\n",
      "  clipped.loc[\n"
     ]
    },
    {
     "name": "stdout",
     "output_type": "stream",
     "text": [
      "Processed and saved: ..\\data\\processed\\LOC_Vespasiano Corrêa_buildings_OSM_2024_L.shp\n"
     ]
    },
    {
     "name": "stderr",
     "output_type": "stream",
     "text": [
      "C:\\Users\\charl\\AppData\\Local\\Temp\\ipykernel_12776\\3109598972.py:13: UserWarning: The `geometries` module and `geometries_from_X` functions have been renamed the `features` module and `features_from_X` functions. Use these instead. The `geometries` module and function names are deprecated and will be removed in a future release.\n",
      "  buildings = ox.geometries_from_bbox(north=roi_coords.bounds.values[0][3],\n"
     ]
    },
    {
     "name": "stdout",
     "output_type": "stream",
     "text": [
      "Processed and saved: ..\\data\\processed\\LOC_Vila Nova do Sul_buildings_OSM_2024_L.shp\n"
     ]
    },
    {
     "name": "stderr",
     "output_type": "stream",
     "text": [
      "C:\\Users\\charl\\AppData\\Local\\Packages\\PythonSoftwareFoundation.Python.3.11_qbz5n2kfra8p0\\LocalCache\\local-packages\\Python311\\site-packages\\geopandas\\tools\\clip.py:67: DeprecationWarning: In a future version, `df.iloc[:, i] = newvals` will attempt to set the values inplace instead of always setting a new array. To retain the old behavior, use either `df[df.columns[i]] = newvals` or, if columns are non-unique, `df.isetitem(i, newvals)`\n",
      "  clipped.loc[\n"
     ]
    }
   ],
   "source": [
    "# apply function\n",
    "mun_gdf = affected_mun_env  # gdf with affected areas\n",
    "process_osm_data(mun_gdf, batch_size=10, path='../data/processed/')"
   ]
  },
  {
   "cell_type": "markdown",
   "metadata": {},
   "source": [
    "### spatially join buildings with flooded area"
   ]
  },
  {
   "cell_type": "code",
   "execution_count": 18,
   "metadata": {},
   "outputs": [
    {
     "data": {
      "text/plain": [
       "<Axes: >"
      ]
     },
     "execution_count": 18,
     "metadata": {},
     "output_type": "execute_result"
    },
    {
     "data": {
      "image/png": "[encoded data removed]",
      "text/plain": [
       "<Figure size 640x480 with 1 Axes>"
      ]
     },
     "metadata": {},
     "output_type": "display_data"
    }
   ],
   "source": [
    "mun_file_list = list(Path('../data/processed').glob('LOC_*_buildings_OSM_2024_L.shp'))\n",
    "mun_gdf_list = []\n",
    "mun_gdf_dict = {}\n",
    "\n",
    "AOI_path = Path('../data/processed/')\n",
    "\n",
    "for file in mun_file_list: \n",
    "    gdp_name = file.stem.replace(' ', '_').replace('.shp', '')\n",
    "    mun_gdf_list.append(gdp_name)\n",
    "\n",
    "for i in range(len(mun_file_list)):\n",
    "    mun_gdf_dict[mun_gdf_list[i]] = gpd.read_file(mun_file_list[i])\n",
    "\n",
    "\n"
   ]
  },
  {
   "cell_type": "code",
   "execution_count": 21,
   "metadata": {},
   "outputs": [
    {
     "data": {
      "text/plain": [
       "[WindowsPath('../data/processed/LOC_Agudo_buildings_OSM_2024_L.shp'),\n",
       " WindowsPath('../data/processed/LOC_Alvorada_buildings_OSM_2024_L.shp'),\n",
       " WindowsPath('../data/processed/LOC_Arroio do Meio_buildings_OSM_2024_L.shp'),\n",
       " WindowsPath('../data/processed/LOC_Arroio dos Ratos_buildings_OSM_2024_L.shp'),\n",
       " WindowsPath('../data/processed/LOC_Barra do Ribeiro_buildings_OSM_2024_L.shp'),\n",
       " WindowsPath('../data/processed/LOC_Bento Gonçalves_buildings_OSM_2024_L.shp'),\n",
       " WindowsPath('../data/processed/LOC_Bom Retiro do Sul_buildings_OSM_2024_L.shp'),\n",
       " WindowsPath('../data/processed/LOC_Butiá_buildings_OSM_2024_L.shp'),\n",
       " WindowsPath('../data/processed/LOC_Cachoeira do Sul_buildings_OSM_2024_L.shp'),\n",
       " WindowsPath('../data/processed/LOC_Cachoeirinha_buildings_OSM_2024_L.shp'),\n",
       " WindowsPath('../data/processed/LOC_Campo Bom_buildings_OSM_2024_L.shp'),\n",
       " WindowsPath('../data/processed/LOC_Candelária_buildings_OSM_2024_L.shp'),\n",
       " WindowsPath('../data/processed/LOC_Canoas_buildings_OSM_2024_L.shp'),\n",
       " WindowsPath('../data/processed/LOC_Capela de Santana_buildings_OSM_2024_L.shp'),\n",
       " WindowsPath('../data/processed/LOC_Caçapava do Sul_buildings_OSM_2024_L.shp'),\n",
       " WindowsPath('../data/processed/LOC_Charqueadas_buildings_OSM_2024_L.shp'),\n",
       " WindowsPath('../data/processed/LOC_Colinas_buildings_OSM_2024_L.shp'),\n",
       " WindowsPath('../data/processed/LOC_Cotiporã_buildings_OSM_2024_L.shp'),\n",
       " WindowsPath('../data/processed/LOC_Cruzeiro do Sul_buildings_OSM_2024_L.shp'),\n",
       " WindowsPath('../data/processed/LOC_Dona Francisca_buildings_OSM_2024_L.shp'),\n",
       " WindowsPath('../data/processed/LOC_Doutor Ricardo_buildings_OSM_2024_L.shp'),\n",
       " WindowsPath('../data/processed/LOC_Eldorado do Sul_buildings_OSM_2024_L.shp'),\n",
       " WindowsPath('../data/processed/LOC_Encantado_buildings_OSM_2024_L.shp'),\n",
       " WindowsPath('../data/processed/LOC_Encruzilhada do Sul_buildings_OSM_2024_L.shp'),\n",
       " WindowsPath('../data/processed/LOC_Esteio_buildings_OSM_2024_L.shp'),\n",
       " WindowsPath('../data/processed/LOC_Estrela_buildings_OSM_2024_L.shp'),\n",
       " WindowsPath('../data/processed/LOC_Faxinal do Soturno_buildings_OSM_2024_L.shp'),\n",
       " WindowsPath('../data/processed/LOC_Formigueiro_buildings_OSM_2024_L.shp'),\n",
       " WindowsPath('../data/processed/LOC_Forquetinha_buildings_OSM_2024_L.shp'),\n",
       " WindowsPath('../data/processed/LOC_General Câmara_buildings_OSM_2024_L.shp'),\n",
       " WindowsPath('../data/processed/LOC_Gravataí_buildings_OSM_2024_L.shp'),\n",
       " WindowsPath('../data/processed/LOC_Guaíba_buildings_OSM_2024_L.shp'),\n",
       " WindowsPath('../data/processed/LOC_Harmonia_buildings_OSM_2024_L.shp'),\n",
       " WindowsPath('../data/processed/LOC_Ibarama_buildings_OSM_2024_L.shp'),\n",
       " WindowsPath('../data/processed/LOC_Ivorá_buildings_OSM_2024_L.shp'),\n",
       " WindowsPath('../data/processed/LOC_Lajeado_buildings_OSM_2024_L.shp'),\n",
       " WindowsPath('../data/processed/LOC_Marques de Souza_buildings_OSM_2024_L.shp'),\n",
       " WindowsPath('../data/processed/LOC_Minas do Leão_buildings_OSM_2024_L.shp'),\n",
       " WindowsPath('../data/processed/LOC_Monte Belo do Sul_buildings_OSM_2024_L.shp'),\n",
       " WindowsPath('../data/processed/LOC_Montenegro_buildings_OSM_2024_L.shp'),\n",
       " WindowsPath('../data/processed/LOC_Muçum_buildings_OSM_2024_L.shp'),\n",
       " WindowsPath('../data/processed/LOC_Nova Palma_buildings_OSM_2024_L.shp'),\n",
       " WindowsPath('../data/processed/LOC_Nova Santa Rita_buildings_OSM_2024_L.shp'),\n",
       " WindowsPath('../data/processed/LOC_Novo Cabrais_buildings_OSM_2024_L.shp'),\n",
       " WindowsPath('../data/processed/LOC_Novo Hamburgo_buildings_OSM_2024_L.shp'),\n",
       " WindowsPath('../data/processed/LOC_Pantano Grande_buildings_OSM_2024_L.shp'),\n",
       " WindowsPath('../data/processed/LOC_Paraíso do Sul_buildings_OSM_2024_L.shp'),\n",
       " WindowsPath('../data/processed/LOC_Pareci Novo_buildings_OSM_2024_L.shp'),\n",
       " WindowsPath('../data/processed/LOC_Passo do Sobrado_buildings_OSM_2024_L.shp'),\n",
       " WindowsPath('../data/processed/LOC_Pinhal Grande_buildings_OSM_2024_L.shp'),\n",
       " WindowsPath('../data/processed/LOC_Pinto Bandeira_buildings_OSM_2024_L.shp'),\n",
       " WindowsPath('../data/processed/LOC_Porto Alegre_buildings_OSM_2024_L.shp'),\n",
       " WindowsPath('../data/processed/LOC_Portão_buildings_OSM_2024_L.shp'),\n",
       " WindowsPath('../data/processed/LOC_Restinga Sêca_buildings_OSM_2024_L.shp'),\n",
       " WindowsPath('../data/processed/LOC_Rio Pardo_buildings_OSM_2024_L.shp'),\n",
       " WindowsPath('../data/processed/LOC_Roca Sales_buildings_OSM_2024_L.shp'),\n",
       " WindowsPath('../data/processed/LOC_Santa Cruz do Sul_buildings_OSM_2024_L.shp'),\n",
       " WindowsPath('../data/processed/LOC_Santa Margarida do Sul_buildings_OSM_2024_L.shp'),\n",
       " WindowsPath('../data/processed/LOC_Santa Maria_buildings_OSM_2024_L.shp'),\n",
       " WindowsPath('../data/processed/LOC_Santa Tereza_buildings_OSM_2024_L.shp'),\n",
       " WindowsPath('../data/processed/LOC_Sapiranga_buildings_OSM_2024_L.shp'),\n",
       " WindowsPath('../data/processed/LOC_Sapucaia do Sul_buildings_OSM_2024_L.shp'),\n",
       " WindowsPath('../data/processed/LOC_São Gabriel_buildings_OSM_2024_L.shp'),\n",
       " WindowsPath('../data/processed/LOC_São Jerônimo_buildings_OSM_2024_L.shp'),\n",
       " WindowsPath('../data/processed/LOC_São João do Polêsine_buildings_OSM_2024_L.shp'),\n",
       " WindowsPath('../data/processed/LOC_São Leopoldo_buildings_OSM_2024_L.shp'),\n",
       " WindowsPath('../data/processed/LOC_São Sebastião do Caí_buildings_OSM_2024_L.shp'),\n",
       " WindowsPath('../data/processed/LOC_São Sepé_buildings_OSM_2024_L.shp'),\n",
       " WindowsPath('../data/processed/LOC_São Valentim do Sul_buildings_OSM_2024_L.shp'),\n",
       " WindowsPath('../data/processed/LOC_Taquari_buildings_OSM_2024_L.shp'),\n",
       " WindowsPath('../data/processed/LOC_Travesseiro_buildings_OSM_2024_L.shp'),\n",
       " WindowsPath('../data/processed/LOC_Triunfo_buildings_OSM_2024_L.shp'),\n",
       " WindowsPath('../data/processed/LOC_Vale do Sol_buildings_OSM_2024_L.shp'),\n",
       " WindowsPath('../data/processed/LOC_Vale Verde_buildings_OSM_2024_L.shp'),\n",
       " WindowsPath('../data/processed/LOC_Venâncio Aires_buildings_OSM_2024_L.shp'),\n",
       " WindowsPath('../data/processed/LOC_Vera Cruz_buildings_OSM_2024_L.shp'),\n",
       " WindowsPath('../data/processed/LOC_Veranópolis_buildings_OSM_2024_L.shp'),\n",
       " WindowsPath('../data/processed/LOC_Vespasiano Corrêa_buildings_OSM_2024_L.shp'),\n",
       " WindowsPath('../data/processed/LOC_Vila Nova do Sul_buildings_OSM_2024_L.shp')]"
      ]
     },
     "execution_count": 21,
     "metadata": {},
     "output_type": "execute_result"
    }
   ],
   "source": [
    "mun_gdf_dict\n",
    "mun_file_list"
   ]
  },
  {
   "cell_type": "code",
   "execution_count": 27,
   "metadata": {},
   "outputs": [
    {
     "data": {
      "text/plain": [
       "<Axes: >"
      ]
     },
     "execution_count": 27,
     "metadata": {},
     "output_type": "execute_result"
    },
    {
     "data": {
      "image/png": "[encoded data removed]",
      "text/plain": [
       "<Figure size 640x480 with 1 Axes>"
      ]
     },
     "metadata": {},
     "output_type": "display_data"
    }
   ],
   "source": [
    "mun_gdf_dict[mun_gdf_list[5]].plot('building') # plot buildings in a municipality"
   ]
  },
  {
   "cell_type": "code",
   "execution_count": 28,
   "metadata": {},
   "outputs": [
    {
     "name": "stdout",
     "output_type": "stream",
     "text": [
      "0 LOC_Agudo_buildings_OSM_2024_L (5777, 5)\n",
      "1 LOC_Alvorada_buildings_OSM_2024_L (11648, 5)\n",
      "2 LOC_Arroio_do_Meio_buildings_OSM_2024_L (11902, 5)\n",
      "3 LOC_Arroio_dos_Ratos_buildings_OSM_2024_L (208, 5)\n",
      "4 LOC_Barra_do_Ribeiro_buildings_OSM_2024_L (2092, 5)\n",
      "5 LOC_Bento_Gonçalves_buildings_OSM_2024_L (16571, 5)\n",
      "6 LOC_Bom_Retiro_do_Sul_buildings_OSM_2024_L (97, 5)\n",
      "7 LOC_Butiá_buildings_OSM_2024_L (275, 5)\n",
      "8 LOC_Cachoeira_do_Sul_buildings_OSM_2024_L (4383, 5)\n",
      "9 LOC_Cachoeirinha_buildings_OSM_2024_L (2571, 5)\n",
      "10 LOC_Campo_Bom_buildings_OSM_2024_L (895, 5)\n",
      "11 LOC_Candelária_buildings_OSM_2024_L (1395, 5)\n",
      "12 LOC_Canoas_buildings_OSM_2024_L (6613, 5)\n",
      "13 LOC_Capela_de_Santana_buildings_OSM_2024_L (1567, 5)\n",
      "14 LOC_Caçapava_do_Sul_buildings_OSM_2024_L (7058, 5)\n",
      "15 LOC_Charqueadas_buildings_OSM_2024_L (108, 5)\n",
      "16 LOC_Colinas_buildings_OSM_2024_L (6526, 5)\n",
      "17 LOC_Cotiporã_buildings_OSM_2024_L (935, 5)\n",
      "18 LOC_Cruzeiro_do_Sul_buildings_OSM_2024_L (5593, 5)\n",
      "19 LOC_Dona_Francisca_buildings_OSM_2024_L (1619, 5)\n",
      "20 LOC_Doutor_Ricardo_buildings_OSM_2024_L (1067, 5)\n",
      "21 LOC_Eldorado_do_Sul_buildings_OSM_2024_L (3653, 5)\n",
      "22 LOC_Encantado_buildings_OSM_2024_L (14854, 5)\n",
      "23 LOC_Encruzilhada_do_Sul_buildings_OSM_2024_L (830, 5)\n",
      "24 LOC_Esteio_buildings_OSM_2024_L (681, 5)\n",
      "25 LOC_Estrela_buildings_OSM_2024_L (6972, 5)\n",
      "26 LOC_Faxinal_do_Soturno_buildings_OSM_2024_L (2079, 5)\n",
      "27 LOC_Formigueiro_buildings_OSM_2024_L (3508, 5)\n",
      "28 LOC_Forquetinha_buildings_OSM_2024_L (1589, 5)\n",
      "29 LOC_General_Câmara_buildings_OSM_2024_L (1282, 5)\n",
      "30 LOC_Gravataí_buildings_OSM_2024_L (16093, 5)\n",
      "31 LOC_Guaíba_buildings_OSM_2024_L (339, 5)\n",
      "32 LOC_Harmonia_buildings_OSM_2024_L (26, 5)\n",
      "33 LOC_Ibarama_buildings_OSM_2024_L (11, 5)\n",
      "34 LOC_Ivorá_buildings_OSM_2024_L (1864, 5)\n",
      "35 LOC_Lajeado_buildings_OSM_2024_L (6882, 5)\n",
      "36 LOC_Marques_de_Souza_buildings_OSM_2024_L (3533, 5)\n",
      "37 LOC_Minas_do_Leão_buildings_OSM_2024_L (225, 5)\n",
      "38 LOC_Monte_Belo_do_Sul_buildings_OSM_2024_L (651, 5)\n",
      "39 LOC_Montenegro_buildings_OSM_2024_L (2017, 5)\n",
      "40 LOC_Muçum_buildings_OSM_2024_L (2641, 5)\n",
      "41 LOC_Nova_Palma_buildings_OSM_2024_L (682, 5)\n",
      "42 LOC_Nova_Santa_Rita_buildings_OSM_2024_L (2045, 5)\n",
      "43 LOC_Novo_Cabrais_buildings_OSM_2024_L (23, 5)\n",
      "44 LOC_Novo_Hamburgo_buildings_OSM_2024_L (4138, 5)\n",
      "45 LOC_Pantano_Grande_buildings_OSM_2024_L (77, 5)\n",
      "46 LOC_Paraíso_do_Sul_buildings_OSM_2024_L (696, 5)\n",
      "47 LOC_Pareci_Novo_buildings_OSM_2024_L (1196, 5)\n",
      "48 LOC_Passo_do_Sobrado_buildings_OSM_2024_L (1523, 5)\n",
      "49 LOC_Pinhal_Grande_buildings_OSM_2024_L (176, 5)\n",
      "50 LOC_Pinto_Bandeira_buildings_OSM_2024_L (9465, 5)\n",
      "51 LOC_Porto_Alegre_buildings_OSM_2024_L (513903, 5)\n",
      "52 LOC_Portão_buildings_OSM_2024_L (203, 5)\n",
      "53 LOC_Restinga_Sêca_buildings_OSM_2024_L (14333, 5)\n",
      "54 LOC_Rio_Pardo_buildings_OSM_2024_L (3078, 5)\n",
      "55 LOC_Roca_Sales_buildings_OSM_2024_L (15271, 5)\n",
      "56 LOC_Santa_Cruz_do_Sul_buildings_OSM_2024_L (6932, 5)\n",
      "57 LOC_Santa_Margarida_do_Sul_buildings_OSM_2024_L (2337, 5)\n",
      "58 LOC_Santa_Maria_buildings_OSM_2024_L (115231, 5)\n",
      "59 LOC_Santa_Tereza_buildings_OSM_2024_L (790, 5)\n",
      "60 LOC_Sapiranga_buildings_OSM_2024_L (519, 5)\n",
      "61 LOC_Sapucaia_do_Sul_buildings_OSM_2024_L (1281, 5)\n",
      "62 LOC_São_Gabriel_buildings_OSM_2024_L (33520, 5)\n",
      "63 LOC_São_Jerônimo_buildings_OSM_2024_L (2109, 5)\n",
      "64 LOC_São_João_do_Polêsine_buildings_OSM_2024_L (1759, 5)\n",
      "65 LOC_São_Leopoldo_buildings_OSM_2024_L (3180, 5)\n",
      "66 LOC_São_Sebastião_do_Caí_buildings_OSM_2024_L (989, 5)\n",
      "67 LOC_São_Sepé_buildings_OSM_2024_L (11788, 5)\n",
      "68 LOC_São_Valentim_do_Sul_buildings_OSM_2024_L (1189, 5)\n",
      "69 LOC_Taquari_buildings_OSM_2024_L (77, 5)\n",
      "70 LOC_Travesseiro_buildings_OSM_2024_L (1248, 5)\n",
      "71 LOC_Triunfo_buildings_OSM_2024_L (3042, 5)\n",
      "72 LOC_Vale_do_Sol_buildings_OSM_2024_L (1211, 5)\n",
      "73 LOC_Vale_Verde_buildings_OSM_2024_L (1249, 5)\n",
      "74 LOC_Venâncio_Aires_buildings_OSM_2024_L (22040, 5)\n",
      "75 LOC_Vera_Cruz_buildings_OSM_2024_L (822, 5)\n",
      "76 LOC_Veranópolis_buildings_OSM_2024_L (2307, 5)\n",
      "77 LOC_Vespasiano_Corrêa_buildings_OSM_2024_L (814, 5)\n",
      "78 LOC_Vila_Nova_do_Sul_buildings_OSM_2024_L (241, 5)\n",
      "['LOC_Agudo_buildings_OSM_2024_L_join', 'LOC_Alvorada_buildings_OSM_2024_L_join', 'LOC_Arroio_do_Meio_buildings_OSM_2024_L_join', 'LOC_Arroio_dos_Ratos_buildings_OSM_2024_L_join', 'LOC_Barra_do_Ribeiro_buildings_OSM_2024_L_join', 'LOC_Bento_Gonçalves_buildings_OSM_2024_L_join', 'LOC_Bom_Retiro_do_Sul_buildings_OSM_2024_L_join', 'LOC_Butiá_buildings_OSM_2024_L_join', 'LOC_Cachoeira_do_Sul_buildings_OSM_2024_L_join', 'LOC_Cachoeirinha_buildings_OSM_2024_L_join', 'LOC_Campo_Bom_buildings_OSM_2024_L_join', 'LOC_Candelária_buildings_OSM_2024_L_join', 'LOC_Canoas_buildings_OSM_2024_L_join', 'LOC_Capela_de_Santana_buildings_OSM_2024_L_join', 'LOC_Caçapava_do_Sul_buildings_OSM_2024_L_join', 'LOC_Charqueadas_buildings_OSM_2024_L_join', 'LOC_Colinas_buildings_OSM_2024_L_join', 'LOC_Cotiporã_buildings_OSM_2024_L_join', 'LOC_Cruzeiro_do_Sul_buildings_OSM_2024_L_join', 'LOC_Dona_Francisca_buildings_OSM_2024_L_join', 'LOC_Doutor_Ricardo_buildings_OSM_2024_L_join', 'LOC_Eldorado_do_Sul_buildings_OSM_2024_L_join', 'LOC_Encantado_buildings_OSM_2024_L_join', 'LOC_Encruzilhada_do_Sul_buildings_OSM_2024_L_join', 'LOC_Esteio_buildings_OSM_2024_L_join', 'LOC_Estrela_buildings_OSM_2024_L_join', 'LOC_Faxinal_do_Soturno_buildings_OSM_2024_L_join', 'LOC_Formigueiro_buildings_OSM_2024_L_join', 'LOC_Forquetinha_buildings_OSM_2024_L_join', 'LOC_General_Câmara_buildings_OSM_2024_L_join', 'LOC_Gravataí_buildings_OSM_2024_L_join', 'LOC_Guaíba_buildings_OSM_2024_L_join', 'LOC_Harmonia_buildings_OSM_2024_L_join', 'LOC_Ibarama_buildings_OSM_2024_L_join', 'LOC_Ivorá_buildings_OSM_2024_L_join', 'LOC_Lajeado_buildings_OSM_2024_L_join', 'LOC_Marques_de_Souza_buildings_OSM_2024_L_join', 'LOC_Minas_do_Leão_buildings_OSM_2024_L_join', 'LOC_Monte_Belo_do_Sul_buildings_OSM_2024_L_join', 'LOC_Montenegro_buildings_OSM_2024_L_join', 'LOC_Muçum_buildings_OSM_2024_L_join', 'LOC_Nova_Palma_buildings_OSM_2024_L_join', 'LOC_Nova_Santa_Rita_buildings_OSM_2024_L_join', 'LOC_Novo_Cabrais_buildings_OSM_2024_L_join', 'LOC_Novo_Hamburgo_buildings_OSM_2024_L_join', 'LOC_Pantano_Grande_buildings_OSM_2024_L_join', 'LOC_Paraíso_do_Sul_buildings_OSM_2024_L_join', 'LOC_Pareci_Novo_buildings_OSM_2024_L_join', 'LOC_Passo_do_Sobrado_buildings_OSM_2024_L_join', 'LOC_Pinhal_Grande_buildings_OSM_2024_L_join', 'LOC_Pinto_Bandeira_buildings_OSM_2024_L_join', 'LOC_Porto_Alegre_buildings_OSM_2024_L_join', 'LOC_Portão_buildings_OSM_2024_L_join', 'LOC_Restinga_Sêca_buildings_OSM_2024_L_join', 'LOC_Rio_Pardo_buildings_OSM_2024_L_join', 'LOC_Roca_Sales_buildings_OSM_2024_L_join', 'LOC_Santa_Cruz_do_Sul_buildings_OSM_2024_L_join', 'LOC_Santa_Margarida_do_Sul_buildings_OSM_2024_L_join', 'LOC_Santa_Maria_buildings_OSM_2024_L_join', 'LOC_Santa_Tereza_buildings_OSM_2024_L_join', 'LOC_Sapiranga_buildings_OSM_2024_L_join', 'LOC_Sapucaia_do_Sul_buildings_OSM_2024_L_join', 'LOC_São_Gabriel_buildings_OSM_2024_L_join', 'LOC_São_Jerônimo_buildings_OSM_2024_L_join', 'LOC_São_João_do_Polêsine_buildings_OSM_2024_L_join', 'LOC_São_Leopoldo_buildings_OSM_2024_L_join', 'LOC_São_Sebastião_do_Caí_buildings_OSM_2024_L_join', 'LOC_São_Sepé_buildings_OSM_2024_L_join', 'LOC_São_Valentim_do_Sul_buildings_OSM_2024_L_join', 'LOC_Taquari_buildings_OSM_2024_L_join', 'LOC_Travesseiro_buildings_OSM_2024_L_join', 'LOC_Triunfo_buildings_OSM_2024_L_join', 'LOC_Vale_do_Sol_buildings_OSM_2024_L_join', 'LOC_Vale_Verde_buildings_OSM_2024_L_join', 'LOC_Venâncio_Aires_buildings_OSM_2024_L_join', 'LOC_Vera_Cruz_buildings_OSM_2024_L_join', 'LOC_Veranópolis_buildings_OSM_2024_L_join', 'LOC_Vespasiano_Corrêa_buildings_OSM_2024_L_join', 'LOC_Vila_Nova_do_Sul_buildings_OSM_2024_L_join']\n"
     ]
    }
   ],
   "source": [
    "joined_gdf_list = []\n",
    "affected_gdf_list = []\n",
    "joined_gdf_dict = {}\n",
    "affected_gdf_dict = {}\n",
    "\n",
    "for i in range(len(mun_gdf_list)):\n",
    "    print(i, mun_gdf_list[i],mun_gdf_dict[mun_gdf_list[i]].shape)\n",
    "    join_gdf_name =  mun_gdf_list[i] + '_join'\n",
    "    joined_gdf_list.append(join_gdf_name)\n",
    "    affected_gdf_name =  mun_gdf_list[i] + '_affected'\n",
    "    affected_gdf_list.append(affected_gdf_name)\n",
    "\n",
    "print(joined_gdf_list)"
   ]
  },
  {
   "cell_type": "code",
   "execution_count": 29,
   "metadata": {},
   "outputs": [],
   "source": [
    "# joining the segments for each municipality\n",
    "\n",
    "for i in range(len(joined_gdf_list)):\n",
    "    joined_gdf_dict[joined_gdf_list[i]] = mun_gdf_dict[mun_gdf_list[i]].sjoin(flood_gdf,how='left')\n",
    "    affected_gdf_dict[affected_gdf_list[i]] = joined_gdf_dict[joined_gdf_list[i]][joined_gdf_dict[joined_gdf_list[i]]['index_right'].notna()] #.dissolve('osmid').reset_index(inplace=True)"
   ]
  }
 ],
 "metadata": {
  "kernelspec": {
   "display_name": "Python 3",
   "language": "python",
   "name": "python3"
  },
  "language_info": {
   "codemirror_mode": {
    "name": "ipython",
    "version": 3
   },
   "file_extension": ".py",
   "mimetype": "text/x-python",
   "name": "python",
   "nbconvert_exporter": "python",
   "pygments_lexer": "ipython3",
   "version": "3.11.9"
  }
 },
 "nbformat": 4,
 "nbformat_minor": 2
}
