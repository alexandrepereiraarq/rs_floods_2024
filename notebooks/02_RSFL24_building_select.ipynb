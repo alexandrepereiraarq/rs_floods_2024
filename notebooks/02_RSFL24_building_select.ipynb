{
 "cells": [
  {
   "cell_type": "code",
   "execution_count": 1,
   "metadata": {},
   "outputs": [],
   "source": [
    "# import packages and libraries\n",
    "\n",
    "#import osmnx as ox\n",
    "import geopandas as gpd\n",
    "from pathlib import Path\n",
    "import folium \n"
   ]
  },
  {
   "cell_type": "markdown",
   "metadata": {},
   "source": [
    "# init\n",
    "@authors: [Alexandre Pereira Santos](alexandre.santos(at)lmu.de) & [Charlotta Mirbach](c.mirbach@lmu.de)\n",
    "\n",
    "## data\n",
    "- maximum flooded area (binarized)\n",
    "- municipalities Rio grande do Sul (Brazil)\n",
    "\n",
    "## tasks\n",
    "- generate polygons for affected municipalities\n",
    "- download OSM building for each affected municipality\n",
    "- identify buildings within flooded area\n",
    "- export to individual municipality buildings datasets\n"
   ]
  },
  {
   "cell_type": "markdown",
   "metadata": {},
   "source": [
    "## functions"
   ]
  },
  {
   "cell_type": "code",
   "execution_count": 2,
   "metadata": {},
   "outputs": [],
   "source": [
    "def osm_import_buildings(roi):\n",
    "    # convert to epsg 4326\n",
    "    roi_coords = roi.to_crs(epsg='4326').envelope\n",
    "\n",
    "    # list key-value pairs for tags\n",
    "    # Wiki url: https://wiki.openstreetmap.org/wiki/Key:building\n",
    "    tags = {'building': True, 'source': True}  # Include 'source' column in tags\n",
    "\n",
    "    # select relevant columns\n",
    "    col_list = ['osmid', 'name', 'source', 'geometry', 'building']  # Include 'source' column in col_list\n",
    "\n",
    "    # load buildings for bbox\n",
    "    buildings = ox.geometries_from_bbox(north=roi_coords.bounds.values[0][3],\n",
    "                                        south=roi_coords.bounds.values[0][1],\n",
    "                                        west=roi_coords.bounds.values[0][0],\n",
    "                                        east=roi_coords.bounds.values[0][2],\n",
    "                                        tags=tags)\n",
    "\n",
    "    buildings.reset_index(inplace=True)\n",
    "\n",
    "    # filter out the wrong geometries (not polygons) and element types (not 'way')\n",
    "    buildings = buildings.loc[(buildings.geometry.type.isin(['Polygon', 'MultiPolygon'])) & (buildings.element_type == 'way'), col_list]\n",
    "\n",
    "    # convert crs to match roi\n",
    "    buildings.to_crs(roi.crs, inplace=True)\n",
    "\n",
    "    # clip geometries to roi\n",
    "    clipped_gdf = gpd.clip(buildings, mask=roi, keep_geom_type=True)\n",
    "    \n",
    "    # return\n",
    "    return clipped_gdf\n"
   ]
  },
  {
   "cell_type": "markdown",
   "metadata": {},
   "source": [
    "## preprocessing"
   ]
  },
  {
   "cell_type": "markdown",
   "metadata": {},
   "source": [
    "### load input data"
   ]
  },
  {
   "cell_type": "code",
   "execution_count": 54,
   "metadata": {},
   "outputs": [
    {
     "name": "stdout",
     "output_type": "stream",
     "text": [
      "Flood CRS: EPSG:32722 , Municipality CRS: EPSG:32722 Buildings CRS: EPSG:32722\n"
     ]
    }
   ],
   "source": [
    "#input flooded area vector \n",
    "flood_path = Path('../data/external/')\n",
    "flood_file = 'HYD_maximum_flood_extent_IPH_UFRGS_20240506_A.shp' \n",
    "flood_gdf = gpd.read_file(flood_path/flood_file)\n",
    "#flood_gdf.drop(['gridcode','area'], axis=1, inplace=True)\n",
    "\n",
    "# import the municipality boundaries\n",
    "mun_path = Path('../data/external/')\n",
    "mun_file = 'LIM_RS_municipalites_2022_A.shp'\n",
    "mun_gdf = gpd.read_file(mun_path/mun_file)\n",
    "mun_gdf = mun_gdf[(mun_gdf['NM_MUN']!='Lagoa dos Patos')]\n",
    "\n",
    "#import building footprints\n",
    "foot_path = Path('../../../Dropbox/x/PostDoc/02 colab and other/24 05 RS Floods/UFRGS/DADOS/Zenodo/V05/')\n",
    "foot_file = 'insumos_googlebuildings_edificacoes_rhguaiba.gpkg'\n",
    "foot_gdf = gpd.read_file(foot_path/foot_file, layer = 'rhguaiba_google_buildings')\n",
    "foot_gdf.to_crs(flood_gdf.crs, inplace=True)\n",
    "\n",
    "print('Flood CRS:', flood_gdf.crs,', Municipality CRS:', mun_gdf.crs, 'Buildings CRS:', foot_gdf.crs)"
   ]
  },
  {
   "cell_type": "code",
   "execution_count": 6,
   "metadata": {},
   "outputs": [],
   "source": [
    "foot_gdf.to_crs(flood_gdf.crs, inplace=True)"
   ]
  },
  {
   "cell_type": "markdown",
   "metadata": {},
   "source": [
    "### joining gdfs"
   ]
  },
  {
   "cell_type": "code",
   "execution_count": 40,
   "metadata": {},
   "outputs": [],
   "source": [
    "join_gdf = foot_gdf.sjoin(mun_gdf, how='inner', predicate=\"within\")\n",
    "join_gdf.drop(['confidence','index_right','SIGLA_UF','AREA_KM2'], axis=1, inplace=True)\n",
    "#affected_mun = join_gdf[join_gdf['index_right'].notna()].dissolve('NM_MUN') #.index_right.dropna(axis=0, subset=['index_right'], inplace=True)\n",
    "#affected_mun.reset_index(inplace=True)\n",
    "#affected_mun"
   ]
  },
  {
   "cell_type": "markdown",
   "metadata": {},
   "source": [
    "### check join consistency"
   ]
  },
  {
   "cell_type": "code",
   "execution_count": 41,
   "metadata": {},
   "outputs": [
    {
     "data": {
      "text/html": [
       "<div>\n",
       "<style scoped>\n",
       "    .dataframe tbody tr th:only-of-type {\n",
       "        vertical-align: middle;\n",
       "    }\n",
       "\n",
       "    .dataframe tbody tr th {\n",
       "        vertical-align: top;\n",
       "    }\n",
       "\n",
       "    .dataframe thead th {\n",
       "        text-align: right;\n",
       "    }\n",
       "</style>\n",
       "<table border=\"1\" class=\"dataframe\">\n",
       "  <thead>\n",
       "    <tr style=\"text-align: right;\">\n",
       "      <th></th>\n",
       "      <th>latitude</th>\n",
       "      <th>longitude</th>\n",
       "      <th>area_in_meters</th>\n",
       "      <th>confidence</th>\n",
       "      <th>full_plus_code</th>\n",
       "      <th>geometry</th>\n",
       "    </tr>\n",
       "  </thead>\n",
       "  <tbody>\n",
       "    <tr>\n",
       "      <th>0</th>\n",
       "      <td>-28.848039</td>\n",
       "      <td>-51.572102</td>\n",
       "      <td>27.0563</td>\n",
       "      <td>0.6875</td>\n",
       "      <td>583C5C2H+Q5JG</td>\n",
       "      <td>POLYGON ((444198.500 6808713.500, 444198.500 6...</td>\n",
       "    </tr>\n",
       "    <tr>\n",
       "      <th>1</th>\n",
       "      <td>-30.026502</td>\n",
       "      <td>-51.051474</td>\n",
       "      <td>84.7454</td>\n",
       "      <td>0.7986</td>\n",
       "      <td>48XCXWFX+9CRX</td>\n",
       "      <td>POLYGON ((495044.173 6678274.812, 495043.362 6...</td>\n",
       "    </tr>\n",
       "    <tr>\n",
       "      <th>2</th>\n",
       "      <td>-28.805628</td>\n",
       "      <td>-51.295699</td>\n",
       "      <td>216.0186</td>\n",
       "      <td>0.8980</td>\n",
       "      <td>583C5PV3+PPVW</td>\n",
       "      <td>POLYGON ((471152.134 6813507.314, 471155.542 6...</td>\n",
       "    </tr>\n",
       "    <tr>\n",
       "      <th>3</th>\n",
       "      <td>-29.346574</td>\n",
       "      <td>-51.385515</td>\n",
       "      <td>7.1515</td>\n",
       "      <td>0.7107</td>\n",
       "      <td>582CMJ37+9QH4</td>\n",
       "      <td>POLYGON ((462577.930 6753555.721, 462575.757 6...</td>\n",
       "    </tr>\n",
       "    <tr>\n",
       "      <th>4</th>\n",
       "      <td>-30.667396</td>\n",
       "      <td>-51.931613</td>\n",
       "      <td>109.6640</td>\n",
       "      <td>0.8104</td>\n",
       "      <td>48XC83M9+29R3</td>\n",
       "      <td>POLYGON ((410755.858 6606894.732, 410746.009 6...</td>\n",
       "    </tr>\n",
       "  </tbody>\n",
       "</table>\n",
       "</div>"
      ],
      "text/plain": [
       "    latitude  longitude  area_in_meters  confidence full_plus_code  \\\n",
       "0 -28.848039 -51.572102         27.0563      0.6875  583C5C2H+Q5JG   \n",
       "1 -30.026502 -51.051474         84.7454      0.7986  48XCXWFX+9CRX   \n",
       "2 -28.805628 -51.295699        216.0186      0.8980  583C5PV3+PPVW   \n",
       "3 -29.346574 -51.385515          7.1515      0.7107  582CMJ37+9QH4   \n",
       "4 -30.667396 -51.931613        109.6640      0.8104  48XC83M9+29R3   \n",
       "\n",
       "                                            geometry  \n",
       "0  POLYGON ((444198.500 6808713.500, 444198.500 6...  \n",
       "1  POLYGON ((495044.173 6678274.812, 495043.362 6...  \n",
       "2  POLYGON ((471152.134 6813507.314, 471155.542 6...  \n",
       "3  POLYGON ((462577.930 6753555.721, 462575.757 6...  \n",
       "4  POLYGON ((410755.858 6606894.732, 410746.009 6...  "
      ]
     },
     "execution_count": 41,
     "metadata": {},
     "output_type": "execute_result"
    }
   ],
   "source": [
    "foot_gdf.head()"
   ]
  },
  {
   "cell_type": "code",
   "execution_count": 42,
   "metadata": {},
   "outputs": [
    {
     "data": {
      "text/html": [
       "<div>\n",
       "<style scoped>\n",
       "    .dataframe tbody tr th:only-of-type {\n",
       "        vertical-align: middle;\n",
       "    }\n",
       "\n",
       "    .dataframe tbody tr th {\n",
       "        vertical-align: top;\n",
       "    }\n",
       "\n",
       "    .dataframe thead th {\n",
       "        text-align: right;\n",
       "    }\n",
       "</style>\n",
       "<table border=\"1\" class=\"dataframe\">\n",
       "  <thead>\n",
       "    <tr style=\"text-align: right;\">\n",
       "      <th></th>\n",
       "      <th>latitude</th>\n",
       "      <th>longitude</th>\n",
       "      <th>area_in_meters</th>\n",
       "      <th>full_plus_code</th>\n",
       "      <th>geometry</th>\n",
       "      <th>CD_MUN</th>\n",
       "      <th>NM_MUN</th>\n",
       "    </tr>\n",
       "  </thead>\n",
       "  <tbody>\n",
       "    <tr>\n",
       "      <th>0</th>\n",
       "      <td>-28.848039</td>\n",
       "      <td>-51.572102</td>\n",
       "      <td>27.0563</td>\n",
       "      <td>583C5C2H+Q5JG</td>\n",
       "      <td>POLYGON ((444198.500 6808713.500, 444198.500 6...</td>\n",
       "      <td>4323309</td>\n",
       "      <td>Vila Flores</td>\n",
       "    </tr>\n",
       "    <tr>\n",
       "      <th>2870</th>\n",
       "      <td>-28.880362</td>\n",
       "      <td>-51.496078</td>\n",
       "      <td>16.7416</td>\n",
       "      <td>583C4G93+VH3G</td>\n",
       "      <td>POLYGON ((451626.273 6805171.279, 451623.739 6...</td>\n",
       "      <td>4323309</td>\n",
       "      <td>Vila Flores</td>\n",
       "    </tr>\n",
       "    <tr>\n",
       "      <th>4275</th>\n",
       "      <td>-28.859079</td>\n",
       "      <td>-51.528961</td>\n",
       "      <td>18.3865</td>\n",
       "      <td>583C4FRC+9C7R</td>\n",
       "      <td>POLYGON ((448410.267 6807509.061, 448411.112 6...</td>\n",
       "      <td>4323309</td>\n",
       "      <td>Vila Flores</td>\n",
       "    </tr>\n",
       "    <tr>\n",
       "      <th>6394</th>\n",
       "      <td>-28.839627</td>\n",
       "      <td>-51.545011</td>\n",
       "      <td>20.6623</td>\n",
       "      <td>583C5F63+4XXW</td>\n",
       "      <td>POLYGON ((446835.882 6809657.594, 446835.618 6...</td>\n",
       "      <td>4323309</td>\n",
       "      <td>Vila Flores</td>\n",
       "    </tr>\n",
       "    <tr>\n",
       "      <th>7671</th>\n",
       "      <td>-28.860752</td>\n",
       "      <td>-51.548561</td>\n",
       "      <td>228.9957</td>\n",
       "      <td>583C4FQ2+MHWR</td>\n",
       "      <td>POLYGON ((446503.439 6807306.307, 446502.770 6...</td>\n",
       "      <td>4323309</td>\n",
       "      <td>Vila Flores</td>\n",
       "    </tr>\n",
       "  </tbody>\n",
       "</table>\n",
       "</div>"
      ],
      "text/plain": [
       "       latitude  longitude  area_in_meters full_plus_code  \\\n",
       "0    -28.848039 -51.572102         27.0563  583C5C2H+Q5JG   \n",
       "2870 -28.880362 -51.496078         16.7416  583C4G93+VH3G   \n",
       "4275 -28.859079 -51.528961         18.3865  583C4FRC+9C7R   \n",
       "6394 -28.839627 -51.545011         20.6623  583C5F63+4XXW   \n",
       "7671 -28.860752 -51.548561        228.9957  583C4FQ2+MHWR   \n",
       "\n",
       "                                               geometry   CD_MUN       NM_MUN  \n",
       "0     POLYGON ((444198.500 6808713.500, 444198.500 6...  4323309  Vila Flores  \n",
       "2870  POLYGON ((451626.273 6805171.279, 451623.739 6...  4323309  Vila Flores  \n",
       "4275  POLYGON ((448410.267 6807509.061, 448411.112 6...  4323309  Vila Flores  \n",
       "6394  POLYGON ((446835.882 6809657.594, 446835.618 6...  4323309  Vila Flores  \n",
       "7671  POLYGON ((446503.439 6807306.307, 446502.770 6...  4323309  Vila Flores  "
      ]
     },
     "execution_count": 42,
     "metadata": {},
     "output_type": "execute_result"
    }
   ],
   "source": [
    "join_gdf.head()"
   ]
  },
  {
   "cell_type": "code",
   "execution_count": 43,
   "metadata": {},
   "outputs": [
    {
     "name": "stdout",
     "output_type": "stream",
     "text": [
      "(5847115, 7) (5857714, 6)\n"
     ]
    }
   ],
   "source": [
    "print(join_gdf.shape, foot_gdf.shape)"
   ]
  },
  {
   "cell_type": "code",
   "execution_count": 45,
   "metadata": {},
   "outputs": [],
   "source": [
    "foot_len = len(foot_gdf.full_plus_code.unique())"
   ]
  },
  {
   "cell_type": "code",
   "execution_count": 46,
   "metadata": {},
   "outputs": [
    {
     "data": {
      "text/plain": [
       "-56"
      ]
     },
     "execution_count": 46,
     "metadata": {},
     "output_type": "execute_result"
    }
   ],
   "source": [
    "foot_len - foot_gdf.shape[0] # full_plus_code is not unique, but repeats in exceptional cases"
   ]
  },
  {
   "cell_type": "code",
   "execution_count": 47,
   "metadata": {},
   "outputs": [
    {
     "data": {
      "text/plain": [
       "count     5847115\n",
       "unique          1\n",
       "top         False\n",
       "freq      5847115\n",
       "Name: full_plus_code, dtype: object"
      ]
     },
     "execution_count": 47,
     "metadata": {},
     "output_type": "execute_result"
    }
   ],
   "source": [
    "join_gdf.full_plus_code.isna().describe() # there are no NA values in the full_plus_code in the joined df, though"
   ]
  },
  {
   "cell_type": "code",
   "execution_count": 48,
   "metadata": {},
   "outputs": [],
   "source": [
    "join_full_len = len(join_gdf.full_plus_code.unique())"
   ]
  },
  {
   "cell_type": "code",
   "execution_count": 49,
   "metadata": {},
   "outputs": [
    {
     "data": {
      "text/plain": [
       "-55"
      ]
     },
     "execution_count": 49,
     "metadata": {},
     "output_type": "execute_result"
    }
   ],
   "source": [
    "join_full_len - join_gdf.shape[0] # full_plus_code repeats in the same way it did for the foot_gdf, minus 1"
   ]
  },
  {
   "cell_type": "code",
   "execution_count": 50,
   "metadata": {},
   "outputs": [
    {
     "name": "stdout",
     "output_type": "stream",
     "text": [
      "there are 10599 less observations in the joined df than in the footprints df this means 0.18094089264173704 %\n"
     ]
    }
   ],
   "source": [
    "print('there are', foot_gdf.shape[0] - join_gdf.shape[0], 'less observations in the joined df than in the footprints df', \n",
    "      'this means', (foot_gdf.shape[0] - join_gdf.shape[0])/foot_gdf.shape[0] * 100, '%')\n",
    "# less than half a percent seems fair enough"
   ]
  },
  {
   "cell_type": "markdown",
   "metadata": {},
   "source": [
    "### identifying buildings within the flooded area"
   ]
  },
  {
   "cell_type": "code",
   "execution_count": 69,
   "metadata": {},
   "outputs": [
    {
     "data": {
      "text/html": [
       "<div>\n",
       "<style scoped>\n",
       "    .dataframe tbody tr th:only-of-type {\n",
       "        vertical-align: middle;\n",
       "    }\n",
       "\n",
       "    .dataframe tbody tr th {\n",
       "        vertical-align: top;\n",
       "    }\n",
       "\n",
       "    .dataframe thead th {\n",
       "        text-align: right;\n",
       "    }\n",
       "</style>\n",
       "<table border=\"1\" class=\"dataframe\">\n",
       "  <thead>\n",
       "    <tr style=\"text-align: right;\">\n",
       "      <th></th>\n",
       "      <th>fid</th>\n",
       "      <th>geometry</th>\n",
       "      <th>flooded</th>\n",
       "    </tr>\n",
       "  </thead>\n",
       "  <tbody>\n",
       "    <tr>\n",
       "      <th>0</th>\n",
       "      <td>1.0</td>\n",
       "      <td>POLYGON ((432485.932 6687734.730, 432400.328 6...</td>\n",
       "      <td>1</td>\n",
       "    </tr>\n",
       "    <tr>\n",
       "      <th>1</th>\n",
       "      <td>2.0</td>\n",
       "      <td>POLYGON ((432400.328 6687309.661, 432485.932 6...</td>\n",
       "      <td>1</td>\n",
       "    </tr>\n",
       "    <tr>\n",
       "      <th>2</th>\n",
       "      <td>3.0</td>\n",
       "      <td>POLYGON ((432203.416 6686331.757, 432096.190 6...</td>\n",
       "      <td>1</td>\n",
       "    </tr>\n",
       "    <tr>\n",
       "      <th>3</th>\n",
       "      <td>4.0</td>\n",
       "      <td>POLYGON ((432096.190 6685799.174, 432203.416 6...</td>\n",
       "      <td>1</td>\n",
       "    </tr>\n",
       "    <tr>\n",
       "      <th>4</th>\n",
       "      <td>5.0</td>\n",
       "      <td>POLYGON ((432080.152 6685719.510, 432082.067 6...</td>\n",
       "      <td>1</td>\n",
       "    </tr>\n",
       "    <tr>\n",
       "      <th>...</th>\n",
       "      <td>...</td>\n",
       "      <td>...</td>\n",
       "      <td>...</td>\n",
       "    </tr>\n",
       "    <tr>\n",
       "      <th>4714</th>\n",
       "      <td>4715.0</td>\n",
       "      <td>POLYGON ((495814.422 6715449.995, 495814.407 6...</td>\n",
       "      <td>1</td>\n",
       "    </tr>\n",
       "    <tr>\n",
       "      <th>4715</th>\n",
       "      <td>4716.0</td>\n",
       "      <td>POLYGON ((496109.812 6715649.104, 496109.798 6...</td>\n",
       "      <td>1</td>\n",
       "    </tr>\n",
       "    <tr>\n",
       "      <th>4716</th>\n",
       "      <td>4717.0</td>\n",
       "      <td>POLYGON ((496613.887 6715569.711, 496613.881 6...</td>\n",
       "      <td>1</td>\n",
       "    </tr>\n",
       "    <tr>\n",
       "      <th>4717</th>\n",
       "      <td>4718.0</td>\n",
       "      <td>POLYGON ((496648.698 6715629.445, 496662.436 6...</td>\n",
       "      <td>1</td>\n",
       "    </tr>\n",
       "    <tr>\n",
       "      <th>4718</th>\n",
       "      <td>4719.0</td>\n",
       "      <td>POLYGON ((496694.453 6715649.292, 496675.008 6...</td>\n",
       "      <td>1</td>\n",
       "    </tr>\n",
       "  </tbody>\n",
       "</table>\n",
       "<p>4719 rows × 3 columns</p>\n",
       "</div>"
      ],
      "text/plain": [
       "         fid                                           geometry  flooded\n",
       "0        1.0  POLYGON ((432485.932 6687734.730, 432400.328 6...        1\n",
       "1        2.0  POLYGON ((432400.328 6687309.661, 432485.932 6...        1\n",
       "2        3.0  POLYGON ((432203.416 6686331.757, 432096.190 6...        1\n",
       "3        4.0  POLYGON ((432096.190 6685799.174, 432203.416 6...        1\n",
       "4        5.0  POLYGON ((432080.152 6685719.510, 432082.067 6...        1\n",
       "...      ...                                                ...      ...\n",
       "4714  4715.0  POLYGON ((495814.422 6715449.995, 495814.407 6...        1\n",
       "4715  4716.0  POLYGON ((496109.812 6715649.104, 496109.798 6...        1\n",
       "4716  4717.0  POLYGON ((496613.887 6715569.711, 496613.881 6...        1\n",
       "4717  4718.0  POLYGON ((496648.698 6715629.445, 496662.436 6...        1\n",
       "4718  4719.0  POLYGON ((496694.453 6715649.292, 496675.008 6...        1\n",
       "\n",
       "[4719 rows x 3 columns]"
      ]
     },
     "execution_count": 69,
     "metadata": {},
     "output_type": "execute_result"
    }
   ],
   "source": [
    "# eliminating unnecessary columns in the flooded area gdf\n",
    "# these columns are all filled with a single value, probably a residue from the previous analyis process\n",
    "flood_gdf.drop(['CD_MUN', 'NM_MUN', 'SIGLA_UF', 'bacia', 'MUN_KM2', 'area_km2'], axis=1, inplace=True)\n",
    "flood_gdf['flooded'] = 1\n",
    "flood_gdf\n"
   ]
  },
  {
   "cell_type": "code",
   "execution_count": 67,
   "metadata": {},
   "outputs": [
    {
     "data": {
      "text/plain": [
       "Index(['fid', 'CD_MUN', 'NM_MUN', 'SIGLA_UF', 'bacia', 'MUN_KM2', 'area_km2',\n",
       "       'geometry'],\n",
       "      dtype='object')"
      ]
     },
     "execution_count": 67,
     "metadata": {},
     "output_type": "execute_result"
    }
   ],
   "source": [
    "flood_gdf.columns"
   ]
  },
  {
   "cell_type": "code",
   "execution_count": null,
   "metadata": {},
   "outputs": [],
   "source": [
    "flooded_join_gdf  = join_gdf.sjoin(flood_gdf, how='left', predicate=\"intersects\")\n"
   ]
  },
  {
   "cell_type": "code",
   "execution_count": 74,
   "metadata": {},
   "outputs": [
    {
     "data": {
      "text/plain": [
       "10"
      ]
     },
     "execution_count": 74,
     "metadata": {},
     "output_type": "execute_result"
    }
   ],
   "source": [
    "flooded_join_gdf.shape[0] - join_gdf.shape[0]"
   ]
  },
  {
   "cell_type": "code",
   "execution_count": null,
   "metadata": {},
   "outputs": [],
   "source": [
    "flooded_join_gdf.head()"
   ]
  },
  {
   "cell_type": "code",
   "execution_count": 75,
   "metadata": {},
   "outputs": [
    {
     "name": "stderr",
     "output_type": "stream",
     "text": [
      "C:\\Users\\ra42zek\\AppData\\Local\\Temp\\ipykernel_35220\\3060645123.py:1: UserWarning: Only specify one of 'column' or 'color'. Using 'color'.\n",
      "  flooded_join_gdf.plot('flooded', color='red')\n"
     ]
    }
   ],
   "source": [
    "flooded_join_gdf.plot(color='red')"
   ]
  },
  {
   "cell_type": "markdown",
   "metadata": {},
   "source": [
    "### export individual shapefiles for the affected municipalities"
   ]
  },
  {
   "cell_type": "code",
   "execution_count": 51,
   "metadata": {},
   "outputs": [
    {
     "data": {
      "text/html": [
       "<div>\n",
       "<style scoped>\n",
       "    .dataframe tbody tr th:only-of-type {\n",
       "        vertical-align: middle;\n",
       "    }\n",
       "\n",
       "    .dataframe tbody tr th {\n",
       "        vertical-align: top;\n",
       "    }\n",
       "\n",
       "    .dataframe thead th {\n",
       "        text-align: right;\n",
       "    }\n",
       "</style>\n",
       "<table border=\"1\" class=\"dataframe\">\n",
       "  <thead>\n",
       "    <tr style=\"text-align: right;\">\n",
       "      <th></th>\n",
       "      <th>NM_MUN</th>\n",
       "      <th>geometry</th>\n",
       "      <th>CD_MUN</th>\n",
       "      <th>AREA_KM2</th>\n",
       "      <th>Id</th>\n",
       "    </tr>\n",
       "  </thead>\n",
       "  <tbody>\n",
       "    <tr>\n",
       "      <th>0</th>\n",
       "      <td>Agudo</td>\n",
       "      <td>POLYGON ((280783.563 6703228.671, 280675.755 6...</td>\n",
       "      <td>4300109</td>\n",
       "      <td>534.624</td>\n",
       "      <td>2.0</td>\n",
       "    </tr>\n",
       "    <tr>\n",
       "      <th>1</th>\n",
       "      <td>Alvorada</td>\n",
       "      <td>POLYGON ((492936.910 6675795.361, 492919.340 6...</td>\n",
       "      <td>4300604</td>\n",
       "      <td>71.700</td>\n",
       "      <td>2.0</td>\n",
       "    </tr>\n",
       "    <tr>\n",
       "      <th>2</th>\n",
       "      <td>Arroio do Meio</td>\n",
       "      <td>POLYGON ((411847.248 6752613.429, 411975.881 6...</td>\n",
       "      <td>4301008</td>\n",
       "      <td>157.088</td>\n",
       "      <td>2.0</td>\n",
       "    </tr>\n",
       "    <tr>\n",
       "      <th>3</th>\n",
       "      <td>Arroio dos Ratos</td>\n",
       "      <td>POLYGON ((421437.093 6668556.192, 421378.385 6...</td>\n",
       "      <td>4301107</td>\n",
       "      <td>425.791</td>\n",
       "      <td>2.0</td>\n",
       "    </tr>\n",
       "    <tr>\n",
       "      <th>4</th>\n",
       "      <td>Barra do Ribeiro</td>\n",
       "      <td>POLYGON ((471898.641 6647458.786, 472204.596 6...</td>\n",
       "      <td>4301909</td>\n",
       "      <td>729.316</td>\n",
       "      <td>2.0</td>\n",
       "    </tr>\n",
       "    <tr>\n",
       "      <th>...</th>\n",
       "      <td>...</td>\n",
       "      <td>...</td>\n",
       "      <td>...</td>\n",
       "      <td>...</td>\n",
       "      <td>...</td>\n",
       "    </tr>\n",
       "    <tr>\n",
       "      <th>74</th>\n",
       "      <td>Venâncio Aires</td>\n",
       "      <td>POLYGON ((384109.019 6717301.324, 383911.476 6...</td>\n",
       "      <td>4322608</td>\n",
       "      <td>772.588</td>\n",
       "      <td>2.0</td>\n",
       "    </tr>\n",
       "    <tr>\n",
       "      <th>75</th>\n",
       "      <td>Vera Cruz</td>\n",
       "      <td>POLYGON ((350157.500 6699362.116, 350034.264 6...</td>\n",
       "      <td>4322707</td>\n",
       "      <td>309.621</td>\n",
       "      <td>2.0</td>\n",
       "    </tr>\n",
       "    <tr>\n",
       "      <th>76</th>\n",
       "      <td>Veranópolis</td>\n",
       "      <td>POLYGON ((444228.397 6786584.884, 443912.133 6...</td>\n",
       "      <td>4322806</td>\n",
       "      <td>289.397</td>\n",
       "      <td>2.0</td>\n",
       "    </tr>\n",
       "    <tr>\n",
       "      <th>77</th>\n",
       "      <td>Vespasiano Corrêa</td>\n",
       "      <td>POLYGON ((424131.410 6781322.209, 423765.510 6...</td>\n",
       "      <td>4322855</td>\n",
       "      <td>113.622</td>\n",
       "      <td>2.0</td>\n",
       "    </tr>\n",
       "    <tr>\n",
       "      <th>78</th>\n",
       "      <td>Vila Nova do Sul</td>\n",
       "      <td>POLYGON ((220300.587 6652041.998, 220323.377 6...</td>\n",
       "      <td>4323457</td>\n",
       "      <td>508.278</td>\n",
       "      <td>2.0</td>\n",
       "    </tr>\n",
       "  </tbody>\n",
       "</table>\n",
       "<p>79 rows × 5 columns</p>\n",
       "</div>"
      ],
      "text/plain": [
       "               NM_MUN                                           geometry  \\\n",
       "0               Agudo  POLYGON ((280783.563 6703228.671, 280675.755 6...   \n",
       "1            Alvorada  POLYGON ((492936.910 6675795.361, 492919.340 6...   \n",
       "2      Arroio do Meio  POLYGON ((411847.248 6752613.429, 411975.881 6...   \n",
       "3    Arroio dos Ratos  POLYGON ((421437.093 6668556.192, 421378.385 6...   \n",
       "4    Barra do Ribeiro  POLYGON ((471898.641 6647458.786, 472204.596 6...   \n",
       "..                ...                                                ...   \n",
       "74     Venâncio Aires  POLYGON ((384109.019 6717301.324, 383911.476 6...   \n",
       "75          Vera Cruz  POLYGON ((350157.500 6699362.116, 350034.264 6...   \n",
       "76        Veranópolis  POLYGON ((444228.397 6786584.884, 443912.133 6...   \n",
       "77  Vespasiano Corrêa  POLYGON ((424131.410 6781322.209, 423765.510 6...   \n",
       "78   Vila Nova do Sul  POLYGON ((220300.587 6652041.998, 220323.377 6...   \n",
       "\n",
       "     CD_MUN  AREA_KM2   Id  \n",
       "0   4300109   534.624  2.0  \n",
       "1   4300604    71.700  2.0  \n",
       "2   4301008   157.088  2.0  \n",
       "3   4301107   425.791  2.0  \n",
       "4   4301909   729.316  2.0  \n",
       "..      ...       ...  ...  \n",
       "74  4322608   772.588  2.0  \n",
       "75  4322707   309.621  2.0  \n",
       "76  4322806   289.397  2.0  \n",
       "77  4322855   113.622  2.0  \n",
       "78  4323457   508.278  2.0  \n",
       "\n",
       "[79 rows x 5 columns]"
      ]
     },
     "execution_count": 51,
     "metadata": {},
     "output_type": "execute_result"
    }
   ],
   "source": [
    "join_mun_gdf = mun_gdf.sjoin(flood_gdf,how='left',)\n",
    "affected_mun = join_mun_gdf[join_mun_gdf['index_right'].notna()].dissolve('NM_MUN') #.index_right.dropna(axis=0, subset=['index_right'], inplace=True)\n",
    "affected_mun.reset_index(inplace=True)\n",
    "affected_mun.drop(['index_right','SIGLA_UF'], axis=1, inplace=True)\n",
    "affected_mun"
   ]
  },
  {
   "cell_type": "code",
   "execution_count": 52,
   "metadata": {},
   "outputs": [
    {
     "name": "stderr",
     "output_type": "stream",
     "text": [
      "C:\\Users\\ra42zek\\AppData\\Local\\Temp\\ipykernel_35220\\2897680422.py:14: UserWarning: Column names longer than 10 characters will be truncated when saved to ESRI Shapefile.\n",
      "  mun_buildings.to_file(AOI_path / foot_file)\n",
      "C:\\Users\\ra42zek\\AppData\\Local\\Temp\\ipykernel_35220\\2897680422.py:14: UserWarning: Column names longer than 10 characters will be truncated when saved to ESRI Shapefile.\n",
      "  mun_buildings.to_file(AOI_path / foot_file)\n",
      "C:\\Users\\ra42zek\\AppData\\Local\\Temp\\ipykernel_35220\\2897680422.py:14: UserWarning: Column names longer than 10 characters will be truncated when saved to ESRI Shapefile.\n",
      "  mun_buildings.to_file(AOI_path / foot_file)\n"
     ]
    },
    {
     "ename": "KeyboardInterrupt",
     "evalue": "",
     "output_type": "error",
     "traceback": [
      "\u001b[1;31m---------------------------------------------------------------------------\u001b[0m",
      "\u001b[1;31mKeyboardInterrupt\u001b[0m                         Traceback (most recent call last)",
      "Cell \u001b[1;32mIn[52], line 11\u001b[0m\n\u001b[0;32m      8\u001b[0m \u001b[38;5;28;01mfor\u001b[39;00m mun \u001b[38;5;129;01min\u001b[39;00m affected_mun\u001b[38;5;241m.\u001b[39miloc[\u001b[38;5;241m0\u001b[39m:\u001b[38;5;241m9\u001b[39m]\u001b[38;5;241m.\u001b[39miterrows():\n\u001b[0;32m      9\u001b[0m     \u001b[38;5;66;03m#print(mun[1].geometry)\u001b[39;00m\n\u001b[0;32m     10\u001b[0m     roi_gdf \u001b[38;5;241m=\u001b[39m gpd\u001b[38;5;241m.\u001b[39mGeoDataFrame(geometry\u001b[38;5;241m=\u001b[39m[mun[\u001b[38;5;241m1\u001b[39m]\u001b[38;5;241m.\u001b[39mgeometry],crs\u001b[38;5;241m=\u001b[39mmun_gdf\u001b[38;5;241m.\u001b[39mcrs)\n\u001b[1;32m---> 11\u001b[0m     mun_buildings \u001b[38;5;241m=\u001b[39m \u001b[43mjoin_gdf\u001b[49m\u001b[38;5;241;43m.\u001b[39;49m\u001b[43mclip\u001b[49m\u001b[43m(\u001b[49m\u001b[43mroi_gdf\u001b[49m\u001b[43m)\u001b[49m\n\u001b[0;32m     12\u001b[0m     foot_file \u001b[38;5;241m=\u001b[39m \u001b[38;5;124m'\u001b[39m\u001b[38;5;124mTRA_\u001b[39m\u001b[38;5;124m'\u001b[39m \u001b[38;5;241m+\u001b[39m mun[\u001b[38;5;241m1\u001b[39m]\u001b[38;5;241m.\u001b[39mNM_MUN \u001b[38;5;241m+\u001b[39m \u001b[38;5;124m'\u001b[39m\u001b[38;5;124m_roads_OSM_2024_L.shp\u001b[39m\u001b[38;5;124m'\u001b[39m\n\u001b[0;32m     13\u001b[0m     mun_file_list\u001b[38;5;241m.\u001b[39mappend(foot_file)\n",
      "File \u001b[1;32m~\\AppData\\Local\\Packages\\PythonSoftwareFoundation.Python.3.11_qbz5n2kfra8p0\\LocalCache\\local-packages\\Python311\\site-packages\\geopandas\\geodataframe.py:2379\u001b[0m, in \u001b[0;36mGeoDataFrame.clip\u001b[1;34m(self, mask, keep_geom_type)\u001b[0m\n\u001b[0;32m   2326\u001b[0m \u001b[38;5;28;01mdef\u001b[39;00m \u001b[38;5;21mclip\u001b[39m(\u001b[38;5;28mself\u001b[39m, mask, keep_geom_type\u001b[38;5;241m=\u001b[39m\u001b[38;5;28;01mFalse\u001b[39;00m):\n\u001b[0;32m   2327\u001b[0m \u001b[38;5;250m    \u001b[39m\u001b[38;5;124;03m\"\"\"Clip points, lines, or polygon geometries to the mask extent.\u001b[39;00m\n\u001b[0;32m   2328\u001b[0m \n\u001b[0;32m   2329\u001b[0m \u001b[38;5;124;03m    Both layers must be in the same Coordinate Reference System (CRS).\u001b[39;00m\n\u001b[1;32m   (...)\u001b[0m\n\u001b[0;32m   2377\u001b[0m \u001b[38;5;124;03m    (7, 8)\u001b[39;00m\n\u001b[0;32m   2378\u001b[0m \u001b[38;5;124;03m    \"\"\"\u001b[39;00m\n\u001b[1;32m-> 2379\u001b[0m     \u001b[38;5;28;01mreturn\u001b[39;00m \u001b[43mgeopandas\u001b[49m\u001b[38;5;241;43m.\u001b[39;49m\u001b[43mclip\u001b[49m\u001b[43m(\u001b[49m\u001b[38;5;28;43mself\u001b[39;49m\u001b[43m,\u001b[49m\u001b[43m \u001b[49m\u001b[43mmask\u001b[49m\u001b[38;5;241;43m=\u001b[39;49m\u001b[43mmask\u001b[49m\u001b[43m,\u001b[49m\u001b[43m \u001b[49m\u001b[43mkeep_geom_type\u001b[49m\u001b[38;5;241;43m=\u001b[39;49m\u001b[43mkeep_geom_type\u001b[49m\u001b[43m)\u001b[49m\n",
      "File \u001b[1;32m~\\AppData\\Local\\Packages\\PythonSoftwareFoundation.Python.3.11_qbz5n2kfra8p0\\LocalCache\\local-packages\\Python311\\site-packages\\geopandas\\tools\\clip.py:180\u001b[0m, in \u001b[0;36mclip\u001b[1;34m(gdf, mask, keep_geom_type)\u001b[0m\n\u001b[0;32m    174\u001b[0m \u001b[38;5;28;01melse\u001b[39;00m:\n\u001b[0;32m    175\u001b[0m     \u001b[38;5;66;03m# Avoid empty tuple returned by .bounds when geometry is empty. A tuple of\u001b[39;00m\n\u001b[0;32m    176\u001b[0m     \u001b[38;5;66;03m# all nan values is consistent with the behavior of\u001b[39;00m\n\u001b[0;32m    177\u001b[0m     \u001b[38;5;66;03m# {GeoSeries, GeoDataFrame}.total_bounds for empty geometries.\u001b[39;00m\n\u001b[0;32m    178\u001b[0m     \u001b[38;5;66;03m# TODO(shapely) can simpely use mask.bounds once relying on Shapely 2.0\u001b[39;00m\n\u001b[0;32m    179\u001b[0m     box_mask \u001b[38;5;241m=\u001b[39m mask\u001b[38;5;241m.\u001b[39mbounds \u001b[38;5;28;01mif\u001b[39;00m \u001b[38;5;129;01mnot\u001b[39;00m mask\u001b[38;5;241m.\u001b[39mis_empty \u001b[38;5;28;01melse\u001b[39;00m (np\u001b[38;5;241m.\u001b[39mnan,) \u001b[38;5;241m*\u001b[39m \u001b[38;5;241m4\u001b[39m\n\u001b[1;32m--> 180\u001b[0m box_gdf \u001b[38;5;241m=\u001b[39m \u001b[43mgdf\u001b[49m\u001b[38;5;241;43m.\u001b[39;49m\u001b[43mtotal_bounds\u001b[49m\n\u001b[0;32m    181\u001b[0m \u001b[38;5;28;01mif\u001b[39;00m \u001b[38;5;129;01mnot\u001b[39;00m (\n\u001b[0;32m    182\u001b[0m     ((box_mask[\u001b[38;5;241m0\u001b[39m] \u001b[38;5;241m<\u001b[39m\u001b[38;5;241m=\u001b[39m box_gdf[\u001b[38;5;241m2\u001b[39m]) \u001b[38;5;129;01mand\u001b[39;00m (box_gdf[\u001b[38;5;241m0\u001b[39m] \u001b[38;5;241m<\u001b[39m\u001b[38;5;241m=\u001b[39m box_mask[\u001b[38;5;241m2\u001b[39m]))\n\u001b[0;32m    183\u001b[0m     \u001b[38;5;129;01mand\u001b[39;00m ((box_mask[\u001b[38;5;241m1\u001b[39m] \u001b[38;5;241m<\u001b[39m\u001b[38;5;241m=\u001b[39m box_gdf[\u001b[38;5;241m3\u001b[39m]) \u001b[38;5;129;01mand\u001b[39;00m (box_gdf[\u001b[38;5;241m1\u001b[39m] \u001b[38;5;241m<\u001b[39m\u001b[38;5;241m=\u001b[39m box_mask[\u001b[38;5;241m3\u001b[39m]))\n\u001b[0;32m    184\u001b[0m ):\n\u001b[0;32m    185\u001b[0m     \u001b[38;5;28;01mreturn\u001b[39;00m gdf\u001b[38;5;241m.\u001b[39miloc[:\u001b[38;5;241m0\u001b[39m]\n",
      "File \u001b[1;32m~\\AppData\\Local\\Packages\\PythonSoftwareFoundation.Python.3.11_qbz5n2kfra8p0\\LocalCache\\local-packages\\Python311\\site-packages\\geopandas\\base.py:3495\u001b[0m, in \u001b[0;36mGeoPandasBase.total_bounds\u001b[1;34m(self)\u001b[0m\n\u001b[0;32m   3478\u001b[0m \u001b[38;5;129m@property\u001b[39m\n\u001b[0;32m   3479\u001b[0m \u001b[38;5;28;01mdef\u001b[39;00m \u001b[38;5;21mtotal_bounds\u001b[39m(\u001b[38;5;28mself\u001b[39m):\n\u001b[0;32m   3480\u001b[0m \u001b[38;5;250m    \u001b[39m\u001b[38;5;124;03m\"\"\"Returns a tuple containing ``minx``, ``miny``, ``maxx``, ``maxy``\u001b[39;00m\n\u001b[0;32m   3481\u001b[0m \u001b[38;5;124;03m    values for the bounds of the series as a whole.\u001b[39;00m\n\u001b[0;32m   3482\u001b[0m \n\u001b[1;32m   (...)\u001b[0m\n\u001b[0;32m   3493\u001b[0m \u001b[38;5;124;03m    array([ 0., -1.,  3.,  2.])\u001b[39;00m\n\u001b[0;32m   3494\u001b[0m \u001b[38;5;124;03m    \"\"\"\u001b[39;00m\n\u001b[1;32m-> 3495\u001b[0m     \u001b[38;5;28;01mreturn\u001b[39;00m \u001b[43mGeometryArray\u001b[49m\u001b[43m(\u001b[49m\u001b[38;5;28;43mself\u001b[39;49m\u001b[38;5;241;43m.\u001b[39;49m\u001b[43mgeometry\u001b[49m\u001b[38;5;241;43m.\u001b[39;49m\u001b[43mvalues\u001b[49m\u001b[43m)\u001b[49m\u001b[38;5;241;43m.\u001b[39;49m\u001b[43mtotal_bounds\u001b[49m\n",
      "File \u001b[1;32m~\\AppData\\Local\\Packages\\PythonSoftwareFoundation.Python.3.11_qbz5n2kfra8p0\\LocalCache\\local-packages\\Python311\\site-packages\\geopandas\\array.py:1016\u001b[0m, in \u001b[0;36mGeometryArray.total_bounds\u001b[1;34m(self)\u001b[0m\n\u001b[0;32m   1012\u001b[0m \u001b[38;5;28;01mif\u001b[39;00m \u001b[38;5;28mlen\u001b[39m(\u001b[38;5;28mself\u001b[39m) \u001b[38;5;241m==\u001b[39m \u001b[38;5;241m0\u001b[39m:\n\u001b[0;32m   1013\u001b[0m     \u001b[38;5;66;03m# numpy 'min' cannot handle empty arrays\u001b[39;00m\n\u001b[0;32m   1014\u001b[0m     \u001b[38;5;66;03m# TODO with numpy >= 1.15, the 'initial' argument can be used\u001b[39;00m\n\u001b[0;32m   1015\u001b[0m     \u001b[38;5;28;01mreturn\u001b[39;00m np\u001b[38;5;241m.\u001b[39marray([np\u001b[38;5;241m.\u001b[39mnan, np\u001b[38;5;241m.\u001b[39mnan, np\u001b[38;5;241m.\u001b[39mnan, np\u001b[38;5;241m.\u001b[39mnan])\n\u001b[1;32m-> 1016\u001b[0m b \u001b[38;5;241m=\u001b[39m \u001b[38;5;28;43mself\u001b[39;49m\u001b[38;5;241;43m.\u001b[39;49m\u001b[43mbounds\u001b[49m\n\u001b[0;32m   1017\u001b[0m \u001b[38;5;28;01mreturn\u001b[39;00m np\u001b[38;5;241m.\u001b[39marray(\n\u001b[0;32m   1018\u001b[0m     (\n\u001b[0;32m   1019\u001b[0m         np\u001b[38;5;241m.\u001b[39mnanmin(b[:, \u001b[38;5;241m0\u001b[39m]),  \u001b[38;5;66;03m# minx\u001b[39;00m\n\u001b[1;32m   (...)\u001b[0m\n\u001b[0;32m   1023\u001b[0m     )\n\u001b[0;32m   1024\u001b[0m )\n",
      "File \u001b[1;32m~\\AppData\\Local\\Packages\\PythonSoftwareFoundation.Python.3.11_qbz5n2kfra8p0\\LocalCache\\local-packages\\Python311\\site-packages\\geopandas\\array.py:1008\u001b[0m, in \u001b[0;36mGeometryArray.bounds\u001b[1;34m(self)\u001b[0m\n\u001b[0;32m   1006\u001b[0m \u001b[38;5;129m@property\u001b[39m\n\u001b[0;32m   1007\u001b[0m \u001b[38;5;28;01mdef\u001b[39;00m \u001b[38;5;21mbounds\u001b[39m(\u001b[38;5;28mself\u001b[39m):\n\u001b[1;32m-> 1008\u001b[0m     \u001b[38;5;28;01mreturn\u001b[39;00m \u001b[43mvectorized\u001b[49m\u001b[38;5;241;43m.\u001b[39;49m\u001b[43mbounds\u001b[49m\u001b[43m(\u001b[49m\u001b[38;5;28;43mself\u001b[39;49m\u001b[38;5;241;43m.\u001b[39;49m\u001b[43m_data\u001b[49m\u001b[43m)\u001b[49m\n",
      "File \u001b[1;32m~\\AppData\\Local\\Packages\\PythonSoftwareFoundation.Python.3.11_qbz5n2kfra8p0\\LocalCache\\local-packages\\Python311\\site-packages\\geopandas\\_vectorized.py:1253\u001b[0m, in \u001b[0;36mbounds\u001b[1;34m(data)\u001b[0m\n\u001b[0;32m   1251\u001b[0m \u001b[38;5;28;01mdef\u001b[39;00m \u001b[38;5;21mbounds\u001b[39m(data):\n\u001b[0;32m   1252\u001b[0m     \u001b[38;5;28;01mif\u001b[39;00m compat\u001b[38;5;241m.\u001b[39mUSE_SHAPELY_20:\n\u001b[1;32m-> 1253\u001b[0m         \u001b[38;5;28;01mreturn\u001b[39;00m \u001b[43mshapely\u001b[49m\u001b[38;5;241;43m.\u001b[39;49m\u001b[43mbounds\u001b[49m\u001b[43m(\u001b[49m\u001b[43mdata\u001b[49m\u001b[43m)\u001b[49m\n\u001b[0;32m   1254\u001b[0m     \u001b[38;5;28;01melif\u001b[39;00m compat\u001b[38;5;241m.\u001b[39mUSE_PYGEOS:\n\u001b[0;32m   1255\u001b[0m         \u001b[38;5;28;01mreturn\u001b[39;00m pygeos\u001b[38;5;241m.\u001b[39mbounds(data)\n",
      "File \u001b[1;32m~\\AppData\\Local\\Packages\\PythonSoftwareFoundation.Python.3.11_qbz5n2kfra8p0\\LocalCache\\local-packages\\Python311\\site-packages\\shapely\\decorators.py:77\u001b[0m, in \u001b[0;36mmultithreading_enabled.<locals>.wrapped\u001b[1;34m(*args, **kwargs)\u001b[0m\n\u001b[0;32m     75\u001b[0m     \u001b[38;5;28;01mfor\u001b[39;00m arr \u001b[38;5;129;01min\u001b[39;00m array_args:\n\u001b[0;32m     76\u001b[0m         arr\u001b[38;5;241m.\u001b[39mflags\u001b[38;5;241m.\u001b[39mwriteable \u001b[38;5;241m=\u001b[39m \u001b[38;5;28;01mFalse\u001b[39;00m\n\u001b[1;32m---> 77\u001b[0m     \u001b[38;5;28;01mreturn\u001b[39;00m \u001b[43mfunc\u001b[49m\u001b[43m(\u001b[49m\u001b[38;5;241;43m*\u001b[39;49m\u001b[43margs\u001b[49m\u001b[43m,\u001b[49m\u001b[43m \u001b[49m\u001b[38;5;241;43m*\u001b[39;49m\u001b[38;5;241;43m*\u001b[39;49m\u001b[43mkwargs\u001b[49m\u001b[43m)\u001b[49m\n\u001b[0;32m     78\u001b[0m \u001b[38;5;28;01mfinally\u001b[39;00m:\n\u001b[0;32m     79\u001b[0m     \u001b[38;5;28;01mfor\u001b[39;00m arr, old_flag \u001b[38;5;129;01min\u001b[39;00m \u001b[38;5;28mzip\u001b[39m(array_args, old_flags):\n",
      "File \u001b[1;32m~\\AppData\\Local\\Packages\\PythonSoftwareFoundation.Python.3.11_qbz5n2kfra8p0\\LocalCache\\local-packages\\Python311\\site-packages\\shapely\\measurement.py:103\u001b[0m, in \u001b[0;36mbounds\u001b[1;34m(geometry, **kwargs)\u001b[0m\n\u001b[0;32m    101\u001b[0m geometry_arr \u001b[38;5;241m=\u001b[39m np\u001b[38;5;241m.\u001b[39masarray(geometry, dtype\u001b[38;5;241m=\u001b[39mnp\u001b[38;5;241m.\u001b[39mobject_)\n\u001b[0;32m    102\u001b[0m out \u001b[38;5;241m=\u001b[39m np\u001b[38;5;241m.\u001b[39mempty(geometry_arr\u001b[38;5;241m.\u001b[39mshape \u001b[38;5;241m+\u001b[39m (\u001b[38;5;241m4\u001b[39m,), dtype\u001b[38;5;241m=\u001b[39m\u001b[38;5;124m\"\u001b[39m\u001b[38;5;124mfloat64\u001b[39m\u001b[38;5;124m\"\u001b[39m)\n\u001b[1;32m--> 103\u001b[0m \u001b[38;5;28;01mreturn\u001b[39;00m \u001b[43mlib\u001b[49m\u001b[38;5;241;43m.\u001b[39;49m\u001b[43mbounds\u001b[49m\u001b[43m(\u001b[49m\u001b[43mgeometry_arr\u001b[49m\u001b[43m,\u001b[49m\u001b[43m \u001b[49m\u001b[43mout\u001b[49m\u001b[38;5;241;43m=\u001b[39;49m\u001b[43mout\u001b[49m\u001b[43m,\u001b[49m\u001b[43m \u001b[49m\u001b[38;5;241;43m*\u001b[39;49m\u001b[38;5;241;43m*\u001b[39;49m\u001b[43mkwargs\u001b[49m\u001b[43m)\u001b[49m\n",
      "\u001b[1;31mKeyboardInterrupt\u001b[0m: "
     ]
    }
   ],
   "source": [
    "#setting the environment\n",
    "\n",
    "AOI_path = Path('../data/processed/')\n",
    "mun_file_list = []\n",
    "\n",
    "# clipping the buildings to each affected municipality and saving it to a shapefile\n",
    "\n",
    "for mun in affected_mun.iloc[0:9].iterrows():\n",
    "    #print(mun[1].geometry)\n",
    "    roi_gdf = gpd.GeoDataFrame(geometry=[mun[1].geometry],crs=mun_gdf.crs)\n",
    "    mun_buildings = join_gdf.clip(roi_gdf)\n",
    "    foot_file = 'URB_' + mun[1].NM_MUN + '_affected_buildings_A.shp'\n",
    "    mun_file_list.append(foot_file)\n",
    "    mun_buildings.to_file(AOI_path / foot_file)"
   ]
  }
 ],
 "metadata": {
  "kernelspec": {
   "display_name": "Python 3",
   "language": "python",
   "name": "python3"
  },
  "language_info": {
   "codemirror_mode": {
    "name": "ipython",
    "version": 3
   },
   "file_extension": ".py",
   "mimetype": "text/x-python",
   "name": "python",
   "nbconvert_exporter": "python",
   "pygments_lexer": "ipython3",
   "version": "3.11.9"
  }
 },
 "nbformat": 4,
 "nbformat_minor": 2
}
